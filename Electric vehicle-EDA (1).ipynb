{
 "cells": [
  {
   "cell_type": "code",
   "execution_count": 51,
   "id": "babe1cf6",
   "metadata": {},
   "outputs": [],
   "source": [
    "#Import required libraries\n",
    "import pandas as pd\n",
    "import numpy as np\n",
    "import seaborn as sns\n",
    "import matplotlib.pyplot as plt\n",
    "from sklearn.impute import SimpleImputer\n",
    "import plotly.express as px\n",
    "import warnings\n",
    "warnings.filterwarnings('ignore')"
   ]
  },
  {
   "cell_type": "code",
   "execution_count": 52,
   "id": "e771ae2a",
   "metadata": {},
   "outputs": [
    {
     "data": {
      "text/html": [
       "<div>\n",
       "<style scoped>\n",
       "    .dataframe tbody tr th:only-of-type {\n",
       "        vertical-align: middle;\n",
       "    }\n",
       "\n",
       "    .dataframe tbody tr th {\n",
       "        vertical-align: top;\n",
       "    }\n",
       "\n",
       "    .dataframe thead th {\n",
       "        text-align: right;\n",
       "    }\n",
       "</style>\n",
       "<table border=\"1\" class=\"dataframe\">\n",
       "  <thead>\n",
       "    <tr style=\"text-align: right;\">\n",
       "      <th></th>\n",
       "      <th>VIN (1-10)</th>\n",
       "      <th>County</th>\n",
       "      <th>City</th>\n",
       "      <th>State</th>\n",
       "      <th>Postal Code</th>\n",
       "      <th>Model Year</th>\n",
       "      <th>Make</th>\n",
       "      <th>Model</th>\n",
       "      <th>Electric Vehicle Type</th>\n",
       "      <th>Clean Alternative Fuel Vehicle (CAFV) Eligibility</th>\n",
       "      <th>Electric Range</th>\n",
       "      <th>Base MSRP</th>\n",
       "      <th>Legislative District</th>\n",
       "      <th>DOL Vehicle ID</th>\n",
       "      <th>Vehicle Location</th>\n",
       "      <th>Electric Utility</th>\n",
       "      <th>2020 Census Tract</th>\n",
       "    </tr>\n",
       "  </thead>\n",
       "  <tbody>\n",
       "    <tr>\n",
       "      <th>0</th>\n",
       "      <td>JTMEB3FV6N</td>\n",
       "      <td>Monroe</td>\n",
       "      <td>Key West</td>\n",
       "      <td>FL</td>\n",
       "      <td>33040</td>\n",
       "      <td>2022</td>\n",
       "      <td>TOYOTA</td>\n",
       "      <td>RAV4 PRIME</td>\n",
       "      <td>Plug-in Hybrid Electric Vehicle (PHEV)</td>\n",
       "      <td>Clean Alternative Fuel Vehicle Eligible</td>\n",
       "      <td>42</td>\n",
       "      <td>0</td>\n",
       "      <td>NaN</td>\n",
       "      <td>198968248</td>\n",
       "      <td>POINT (-81.80023 24.5545)</td>\n",
       "      <td>NaN</td>\n",
       "      <td>12087972100</td>\n",
       "    </tr>\n",
       "    <tr>\n",
       "      <th>1</th>\n",
       "      <td>1G1RD6E45D</td>\n",
       "      <td>Clark</td>\n",
       "      <td>Laughlin</td>\n",
       "      <td>NV</td>\n",
       "      <td>89029</td>\n",
       "      <td>2013</td>\n",
       "      <td>CHEVROLET</td>\n",
       "      <td>VOLT</td>\n",
       "      <td>Plug-in Hybrid Electric Vehicle (PHEV)</td>\n",
       "      <td>Clean Alternative Fuel Vehicle Eligible</td>\n",
       "      <td>38</td>\n",
       "      <td>0</td>\n",
       "      <td>NaN</td>\n",
       "      <td>5204412</td>\n",
       "      <td>POINT (-114.57245 35.16815)</td>\n",
       "      <td>NaN</td>\n",
       "      <td>32003005702</td>\n",
       "    </tr>\n",
       "    <tr>\n",
       "      <th>2</th>\n",
       "      <td>JN1AZ0CP8B</td>\n",
       "      <td>Yakima</td>\n",
       "      <td>Yakima</td>\n",
       "      <td>WA</td>\n",
       "      <td>98901</td>\n",
       "      <td>2011</td>\n",
       "      <td>NISSAN</td>\n",
       "      <td>LEAF</td>\n",
       "      <td>Battery Electric Vehicle (BEV)</td>\n",
       "      <td>Clean Alternative Fuel Vehicle Eligible</td>\n",
       "      <td>73</td>\n",
       "      <td>0</td>\n",
       "      <td>15.0</td>\n",
       "      <td>218972519</td>\n",
       "      <td>POINT (-120.50721 46.60448)</td>\n",
       "      <td>PACIFICORP</td>\n",
       "      <td>53077001602</td>\n",
       "    </tr>\n",
       "    <tr>\n",
       "      <th>3</th>\n",
       "      <td>1G1FW6S08H</td>\n",
       "      <td>Skagit</td>\n",
       "      <td>Concrete</td>\n",
       "      <td>WA</td>\n",
       "      <td>98237</td>\n",
       "      <td>2017</td>\n",
       "      <td>CHEVROLET</td>\n",
       "      <td>BOLT EV</td>\n",
       "      <td>Battery Electric Vehicle (BEV)</td>\n",
       "      <td>Clean Alternative Fuel Vehicle Eligible</td>\n",
       "      <td>238</td>\n",
       "      <td>0</td>\n",
       "      <td>39.0</td>\n",
       "      <td>186750406</td>\n",
       "      <td>POINT (-121.7515 48.53892)</td>\n",
       "      <td>PUGET SOUND ENERGY INC</td>\n",
       "      <td>53057951101</td>\n",
       "    </tr>\n",
       "    <tr>\n",
       "      <th>4</th>\n",
       "      <td>3FA6P0SU1K</td>\n",
       "      <td>Snohomish</td>\n",
       "      <td>Everett</td>\n",
       "      <td>WA</td>\n",
       "      <td>98201</td>\n",
       "      <td>2019</td>\n",
       "      <td>FORD</td>\n",
       "      <td>FUSION</td>\n",
       "      <td>Plug-in Hybrid Electric Vehicle (PHEV)</td>\n",
       "      <td>Not eligible due to low battery range</td>\n",
       "      <td>26</td>\n",
       "      <td>0</td>\n",
       "      <td>38.0</td>\n",
       "      <td>2006714</td>\n",
       "      <td>POINT (-122.20596 47.97659)</td>\n",
       "      <td>PUGET SOUND ENERGY INC</td>\n",
       "      <td>53061041500</td>\n",
       "    </tr>\n",
       "  </tbody>\n",
       "</table>\n",
       "</div>"
      ],
      "text/plain": [
       "   VIN (1-10)     County      City State  Postal Code  Model Year       Make  \\\n",
       "0  JTMEB3FV6N     Monroe  Key West    FL        33040        2022     TOYOTA   \n",
       "1  1G1RD6E45D      Clark  Laughlin    NV        89029        2013  CHEVROLET   \n",
       "2  JN1AZ0CP8B     Yakima    Yakima    WA        98901        2011     NISSAN   \n",
       "3  1G1FW6S08H     Skagit  Concrete    WA        98237        2017  CHEVROLET   \n",
       "4  3FA6P0SU1K  Snohomish   Everett    WA        98201        2019       FORD   \n",
       "\n",
       "        Model                   Electric Vehicle Type  \\\n",
       "0  RAV4 PRIME  Plug-in Hybrid Electric Vehicle (PHEV)   \n",
       "1        VOLT  Plug-in Hybrid Electric Vehicle (PHEV)   \n",
       "2        LEAF          Battery Electric Vehicle (BEV)   \n",
       "3     BOLT EV          Battery Electric Vehicle (BEV)   \n",
       "4      FUSION  Plug-in Hybrid Electric Vehicle (PHEV)   \n",
       "\n",
       "  Clean Alternative Fuel Vehicle (CAFV) Eligibility  Electric Range  \\\n",
       "0           Clean Alternative Fuel Vehicle Eligible              42   \n",
       "1           Clean Alternative Fuel Vehicle Eligible              38   \n",
       "2           Clean Alternative Fuel Vehicle Eligible              73   \n",
       "3           Clean Alternative Fuel Vehicle Eligible             238   \n",
       "4             Not eligible due to low battery range              26   \n",
       "\n",
       "   Base MSRP  Legislative District  DOL Vehicle ID  \\\n",
       "0          0                   NaN       198968248   \n",
       "1          0                   NaN         5204412   \n",
       "2          0                  15.0       218972519   \n",
       "3          0                  39.0       186750406   \n",
       "4          0                  38.0         2006714   \n",
       "\n",
       "              Vehicle Location        Electric Utility  2020 Census Tract  \n",
       "0    POINT (-81.80023 24.5545)                     NaN        12087972100  \n",
       "1  POINT (-114.57245 35.16815)                     NaN        32003005702  \n",
       "2  POINT (-120.50721 46.60448)              PACIFICORP        53077001602  \n",
       "3   POINT (-121.7515 48.53892)  PUGET SOUND ENERGY INC        53057951101  \n",
       "4  POINT (-122.20596 47.97659)  PUGET SOUND ENERGY INC        53061041500  "
      ]
     },
     "execution_count": 52,
     "metadata": {},
     "output_type": "execute_result"
    }
   ],
   "source": [
    "#Reading the .csv file\n",
    "df=pd.read_csv(r\"C:\\Users\\seela\\genai,ds internship\\EDA Assignments\\ELECTRIC VEHICLE DATASET.csv\")\n",
    "df.head()"
   ]
  },
  {
   "cell_type": "code",
   "execution_count": 53,
   "id": "e4ec4e8d",
   "metadata": {},
   "outputs": [
    {
     "name": "stdout",
     "output_type": "stream",
     "text": [
      "The Number of rows : 112634\n",
      "The Number of columns : 17\n"
     ]
    }
   ],
   "source": [
    "#shape of the data\n",
    "shape=df.shape\n",
    "print(\"The Number of rows : {}\".format(shape[0]))\n",
    "print(\"The Number of columns : {}\".format(shape[1]))\n",
    "\n"
   ]
  },
  {
   "cell_type": "code",
   "execution_count": 54,
   "id": "9f3b6b20",
   "metadata": {},
   "outputs": [
    {
     "name": "stdout",
     "output_type": "stream",
     "text": [
      "<class 'pandas.core.frame.DataFrame'>\n",
      "RangeIndex: 112634 entries, 0 to 112633\n",
      "Data columns (total 17 columns):\n",
      " #   Column                                             Non-Null Count   Dtype  \n",
      "---  ------                                             --------------   -----  \n",
      " 0   VIN (1-10)                                         112634 non-null  object \n",
      " 1   County                                             112634 non-null  object \n",
      " 2   City                                               112634 non-null  object \n",
      " 3   State                                              112634 non-null  object \n",
      " 4   Postal Code                                        112634 non-null  int64  \n",
      " 5   Model Year                                         112634 non-null  int64  \n",
      " 6   Make                                               112634 non-null  object \n",
      " 7   Model                                              112614 non-null  object \n",
      " 8   Electric Vehicle Type                              112634 non-null  object \n",
      " 9   Clean Alternative Fuel Vehicle (CAFV) Eligibility  112634 non-null  object \n",
      " 10  Electric Range                                     112634 non-null  int64  \n",
      " 11  Base MSRP                                          112634 non-null  int64  \n",
      " 12  Legislative District                               112348 non-null  float64\n",
      " 13  DOL Vehicle ID                                     112634 non-null  int64  \n",
      " 14  Vehicle Location                                   112610 non-null  object \n",
      " 15  Electric Utility                                   112191 non-null  object \n",
      " 16  2020 Census Tract                                  112634 non-null  int64  \n",
      "dtypes: float64(1), int64(6), object(10)\n",
      "memory usage: 14.6+ MB\n"
     ]
    }
   ],
   "source": [
    "# Information about the data\n",
    "df.info()"
   ]
  },
  {
   "cell_type": "markdown",
   "id": "03a470b4",
   "metadata": {},
   "source": [
    "# Exploratory data Analysis"
   ]
  },
  {
   "cell_type": "markdown",
   "id": "ed8454cd",
   "metadata": {},
   "source": [
    "Getting the insights from the data which includes :\n",
    "\n",
    "- Missing values.\n",
    "- Duplicated Values.\n",
    "- Outliers.\n",
    "- Relationships.\n",
    "- Distributions."
   ]
  },
  {
   "cell_type": "code",
   "execution_count": 55,
   "id": "728e4ad8",
   "metadata": {},
   "outputs": [
    {
     "data": {
      "text/plain": [
       "VIN (1-10)                                             0\n",
       "County                                                 0\n",
       "City                                                   0\n",
       "State                                                  0\n",
       "Postal Code                                            0\n",
       "Model Year                                             0\n",
       "Make                                                   0\n",
       "Model                                                 20\n",
       "Electric Vehicle Type                                  0\n",
       "Clean Alternative Fuel Vehicle (CAFV) Eligibility      0\n",
       "Electric Range                                         0\n",
       "Base MSRP                                              0\n",
       "Legislative District                                 286\n",
       "DOL Vehicle ID                                         0\n",
       "Vehicle Location                                      24\n",
       "Electric Utility                                     443\n",
       "2020 Census Tract                                      0\n",
       "dtype: int64"
      ]
     },
     "execution_count": 55,
     "metadata": {},
     "output_type": "execute_result"
    }
   ],
   "source": [
    "# Checking the Missing values\n",
    "df.isna().sum()"
   ]
  },
  {
   "cell_type": "markdown",
   "id": "c54c7cd1",
   "metadata": {},
   "source": [
    "Insights:\n",
    "- There are 20 missing values in Model column.\n",
    "- 286 missing values in Legislative District.\n",
    "- 443 Missing values in Electric Utility.\n"
   ]
  },
  {
   "cell_type": "code",
   "execution_count": 56,
   "id": "66b32be8",
   "metadata": {},
   "outputs": [
    {
     "data": {
      "text/plain": [
       "0"
      ]
     },
     "execution_count": 56,
     "metadata": {},
     "output_type": "execute_result"
    }
   ],
   "source": [
    "# Checking the Duplicated values\n",
    "df.duplicated().sum()\n"
   ]
  },
  {
   "cell_type": "markdown",
   "id": "51fb73cc",
   "metadata": {},
   "source": [
    "\n",
    "Insights:\n",
    "- There are no duplicated values in the data."
   ]
  },
  {
   "cell_type": "code",
   "execution_count": 57,
   "id": "c8d0bc43",
   "metadata": {},
   "outputs": [
    {
     "data": {
      "image/png": "[encoded data removed]",
      "text/plain": [
       "<Figure size 800x600 with 1 Axes>"
      ]
     },
     "metadata": {},
     "output_type": "display_data"
    },
    {
     "data": {
      "image/png": "[encoded data removed]",
      "text/plain": [
       "<Figure size 800x600 with 1 Axes>"
      ]
     },
     "metadata": {},
     "output_type": "display_data"
    },
    {
     "data": {
      "image/png": "[encoded data removed]",
      "text/plain": [
       "<Figure size 800x600 with 1 Axes>"
      ]
     },
     "metadata": {},
     "output_type": "display_data"
    }
   ],
   "source": [
    "# Checking the outliers\n",
    "plt.figure(figsize=(8,6))\n",
    "sns.boxplot(x=df[\"Electric Range\"])\n",
    "plt.title(\"Boxplot for Electric Range\")\n",
    "plt.show()\n",
    "\n",
    "plt.figure(figsize=(8,6))\n",
    "sns.boxplot(x=df[\"DOL Vehicle ID\"])\n",
    "plt.title(\"Boxplot for DOL Vehicle ID \")\n",
    "plt.show\n",
    "\n",
    "plt.figure(figsize=(8,6))\n",
    "sns.boxplot(x=df[\"Base MSRP\"])\n",
    "plt.title(\"Boxplot for Base MSRP\")\n",
    "plt.show()"
   ]
  },
  {
   "cell_type": "markdown",
   "id": "6db40b94",
   "metadata": {},
   "source": [
    "# Imputing the missing values"
   ]
  },
  {
   "cell_type": "code",
   "execution_count": 58,
   "id": "b56d8c91",
   "metadata": {},
   "outputs": [],
   "source": [
    "\n",
    "Missing_columns=[\"Model\",\"Legislative District\",\"2020 Census Tract\"]\n",
    "SIM=SimpleImputer(strategy=\"most_frequent\")"
   ]
  },
  {
   "cell_type": "code",
   "execution_count": 59,
   "id": "c742e5f2",
   "metadata": {},
   "outputs": [
    {
     "data": {
      "text/plain": [
       "0"
      ]
     },
     "execution_count": 59,
     "metadata": {},
     "output_type": "execute_result"
    }
   ],
   "source": [
    "df[[\"Model\"]]=SIM.fit_transform(df[[\"Model\"]])\n",
    "df[\"Model\"].isna().sum()"
   ]
  },
  {
   "cell_type": "code",
   "execution_count": 60,
   "id": "17a1e748",
   "metadata": {},
   "outputs": [
    {
     "data": {
      "image/png": "[encoded data removed]",
      "text/plain": [
       "<Figure size 640x480 with 1 Axes>"
      ]
     },
     "metadata": {},
     "output_type": "display_data"
    }
   ],
   "source": [
    "df[[\"Legislative District\",\"2020 Census Tract\"]].boxplot()\n",
    "plt.show()"
   ]
  },
  {
   "cell_type": "code",
   "execution_count": 61,
   "id": "95daada4",
   "metadata": {},
   "outputs": [
    {
     "data": {
      "text/plain": [
       "0"
      ]
     },
     "execution_count": 61,
     "metadata": {},
     "output_type": "execute_result"
    }
   ],
   "source": [
    "SIM=SimpleImputer(strategy=\"mean\")\n",
    "df[[\"2020 Census Tract\"]]=SIM.fit_transform(df[[\"2020 Census Tract\"]])\n",
    "df[\"2020 Census Tract\"].isna().sum()"
   ]
  },
  {
   "cell_type": "code",
   "execution_count": 62,
   "id": "c9c7deba",
   "metadata": {},
   "outputs": [
    {
     "data": {
      "text/plain": [
       "0"
      ]
     },
     "execution_count": 62,
     "metadata": {},
     "output_type": "execute_result"
    }
   ],
   "source": [
    "SIM=SimpleImputer(strategy=\"median\")\n",
    "df[[\"Legislative District\"]]=SIM.fit_transform(df[[\"Legislative District\"]])\n",
    "df[\"Legislative District\"].isna().sum()\n"
   ]
  },
  {
   "cell_type": "markdown",
   "id": "ab08ad1c",
   "metadata": {},
   "source": [
    "# Univariate Analysis\n",
    "Analysing the data using single feature.\n"
   ]
  },
  {
   "cell_type": "code",
   "execution_count": 63,
   "id": "66f05ce2",
   "metadata": {},
   "outputs": [
    {
     "data": {
      "text/plain": [
       "Index(['VIN (1-10)', 'County', 'City', 'State', 'Postal Code', 'Model Year',\n",
       "       'Make', 'Model', 'Electric Vehicle Type',\n",
       "       'Clean Alternative Fuel Vehicle (CAFV) Eligibility', 'Electric Range',\n",
       "       'Base MSRP', 'Legislative District', 'DOL Vehicle ID',\n",
       "       'Vehicle Location', 'Electric Utility', '2020 Census Tract'],\n",
       "      dtype='object')"
      ]
     },
     "execution_count": 63,
     "metadata": {},
     "output_type": "execute_result"
    }
   ],
   "source": [
    "df.columns"
   ]
  },
  {
   "cell_type": "code",
   "execution_count": 64,
   "id": "a369e70a",
   "metadata": {},
   "outputs": [
    {
     "data": {
      "image/png": "[encoded data removed]",
      "text/plain": [
       "<Figure size 640x480 with 1 Axes>"
      ]
     },
     "metadata": {},
     "output_type": "display_data"
    }
   ],
   "source": [
    "#What is the distribution of Electric Range?\n",
    "sns.kdeplot(x=df[\"Electric Range\"])\n",
    "plt.title(\"Distribution of Electric Range\")\n",
    "plt.grid()\n",
    "plt.show()\n"
   ]
  },
  {
   "cell_type": "markdown",
   "id": "d7844095",
   "metadata": {},
   "source": [
    "Insights:\n",
    "- In between 0 to 45 the electric range density is more compared to 5 to 100.\n",
    "- Above 350 the electric range is decreasing.\n"
   ]
  },
  {
   "cell_type": "code",
   "execution_count": 65,
   "id": "19950287",
   "metadata": {},
   "outputs": [
    {
     "data": {
      "text/html": [
       "<div>\n",
       "<style scoped>\n",
       "    .dataframe tbody tr th:only-of-type {\n",
       "        vertical-align: middle;\n",
       "    }\n",
       "\n",
       "    .dataframe tbody tr th {\n",
       "        vertical-align: top;\n",
       "    }\n",
       "\n",
       "    .dataframe thead th {\n",
       "        text-align: right;\n",
       "    }\n",
       "</style>\n",
       "<table border=\"1\" class=\"dataframe\">\n",
       "  <thead>\n",
       "    <tr style=\"text-align: right;\">\n",
       "      <th></th>\n",
       "      <th>count</th>\n",
       "    </tr>\n",
       "    <tr>\n",
       "      <th>City</th>\n",
       "      <th></th>\n",
       "    </tr>\n",
       "  </thead>\n",
       "  <tbody>\n",
       "    <tr>\n",
       "      <th>Seattle</th>\n",
       "      <td>20305</td>\n",
       "    </tr>\n",
       "    <tr>\n",
       "      <th>Bellevue</th>\n",
       "      <td>5921</td>\n",
       "    </tr>\n",
       "    <tr>\n",
       "      <th>Redmond</th>\n",
       "      <td>4201</td>\n",
       "    </tr>\n",
       "    <tr>\n",
       "      <th>Vancouver</th>\n",
       "      <td>4013</td>\n",
       "    </tr>\n",
       "    <tr>\n",
       "      <th>Kirkland</th>\n",
       "      <td>3598</td>\n",
       "    </tr>\n",
       "    <tr>\n",
       "      <th>...</th>\n",
       "      <td>...</td>\n",
       "    </tr>\n",
       "    <tr>\n",
       "      <th>Hartline</th>\n",
       "      <td>1</td>\n",
       "    </tr>\n",
       "    <tr>\n",
       "      <th>Gaithersburg</th>\n",
       "      <td>1</td>\n",
       "    </tr>\n",
       "    <tr>\n",
       "      <th>El Paso</th>\n",
       "      <td>1</td>\n",
       "    </tr>\n",
       "    <tr>\n",
       "      <th>Klickitat</th>\n",
       "      <td>1</td>\n",
       "    </tr>\n",
       "    <tr>\n",
       "      <th>Worley</th>\n",
       "      <td>1</td>\n",
       "    </tr>\n",
       "  </tbody>\n",
       "</table>\n",
       "<p>629 rows × 1 columns</p>\n",
       "</div>"
      ],
      "text/plain": [
       "              count\n",
       "City               \n",
       "Seattle       20305\n",
       "Bellevue       5921\n",
       "Redmond        4201\n",
       "Vancouver      4013\n",
       "Kirkland       3598\n",
       "...             ...\n",
       "Hartline          1\n",
       "Gaithersburg      1\n",
       "El Paso           1\n",
       "Klickitat         1\n",
       "Worley            1\n",
       "\n",
       "[629 rows x 1 columns]"
      ]
     },
     "execution_count": 65,
     "metadata": {},
     "output_type": "execute_result"
    }
   ],
   "source": [
    "#Distribution of City?\n",
    "d1=pd.DataFrame(df[\"City\"].value_counts())\n",
    "d1"
   ]
  },
  {
   "cell_type": "code",
   "execution_count": 66,
   "id": "5ed10629",
   "metadata": {},
   "outputs": [
    {
     "data": {
      "image/png": "[encoded data removed]",
      "text/plain": [
       "<Figure size 640x480 with 1 Axes>"
      ]
     },
     "metadata": {},
     "output_type": "display_data"
    }
   ],
   "source": [
    "sns.barplot(x=d1.index[:7], y=d1[\"count\"][:7])  # Remove 'hue' if not needed\n",
    "plt.title(\"Distribution of city\")\n",
    "plt.xticks(rotation=90)\n",
    "plt.show()\n"
   ]
  },
  {
   "cell_type": "markdown",
   "id": "c80a17c3",
   "metadata": {},
   "source": [
    "Insights:\n",
    "- Seattle is ranked more in distribution of cities.\n",
    "- Worley is less compared to other cities."
   ]
  },
  {
   "cell_type": "code",
   "execution_count": 67,
   "id": "cae2d547",
   "metadata": {},
   "outputs": [
    {
     "data": {
      "text/html": [
       "<div>\n",
       "<style scoped>\n",
       "    .dataframe tbody tr th:only-of-type {\n",
       "        vertical-align: middle;\n",
       "    }\n",
       "\n",
       "    .dataframe tbody tr th {\n",
       "        vertical-align: top;\n",
       "    }\n",
       "\n",
       "    .dataframe thead th {\n",
       "        text-align: right;\n",
       "    }\n",
       "</style>\n",
       "<table border=\"1\" class=\"dataframe\">\n",
       "  <thead>\n",
       "    <tr style=\"text-align: right;\">\n",
       "      <th></th>\n",
       "      <th>count</th>\n",
       "    </tr>\n",
       "    <tr>\n",
       "      <th>Make</th>\n",
       "      <th></th>\n",
       "    </tr>\n",
       "  </thead>\n",
       "  <tbody>\n",
       "    <tr>\n",
       "      <th>TESLA</th>\n",
       "      <td>52078</td>\n",
       "    </tr>\n",
       "    <tr>\n",
       "      <th>NISSAN</th>\n",
       "      <td>12880</td>\n",
       "    </tr>\n",
       "    <tr>\n",
       "      <th>CHEVROLET</th>\n",
       "      <td>10182</td>\n",
       "    </tr>\n",
       "    <tr>\n",
       "      <th>FORD</th>\n",
       "      <td>5819</td>\n",
       "    </tr>\n",
       "    <tr>\n",
       "      <th>BMW</th>\n",
       "      <td>4680</td>\n",
       "    </tr>\n",
       "    <tr>\n",
       "      <th>KIA</th>\n",
       "      <td>4483</td>\n",
       "    </tr>\n",
       "    <tr>\n",
       "      <th>TOYOTA</th>\n",
       "      <td>4405</td>\n",
       "    </tr>\n",
       "    <tr>\n",
       "      <th>VOLKSWAGEN</th>\n",
       "      <td>2514</td>\n",
       "    </tr>\n",
       "    <tr>\n",
       "      <th>AUDI</th>\n",
       "      <td>2332</td>\n",
       "    </tr>\n",
       "    <tr>\n",
       "      <th>VOLVO</th>\n",
       "      <td>2288</td>\n",
       "    </tr>\n",
       "    <tr>\n",
       "      <th>CHRYSLER</th>\n",
       "      <td>1794</td>\n",
       "    </tr>\n",
       "    <tr>\n",
       "      <th>HYUNDAI</th>\n",
       "      <td>1412</td>\n",
       "    </tr>\n",
       "    <tr>\n",
       "      <th>JEEP</th>\n",
       "      <td>1152</td>\n",
       "    </tr>\n",
       "    <tr>\n",
       "      <th>RIVIAN</th>\n",
       "      <td>885</td>\n",
       "    </tr>\n",
       "    <tr>\n",
       "      <th>FIAT</th>\n",
       "      <td>822</td>\n",
       "    </tr>\n",
       "    <tr>\n",
       "      <th>PORSCHE</th>\n",
       "      <td>818</td>\n",
       "    </tr>\n",
       "    <tr>\n",
       "      <th>HONDA</th>\n",
       "      <td>792</td>\n",
       "    </tr>\n",
       "    <tr>\n",
       "      <th>MINI</th>\n",
       "      <td>632</td>\n",
       "    </tr>\n",
       "    <tr>\n",
       "      <th>MITSUBISHI</th>\n",
       "      <td>588</td>\n",
       "    </tr>\n",
       "    <tr>\n",
       "      <th>POLESTAR</th>\n",
       "      <td>558</td>\n",
       "    </tr>\n",
       "    <tr>\n",
       "      <th>MERCEDES-BENZ</th>\n",
       "      <td>506</td>\n",
       "    </tr>\n",
       "    <tr>\n",
       "      <th>SMART</th>\n",
       "      <td>273</td>\n",
       "    </tr>\n",
       "    <tr>\n",
       "      <th>JAGUAR</th>\n",
       "      <td>219</td>\n",
       "    </tr>\n",
       "    <tr>\n",
       "      <th>LINCOLN</th>\n",
       "      <td>168</td>\n",
       "    </tr>\n",
       "    <tr>\n",
       "      <th>CADILLAC</th>\n",
       "      <td>108</td>\n",
       "    </tr>\n",
       "    <tr>\n",
       "      <th>LUCID MOTORS</th>\n",
       "      <td>65</td>\n",
       "    </tr>\n",
       "    <tr>\n",
       "      <th>SUBARU</th>\n",
       "      <td>59</td>\n",
       "    </tr>\n",
       "    <tr>\n",
       "      <th>LAND ROVER</th>\n",
       "      <td>38</td>\n",
       "    </tr>\n",
       "    <tr>\n",
       "      <th>LEXUS</th>\n",
       "      <td>33</td>\n",
       "    </tr>\n",
       "    <tr>\n",
       "      <th>FISKER</th>\n",
       "      <td>20</td>\n",
       "    </tr>\n",
       "    <tr>\n",
       "      <th>GENESIS</th>\n",
       "      <td>18</td>\n",
       "    </tr>\n",
       "    <tr>\n",
       "      <th>AZURE DYNAMICS</th>\n",
       "      <td>7</td>\n",
       "    </tr>\n",
       "    <tr>\n",
       "      <th>TH!NK</th>\n",
       "      <td>3</td>\n",
       "    </tr>\n",
       "    <tr>\n",
       "      <th>BENTLEY</th>\n",
       "      <td>3</td>\n",
       "    </tr>\n",
       "  </tbody>\n",
       "</table>\n",
       "</div>"
      ],
      "text/plain": [
       "                count\n",
       "Make                 \n",
       "TESLA           52078\n",
       "NISSAN          12880\n",
       "CHEVROLET       10182\n",
       "FORD             5819\n",
       "BMW              4680\n",
       "KIA              4483\n",
       "TOYOTA           4405\n",
       "VOLKSWAGEN       2514\n",
       "AUDI             2332\n",
       "VOLVO            2288\n",
       "CHRYSLER         1794\n",
       "HYUNDAI          1412\n",
       "JEEP             1152\n",
       "RIVIAN            885\n",
       "FIAT              822\n",
       "PORSCHE           818\n",
       "HONDA             792\n",
       "MINI              632\n",
       "MITSUBISHI        588\n",
       "POLESTAR          558\n",
       "MERCEDES-BENZ     506\n",
       "SMART             273\n",
       "JAGUAR            219\n",
       "LINCOLN           168\n",
       "CADILLAC          108\n",
       "LUCID MOTORS       65\n",
       "SUBARU             59\n",
       "LAND ROVER         38\n",
       "LEXUS              33\n",
       "FISKER             20\n",
       "GENESIS            18\n",
       "AZURE DYNAMICS      7\n",
       "TH!NK               3\n",
       "BENTLEY             3"
      ]
     },
     "execution_count": 67,
     "metadata": {},
     "output_type": "execute_result"
    }
   ],
   "source": [
    "#Distribution of Make?\n",
    "d2=pd.DataFrame(df[\"Make\"].value_counts())\n",
    "d2\n"
   ]
  },
  {
   "cell_type": "code",
   "execution_count": 68,
   "id": "fecf209f",
   "metadata": {},
   "outputs": [
    {
     "data": {
      "image/png": "[encoded data removed]",
      "text/plain": [
       "<Figure size 640x480 with 1 Axes>"
      ]
     },
     "metadata": {},
     "output_type": "display_data"
    }
   ],
   "source": [
    "plt.pie(x=d2[\"count\"][:5],labels=d2.index[:5],autopct=\"%0.2f\")\n",
    "plt.show()\n"
   ]
  },
  {
   "cell_type": "markdown",
   "id": "01d2378d",
   "metadata": {},
   "source": [
    "Insights:\n",
    "- Tesla has the highest propotion in the make compared to others.\n"
   ]
  },
  {
   "cell_type": "code",
   "execution_count": 69,
   "id": "1ac2cf0c",
   "metadata": {},
   "outputs": [
    {
     "data": {
      "text/html": [
       "<div>\n",
       "<style scoped>\n",
       "    .dataframe tbody tr th:only-of-type {\n",
       "        vertical-align: middle;\n",
       "    }\n",
       "\n",
       "    .dataframe tbody tr th {\n",
       "        vertical-align: top;\n",
       "    }\n",
       "\n",
       "    .dataframe thead th {\n",
       "        text-align: right;\n",
       "    }\n",
       "</style>\n",
       "<table border=\"1\" class=\"dataframe\">\n",
       "  <thead>\n",
       "    <tr style=\"text-align: right;\">\n",
       "      <th></th>\n",
       "      <th>count</th>\n",
       "    </tr>\n",
       "    <tr>\n",
       "      <th>State</th>\n",
       "      <th></th>\n",
       "    </tr>\n",
       "  </thead>\n",
       "  <tbody>\n",
       "    <tr>\n",
       "      <th>WA</th>\n",
       "      <td>112348</td>\n",
       "    </tr>\n",
       "    <tr>\n",
       "      <th>CA</th>\n",
       "      <td>76</td>\n",
       "    </tr>\n",
       "    <tr>\n",
       "      <th>VA</th>\n",
       "      <td>36</td>\n",
       "    </tr>\n",
       "    <tr>\n",
       "      <th>MD</th>\n",
       "      <td>26</td>\n",
       "    </tr>\n",
       "    <tr>\n",
       "      <th>TX</th>\n",
       "      <td>14</td>\n",
       "    </tr>\n",
       "    <tr>\n",
       "      <th>CO</th>\n",
       "      <td>9</td>\n",
       "    </tr>\n",
       "    <tr>\n",
       "      <th>NV</th>\n",
       "      <td>8</td>\n",
       "    </tr>\n",
       "    <tr>\n",
       "      <th>GA</th>\n",
       "      <td>7</td>\n",
       "    </tr>\n",
       "    <tr>\n",
       "      <th>NC</th>\n",
       "      <td>7</td>\n",
       "    </tr>\n",
       "    <tr>\n",
       "      <th>CT</th>\n",
       "      <td>6</td>\n",
       "    </tr>\n",
       "    <tr>\n",
       "      <th>DC</th>\n",
       "      <td>6</td>\n",
       "    </tr>\n",
       "    <tr>\n",
       "      <th>FL</th>\n",
       "      <td>6</td>\n",
       "    </tr>\n",
       "    <tr>\n",
       "      <th>AZ</th>\n",
       "      <td>6</td>\n",
       "    </tr>\n",
       "    <tr>\n",
       "      <th>IL</th>\n",
       "      <td>6</td>\n",
       "    </tr>\n",
       "    <tr>\n",
       "      <th>SC</th>\n",
       "      <td>5</td>\n",
       "    </tr>\n",
       "    <tr>\n",
       "      <th>OR</th>\n",
       "      <td>5</td>\n",
       "    </tr>\n",
       "    <tr>\n",
       "      <th>NE</th>\n",
       "      <td>5</td>\n",
       "    </tr>\n",
       "    <tr>\n",
       "      <th>HI</th>\n",
       "      <td>4</td>\n",
       "    </tr>\n",
       "    <tr>\n",
       "      <th>UT</th>\n",
       "      <td>4</td>\n",
       "    </tr>\n",
       "    <tr>\n",
       "      <th>AR</th>\n",
       "      <td>4</td>\n",
       "    </tr>\n",
       "    <tr>\n",
       "      <th>NY</th>\n",
       "      <td>4</td>\n",
       "    </tr>\n",
       "    <tr>\n",
       "      <th>TN</th>\n",
       "      <td>3</td>\n",
       "    </tr>\n",
       "    <tr>\n",
       "      <th>KS</th>\n",
       "      <td>3</td>\n",
       "    </tr>\n",
       "    <tr>\n",
       "      <th>MO</th>\n",
       "      <td>3</td>\n",
       "    </tr>\n",
       "    <tr>\n",
       "      <th>PA</th>\n",
       "      <td>3</td>\n",
       "    </tr>\n",
       "    <tr>\n",
       "      <th>MA</th>\n",
       "      <td>3</td>\n",
       "    </tr>\n",
       "    <tr>\n",
       "      <th>LA</th>\n",
       "      <td>3</td>\n",
       "    </tr>\n",
       "    <tr>\n",
       "      <th>NJ</th>\n",
       "      <td>3</td>\n",
       "    </tr>\n",
       "    <tr>\n",
       "      <th>NH</th>\n",
       "      <td>2</td>\n",
       "    </tr>\n",
       "    <tr>\n",
       "      <th>OH</th>\n",
       "      <td>2</td>\n",
       "    </tr>\n",
       "    <tr>\n",
       "      <th>WY</th>\n",
       "      <td>2</td>\n",
       "    </tr>\n",
       "    <tr>\n",
       "      <th>ID</th>\n",
       "      <td>2</td>\n",
       "    </tr>\n",
       "    <tr>\n",
       "      <th>KY</th>\n",
       "      <td>1</td>\n",
       "    </tr>\n",
       "    <tr>\n",
       "      <th>RI</th>\n",
       "      <td>1</td>\n",
       "    </tr>\n",
       "    <tr>\n",
       "      <th>ME</th>\n",
       "      <td>1</td>\n",
       "    </tr>\n",
       "    <tr>\n",
       "      <th>MN</th>\n",
       "      <td>1</td>\n",
       "    </tr>\n",
       "    <tr>\n",
       "      <th>SD</th>\n",
       "      <td>1</td>\n",
       "    </tr>\n",
       "    <tr>\n",
       "      <th>WI</th>\n",
       "      <td>1</td>\n",
       "    </tr>\n",
       "    <tr>\n",
       "      <th>NM</th>\n",
       "      <td>1</td>\n",
       "    </tr>\n",
       "    <tr>\n",
       "      <th>AK</th>\n",
       "      <td>1</td>\n",
       "    </tr>\n",
       "    <tr>\n",
       "      <th>MS</th>\n",
       "      <td>1</td>\n",
       "    </tr>\n",
       "    <tr>\n",
       "      <th>AL</th>\n",
       "      <td>1</td>\n",
       "    </tr>\n",
       "    <tr>\n",
       "      <th>DE</th>\n",
       "      <td>1</td>\n",
       "    </tr>\n",
       "    <tr>\n",
       "      <th>OK</th>\n",
       "      <td>1</td>\n",
       "    </tr>\n",
       "    <tr>\n",
       "      <th>ND</th>\n",
       "      <td>1</td>\n",
       "    </tr>\n",
       "  </tbody>\n",
       "</table>\n",
       "</div>"
      ],
      "text/plain": [
       "        count\n",
       "State        \n",
       "WA     112348\n",
       "CA         76\n",
       "VA         36\n",
       "MD         26\n",
       "TX         14\n",
       "CO          9\n",
       "NV          8\n",
       "GA          7\n",
       "NC          7\n",
       "CT          6\n",
       "DC          6\n",
       "FL          6\n",
       "AZ          6\n",
       "IL          6\n",
       "SC          5\n",
       "OR          5\n",
       "NE          5\n",
       "HI          4\n",
       "UT          4\n",
       "AR          4\n",
       "NY          4\n",
       "TN          3\n",
       "KS          3\n",
       "MO          3\n",
       "PA          3\n",
       "MA          3\n",
       "LA          3\n",
       "NJ          3\n",
       "NH          2\n",
       "OH          2\n",
       "WY          2\n",
       "ID          2\n",
       "KY          1\n",
       "RI          1\n",
       "ME          1\n",
       "MN          1\n",
       "SD          1\n",
       "WI          1\n",
       "NM          1\n",
       "AK          1\n",
       "MS          1\n",
       "AL          1\n",
       "DE          1\n",
       "OK          1\n",
       "ND          1"
      ]
     },
     "execution_count": 69,
     "metadata": {},
     "output_type": "execute_result"
    }
   ],
   "source": [
    "#Distribution of State?\n",
    "d3=pd.DataFrame(df[\"State\"].value_counts())\n",
    "d3\n"
   ]
  },
  {
   "cell_type": "code",
   "execution_count": 70,
   "id": "c789c311",
   "metadata": {},
   "outputs": [
    {
     "data": {
      "image/png": "[encoded data removed]",
      "text/plain": [
       "<Figure size 640x480 with 1 Axes>"
      ]
     },
     "metadata": {},
     "output_type": "display_data"
    }
   ],
   "source": [
    "plt.pie(x=d3[\"count\"][1:8],labels=d3.index[1:8],autopct=\"%0.1f\")\n",
    "plt.show()\n"
   ]
  },
  {
   "cell_type": "markdown",
   "id": "86ef63a5",
   "metadata": {},
   "source": [
    "# Bivariate Analysis\n",
    "Analysing the data using two features."
   ]
  },
  {
   "cell_type": "markdown",
   "id": "ccb56fea",
   "metadata": {},
   "source": [
    "## Which state has more Battery and least plug-in-hybrid electric type vehicles?"
   ]
  },
  {
   "cell_type": "code",
   "execution_count": 71,
   "id": "9a2e29e0",
   "metadata": {},
   "outputs": [
    {
     "data": {
      "text/plain": [
       "Index(['VIN (1-10)', 'County', 'City', 'State', 'Postal Code', 'Model Year',\n",
       "       'Make', 'Model', 'Electric Vehicle Type',\n",
       "       'Clean Alternative Fuel Vehicle (CAFV) Eligibility', 'Electric Range',\n",
       "       'Base MSRP', 'Legislative District', 'DOL Vehicle ID',\n",
       "       'Vehicle Location', 'Electric Utility', '2020 Census Tract'],\n",
       "      dtype='object')"
      ]
     },
     "execution_count": 71,
     "metadata": {},
     "output_type": "execute_result"
    }
   ],
   "source": [
    "df.columns"
   ]
  },
  {
   "cell_type": "code",
   "execution_count": 72,
   "id": "a8930193",
   "metadata": {},
   "outputs": [],
   "source": [
    "g1=pd.crosstab(index=df[\"State\"],columns=df[\"Electric Vehicle Type\"]).sort_values(by=[\"Battery Electric Vehicle (BEV)\",\"Plug-in Hybrid Electric Vehicle (PHEV)\"],ascending=False)"
   ]
  },
  {
   "cell_type": "code",
   "execution_count": 73,
   "id": "5f166378",
   "metadata": {},
   "outputs": [
    {
     "data": {
      "text/plain": [
       "45"
      ]
     },
     "execution_count": 73,
     "metadata": {},
     "output_type": "execute_result"
    }
   ],
   "source": [
    "g1.head()\n",
    "len(g1)"
   ]
  },
  {
   "cell_type": "code",
   "execution_count": 74,
   "id": "1f3bea71",
   "metadata": {},
   "outputs": [
    {
     "data": {
      "text/plain": [
       "Index(['WA', 'CA', 'VA', 'MD', 'TX', 'CO', 'NV', 'IL', 'AZ', 'DC', 'SC', 'GA',\n",
       "       'NC', 'FL', 'NE', 'AR', 'NY', 'PA', 'TN', 'OR', 'HI', 'UT', 'KS', 'LA',\n",
       "       'MA', 'MO', 'ID', 'OH', 'WY', 'CT', 'NH', 'DE', 'MN', 'MS', 'NM', 'RI',\n",
       "       'SD', 'WI', 'NJ', 'AK', 'AL', 'KY', 'ME', 'ND', 'OK'],\n",
       "      dtype='object', name='State')"
      ]
     },
     "execution_count": 74,
     "metadata": {},
     "output_type": "execute_result"
    }
   ],
   "source": [
    "g1.index"
   ]
  },
  {
   "cell_type": "code",
   "execution_count": 75,
   "id": "92378709",
   "metadata": {},
   "outputs": [
    {
     "data": {
      "image/png": "[encoded data removed]",
      "text/plain": [
       "<Figure size 640x480 with 1 Axes>"
      ]
     },
     "metadata": {},
     "output_type": "display_data"
    }
   ],
   "source": [
    "sns.barplot(x=g1.index[:5],y=g1[\"Battery Electric Vehicle (BEV)\"][:5])\n",
    "plt.xticks(rotation=90)\n",
    "plt.show()"
   ]
  },
  {
   "cell_type": "markdown",
   "id": "8b8e2387",
   "metadata": {},
   "source": [
    "\n",
    "Insights:\n",
    "- WA has more Battery Electric vehicles compared to other states."
   ]
  },
  {
   "cell_type": "code",
   "execution_count": 87,
   "id": "ed46bbfc",
   "metadata": {},
   "outputs": [
    {
     "name": "stdout",
     "output_type": "stream",
     "text": [
      "<class 'pandas.core.frame.DataFrame'>\n",
      "RangeIndex: 112634 entries, 0 to 112633\n",
      "Data columns (total 17 columns):\n",
      " #   Column                                             Non-Null Count   Dtype  \n",
      "---  ------                                             --------------   -----  \n",
      " 0   VIN (1-10)                                         112634 non-null  object \n",
      " 1   County                                             112634 non-null  object \n",
      " 2   City                                               112634 non-null  object \n",
      " 3   State                                              112634 non-null  object \n",
      " 4   Postal Code                                        112634 non-null  int64  \n",
      " 5   Model Year                                         112634 non-null  int64  \n",
      " 6   Make                                               112634 non-null  object \n",
      " 7   Model                                              112634 non-null  object \n",
      " 8   Electric Vehicle Type                              112634 non-null  object \n",
      " 9   Clean Alternative Fuel Vehicle (CAFV) Eligibility  112634 non-null  object \n",
      " 10  Electric Range                                     112634 non-null  int64  \n",
      " 11  Base MSRP                                          112634 non-null  int64  \n",
      " 12  Legislative District                               112634 non-null  float64\n",
      " 13  DOL Vehicle ID                                     112634 non-null  int64  \n",
      " 14  Vehicle Location                                   112610 non-null  object \n",
      " 15  Electric Utility                                   112191 non-null  object \n",
      " 16  2020 Census Tract                                  112634 non-null  float64\n",
      "dtypes: float64(2), int64(5), object(10)\n",
      "memory usage: 14.6+ MB\n"
     ]
    }
   ],
   "source": [
    "df.info()"
   ]
  },
  {
   "cell_type": "code",
   "execution_count": null,
   "id": "b478d8da",
   "metadata": {},
   "outputs": [],
   "source": []
  },
  {
   "cell_type": "code",
   "execution_count": 76,
   "id": "69bb0fae",
   "metadata": {},
   "outputs": [
    {
     "data": {
      "image/png": "[encoded data removed]",
      "text/plain": [
       "<Figure size 640x480 with 1 Axes>"
      ]
     },
     "metadata": {},
     "output_type": "display_data"
    }
   ],
   "source": [
    "\n",
    "sns.barplot(x=g1.index[35:45],y=g1[\"Plug-in Hybrid Electric Vehicle (PHEV)\"][35:45])\n",
    "plt.xticks(rotation=90)\n",
    "plt.show()"
   ]
  },
  {
   "cell_type": "markdown",
   "id": "29197e26",
   "metadata": {},
   "source": [
    "\n",
    "Insights:\n",
    "- OK,ND has less plug-in-hybrid electric vehicles.\n"
   ]
  },
  {
   "cell_type": "code",
   "execution_count": 77,
   "id": "6c233758",
   "metadata": {},
   "outputs": [
    {
     "data": {
      "text/html": [
       "<div>\n",
       "<style scoped>\n",
       "    .dataframe tbody tr th:only-of-type {\n",
       "        vertical-align: middle;\n",
       "    }\n",
       "\n",
       "    .dataframe tbody tr th {\n",
       "        vertical-align: top;\n",
       "    }\n",
       "\n",
       "    .dataframe thead th {\n",
       "        text-align: right;\n",
       "    }\n",
       "</style>\n",
       "<table border=\"1\" class=\"dataframe\">\n",
       "  <thead>\n",
       "    <tr style=\"text-align: right;\">\n",
       "      <th></th>\n",
       "      <th>Electric Range</th>\n",
       "      <th>Base MSRP</th>\n",
       "    </tr>\n",
       "  </thead>\n",
       "  <tbody>\n",
       "    <tr>\n",
       "      <th>Electric Range</th>\n",
       "      <td>1.000000</td>\n",
       "      <td>0.085025</td>\n",
       "    </tr>\n",
       "    <tr>\n",
       "      <th>Base MSRP</th>\n",
       "      <td>0.085025</td>\n",
       "      <td>1.000000</td>\n",
       "    </tr>\n",
       "  </tbody>\n",
       "</table>\n",
       "</div>"
      ],
      "text/plain": [
       "                Electric Range  Base MSRP\n",
       "Electric Range        1.000000   0.085025\n",
       "Base MSRP             0.085025   1.000000"
      ]
     },
     "execution_count": 77,
     "metadata": {},
     "output_type": "execute_result"
    }
   ],
   "source": [
    "#What is the relationship between the Electric Range and Base MSRP of electric vehicles?\n",
    "df[[\"Electric Range\",\"Base MSRP\"]].corr()\n",
    "\n"
   ]
  },
  {
   "cell_type": "code",
   "execution_count": 78,
   "id": "f7298726",
   "metadata": {},
   "outputs": [
    {
     "data": {
      "image/png": "[encoded data removed]",
      "text/plain": [
       "<Figure size 640x480 with 1 Axes>"
      ]
     },
     "metadata": {},
     "output_type": "display_data"
    }
   ],
   "source": [
    "sns.scatterplot(x=df[\"Electric Range\"],y=df[\"Base MSRP\"])\n",
    "plt.show()"
   ]
  },
  {
   "cell_type": "markdown",
   "id": "357286a6",
   "metadata": {},
   "source": [
    "\n",
    "Insights:\n",
    "- Since the correlation is minimal, Electric Range is not a reliable predictor of the Base MSRP"
   ]
  },
  {
   "cell_type": "code",
   "execution_count": 79,
   "id": "6de35efc",
   "metadata": {},
   "outputs": [
    {
     "data": {
      "image/png": "[encoded data removed]",
      "text/plain": [
       "<Figure size 640x480 with 1 Axes>"
      ]
     },
     "metadata": {},
     "output_type": "display_data"
    }
   ],
   "source": [
    "#How does Model Year influence the Electric Range across different Make\n",
    "sns.boxplot(x=df[\"Model Year\"],y=df[\"Electric Range\"],hue=df[\"Make\"])\n",
    "plt.legend(loc='center left', bbox_to_anchor=(1, 0.5))\n",
    "plt.xticks(rotation=90)\n",
    "plt.show()\n"
   ]
  },
  {
   "cell_type": "code",
   "execution_count": 81,
   "id": "f5b2f703",
   "metadata": {},
   "outputs": [
    {
     "data": {
      "application/vnd.plotly.v1+json": {
       "config": {
        "plotlyServerURL": "https://plot.ly"
       },
       "data": [
        {
         "coloraxis": "coloraxis",
         "geo": "geo",
         "hovertemplate": "State=%{location}<br>Number of EV Vehicles=%{z}<extra></extra>",
         "locationmode": "USA-states",
         "locations": [
          "AK",
          "AL",
          "AR",
          "AZ",
          "CA",
          "CO",
          "CT",
          "DC",
          "DE",
          "FL",
          "GA",
          "HI",
          "ID",
          "IL",
          "KS",
          "KY",
          "LA",
          "MA",
          "MD",
          "ME",
          "MN",
          "MO",
          "MS",
          "NC",
          "ND",
          "NE",
          "NH",
          "NJ",
          "NM",
          "NV",
          "NY",
          "OH",
          "OK",
          "OR",
          "PA",
          "RI",
          "SC",
          "SD",
          "TN",
          "TX",
          "UT",
          "VA",
          "WA",
          "WI",
          "WY"
         ],
         "name": "",
         "type": "choropleth",
         "z": [
          1,
          1,
          4,
          6,
          76,
          9,
          6,
          6,
          1,
          6,
          7,
          4,
          2,
          6,
          3,
          1,
          3,
          3,
          26,
          1,
          1,
          3,
          1,
          7,
          1,
          5,
          2,
          3,
          1,
          8,
          4,
          2,
          1,
          5,
          3,
          1,
          5,
          1,
          3,
          14,
          4,
          36,
          112348,
          1,
          2
         ]
        }
       ],
       "layout": {
        "coloraxis": {
         "colorbar": {
          "title": {
           "text": "Number of EV Vehicles"
          }
         },
         "colorscale": [
          [
           0,
           "rgb(247,252,245)"
          ],
          [
           0.125,
           "rgb(229,245,224)"
          ],
          [
           0.25,
           "rgb(199,233,192)"
          ],
          [
           0.375,
           "rgb(161,217,155)"
          ],
          [
           0.5,
           "rgb(116,196,118)"
          ],
          [
           0.625,
           "rgb(65,171,93)"
          ],
          [
           0.75,
           "rgb(35,139,69)"
          ],
          [
           0.875,
           "rgb(0,109,44)"
          ],
          [
           1,
           "rgb(0,68,27)"
          ]
         ]
        },
        "geo": {
         "center": {},
         "domain": {
          "x": [
           0,
           1
          ],
          "y": [
           0,
           1
          ]
         },
         "scope": "usa"
        },
        "legend": {
         "tracegroupgap": 0
        },
        "template": {
         "data": {
          "bar": [
           {
            "error_x": {
             "color": "#2a3f5f"
            },
            "error_y": {
             "color": "#2a3f5f"
            },
            "marker": {
             "line": {
              "color": "#E5ECF6",
              "width": 0.5
             },
             "pattern": {
              "fillmode": "overlay",
              "size": 10,
              "solidity": 0.2
             }
            },
            "type": "bar"
           }
          ],
          "barpolar": [
           {
            "marker": {
             "line": {
              "color": "#E5ECF6",
              "width": 0.5
             },
             "pattern": {
              "fillmode": "overlay",
              "size": 10,
              "solidity": 0.2
             }
            },
            "type": "barpolar"
           }
          ],
          "carpet": [
           {
            "aaxis": {
             "endlinecolor": "#2a3f5f",
             "gridcolor": "white",
             "linecolor": "white",
             "minorgridcolor": "white",
             "startlinecolor": "#2a3f5f"
            },
            "baxis": {
             "endlinecolor": "#2a3f5f",
             "gridcolor": "white",
             "linecolor": "white",
             "minorgridcolor": "white",
             "startlinecolor": "#2a3f5f"
            },
            "type": "carpet"
           }
          ],
          "choropleth": [
           {
            "colorbar": {
             "outlinewidth": 0,
             "ticks": ""
            },
            "type": "choropleth"
           }
          ],
          "contour": [
           {
            "colorbar": {
             "outlinewidth": 0,
             "ticks": ""
            },
            "colorscale": [
             [
              0,
              "#0d0887"
             ],
             [
              0.1111111111111111,
              "#46039f"
             ],
             [
              0.2222222222222222,
              "#7201a8"
             ],
             [
              0.3333333333333333,
              "#9c179e"
             ],
             [
              0.4444444444444444,
              "#bd3786"
             ],
             [
              0.5555555555555556,
              "#d8576b"
             ],
             [
              0.6666666666666666,
              "#ed7953"
             ],
             [
              0.7777777777777778,
              "#fb9f3a"
             ],
             [
              0.8888888888888888,
              "#fdca26"
             ],
             [
              1,
              "#f0f921"
             ]
            ],
            "type": "contour"
           }
          ],
          "contourcarpet": [
           {
            "colorbar": {
             "outlinewidth": 0,
             "ticks": ""
            },
            "type": "contourcarpet"
           }
          ],
          "heatmap": [
           {
            "colorbar": {
             "outlinewidth": 0,
             "ticks": ""
            },
            "colorscale": [
             [
              0,
              "#0d0887"
             ],
             [
              0.1111111111111111,
              "#46039f"
             ],
             [
              0.2222222222222222,
              "#7201a8"
             ],
             [
              0.3333333333333333,
              "#9c179e"
             ],
             [
              0.4444444444444444,
              "#bd3786"
             ],
             [
              0.5555555555555556,
              "#d8576b"
             ],
             [
              0.6666666666666666,
              "#ed7953"
             ],
             [
              0.7777777777777778,
              "#fb9f3a"
             ],
             [
              0.8888888888888888,
              "#fdca26"
             ],
             [
              1,
              "#f0f921"
             ]
            ],
            "type": "heatmap"
           }
          ],
          "heatmapgl": [
           {
            "colorbar": {
             "outlinewidth": 0,
             "ticks": ""
            },
            "colorscale": [
             [
              0,
              "#0d0887"
             ],
             [
              0.1111111111111111,
              "#46039f"
             ],
             [
              0.2222222222222222,
              "#7201a8"
             ],
             [
              0.3333333333333333,
              "#9c179e"
             ],
             [
              0.4444444444444444,
              "#bd3786"
             ],
             [
              0.5555555555555556,
              "#d8576b"
             ],
             [
              0.6666666666666666,
              "#ed7953"
             ],
             [
              0.7777777777777778,
              "#fb9f3a"
             ],
             [
              0.8888888888888888,
              "#fdca26"
             ],
             [
              1,
              "#f0f921"
             ]
            ],
            "type": "heatmapgl"
           }
          ],
          "histogram": [
           {
            "marker": {
             "pattern": {
              "fillmode": "overlay",
              "size": 10,
              "solidity": 0.2
             }
            },
            "type": "histogram"
           }
          ],
          "histogram2d": [
           {
            "colorbar": {
             "outlinewidth": 0,
             "ticks": ""
            },
            "colorscale": [
             [
              0,
              "#0d0887"
             ],
             [
              0.1111111111111111,
              "#46039f"
             ],
             [
              0.2222222222222222,
              "#7201a8"
             ],
             [
              0.3333333333333333,
              "#9c179e"
             ],
             [
              0.4444444444444444,
              "#bd3786"
             ],
             [
              0.5555555555555556,
              "#d8576b"
             ],
             [
              0.6666666666666666,
              "#ed7953"
             ],
             [
              0.7777777777777778,
              "#fb9f3a"
             ],
             [
              0.8888888888888888,
              "#fdca26"
             ],
             [
              1,
              "#f0f921"
             ]
            ],
            "type": "histogram2d"
           }
          ],
          "histogram2dcontour": [
           {
            "colorbar": {
             "outlinewidth": 0,
             "ticks": ""
            },
            "colorscale": [
             [
              0,
              "#0d0887"
             ],
             [
              0.1111111111111111,
              "#46039f"
             ],
             [
              0.2222222222222222,
              "#7201a8"
             ],
             [
              0.3333333333333333,
              "#9c179e"
             ],
             [
              0.4444444444444444,
              "#bd3786"
             ],
             [
              0.5555555555555556,
              "#d8576b"
             ],
             [
              0.6666666666666666,
              "#ed7953"
             ],
             [
              0.7777777777777778,
              "#fb9f3a"
             ],
             [
              0.8888888888888888,
              "#fdca26"
             ],
             [
              1,
              "#f0f921"
             ]
            ],
            "type": "histogram2dcontour"
           }
          ],
          "mesh3d": [
           {
            "colorbar": {
             "outlinewidth": 0,
             "ticks": ""
            },
            "type": "mesh3d"
           }
          ],
          "parcoords": [
           {
            "line": {
             "colorbar": {
              "outlinewidth": 0,
              "ticks": ""
             }
            },
            "type": "parcoords"
           }
          ],
          "pie": [
           {
            "automargin": true,
            "type": "pie"
           }
          ],
          "scatter": [
           {
            "fillpattern": {
             "fillmode": "overlay",
             "size": 10,
             "solidity": 0.2
            },
            "type": "scatter"
           }
          ],
          "scatter3d": [
           {
            "line": {
             "colorbar": {
              "outlinewidth": 0,
              "ticks": ""
             }
            },
            "marker": {
             "colorbar": {
              "outlinewidth": 0,
              "ticks": ""
             }
            },
            "type": "scatter3d"
           }
          ],
          "scattercarpet": [
           {
            "marker": {
             "colorbar": {
              "outlinewidth": 0,
              "ticks": ""
             }
            },
            "type": "scattercarpet"
           }
          ],
          "scattergeo": [
           {
            "marker": {
             "colorbar": {
              "outlinewidth": 0,
              "ticks": ""
             }
            },
            "type": "scattergeo"
           }
          ],
          "scattergl": [
           {
            "marker": {
             "colorbar": {
              "outlinewidth": 0,
              "ticks": ""
             }
            },
            "type": "scattergl"
           }
          ],
          "scattermapbox": [
           {
            "marker": {
             "colorbar": {
              "outlinewidth": 0,
              "ticks": ""
             }
            },
            "type": "scattermapbox"
           }
          ],
          "scatterpolar": [
           {
            "marker": {
             "colorbar": {
              "outlinewidth": 0,
              "ticks": ""
             }
            },
            "type": "scatterpolar"
           }
          ],
          "scatterpolargl": [
           {
            "marker": {
             "colorbar": {
              "outlinewidth": 0,
              "ticks": ""
             }
            },
            "type": "scatterpolargl"
           }
          ],
          "scatterternary": [
           {
            "marker": {
             "colorbar": {
              "outlinewidth": 0,
              "ticks": ""
             }
            },
            "type": "scatterternary"
           }
          ],
          "surface": [
           {
            "colorbar": {
             "outlinewidth": 0,
             "ticks": ""
            },
            "colorscale": [
             [
              0,
              "#0d0887"
             ],
             [
              0.1111111111111111,
              "#46039f"
             ],
             [
              0.2222222222222222,
              "#7201a8"
             ],
             [
              0.3333333333333333,
              "#9c179e"
             ],
             [
              0.4444444444444444,
              "#bd3786"
             ],
             [
              0.5555555555555556,
              "#d8576b"
             ],
             [
              0.6666666666666666,
              "#ed7953"
             ],
             [
              0.7777777777777778,
              "#fb9f3a"
             ],
             [
              0.8888888888888888,
              "#fdca26"
             ],
             [
              1,
              "#f0f921"
             ]
            ],
            "type": "surface"
           }
          ],
          "table": [
           {
            "cells": {
             "fill": {
              "color": "#EBF0F8"
             },
             "line": {
              "color": "white"
             }
            },
            "header": {
             "fill": {
              "color": "#C8D4E3"
             },
             "line": {
              "color": "white"
             }
            },
            "type": "table"
           }
          ]
         },
         "layout": {
          "annotationdefaults": {
           "arrowcolor": "#2a3f5f",
           "arrowhead": 0,
           "arrowwidth": 1
          },
          "autotypenumbers": "strict",
          "coloraxis": {
           "colorbar": {
            "outlinewidth": 0,
            "ticks": ""
           }
          },
          "colorscale": {
           "diverging": [
            [
             0,
             "#8e0152"
            ],
            [
             0.1,
             "#c51b7d"
            ],
            [
             0.2,
             "#de77ae"
            ],
            [
             0.3,
             "#f1b6da"
            ],
            [
             0.4,
             "#fde0ef"
            ],
            [
             0.5,
             "#f7f7f7"
            ],
            [
             0.6,
             "#e6f5d0"
            ],
            [
             0.7,
             "#b8e186"
            ],
            [
             0.8,
             "#7fbc41"
            ],
            [
             0.9,
             "#4d9221"
            ],
            [
             1,
             "#276419"
            ]
           ],
           "sequential": [
            [
             0,
             "#0d0887"
            ],
            [
             0.1111111111111111,
             "#46039f"
            ],
            [
             0.2222222222222222,
             "#7201a8"
            ],
            [
             0.3333333333333333,
             "#9c179e"
            ],
            [
             0.4444444444444444,
             "#bd3786"
            ],
            [
             0.5555555555555556,
             "#d8576b"
            ],
            [
             0.6666666666666666,
             "#ed7953"
            ],
            [
             0.7777777777777778,
             "#fb9f3a"
            ],
            [
             0.8888888888888888,
             "#fdca26"
            ],
            [
             1,
             "#f0f921"
            ]
           ],
           "sequentialminus": [
            [
             0,
             "#0d0887"
            ],
            [
             0.1111111111111111,
             "#46039f"
            ],
            [
             0.2222222222222222,
             "#7201a8"
            ],
            [
             0.3333333333333333,
             "#9c179e"
            ],
            [
             0.4444444444444444,
             "#bd3786"
            ],
            [
             0.5555555555555556,
             "#d8576b"
            ],
            [
             0.6666666666666666,
             "#ed7953"
            ],
            [
             0.7777777777777778,
             "#fb9f3a"
            ],
            [
             0.8888888888888888,
             "#fdca26"
            ],
            [
             1,
             "#f0f921"
            ]
           ]
          },
          "colorway": [
           "#636efa",
           "#EF553B",
           "#00cc96",
           "#ab63fa",
           "#FFA15A",
           "#19d3f3",
           "#FF6692",
           "#B6E880",
           "#FF97FF",
           "#FECB52"
          ],
          "font": {
           "color": "#2a3f5f"
          },
          "geo": {
           "bgcolor": "white",
           "lakecolor": "white",
           "landcolor": "#E5ECF6",
           "showlakes": true,
           "showland": true,
           "subunitcolor": "white"
          },
          "hoverlabel": {
           "align": "left"
          },
          "hovermode": "closest",
          "mapbox": {
           "style": "light"
          },
          "paper_bgcolor": "white",
          "plot_bgcolor": "#E5ECF6",
          "polar": {
           "angularaxis": {
            "gridcolor": "white",
            "linecolor": "white",
            "ticks": ""
           },
           "bgcolor": "#E5ECF6",
           "radialaxis": {
            "gridcolor": "white",
            "linecolor": "white",
            "ticks": ""
           }
          },
          "scene": {
           "xaxis": {
            "backgroundcolor": "#E5ECF6",
            "gridcolor": "white",
            "gridwidth": 2,
            "linecolor": "white",
            "showbackground": true,
            "ticks": "",
            "zerolinecolor": "white"
           },
           "yaxis": {
            "backgroundcolor": "#E5ECF6",
            "gridcolor": "white",
            "gridwidth": 2,
            "linecolor": "white",
            "showbackground": true,
            "ticks": "",
            "zerolinecolor": "white"
           },
           "zaxis": {
            "backgroundcolor": "#E5ECF6",
            "gridcolor": "white",
            "gridwidth": 2,
            "linecolor": "white",
            "showbackground": true,
            "ticks": "",
            "zerolinecolor": "white"
           }
          },
          "shapedefaults": {
           "line": {
            "color": "#2a3f5f"
           }
          },
          "ternary": {
           "aaxis": {
            "gridcolor": "white",
            "linecolor": "white",
            "ticks": ""
           },
           "baxis": {
            "gridcolor": "white",
            "linecolor": "white",
            "ticks": ""
           },
           "bgcolor": "#E5ECF6",
           "caxis": {
            "gridcolor": "white",
            "linecolor": "white",
            "ticks": ""
           }
          },
          "title": {
           "x": 0.05
          },
          "xaxis": {
           "automargin": true,
           "gridcolor": "white",
           "linecolor": "white",
           "ticks": "",
           "title": {
            "standoff": 15
           },
           "zerolinecolor": "white",
           "zerolinewidth": 2
          },
          "yaxis": {
           "automargin": true,
           "gridcolor": "white",
           "linecolor": "white",
           "ticks": "",
           "title": {
            "standoff": 15
           },
           "zerolinecolor": "white",
           "zerolinewidth": 2
          }
         }
        },
        "title": {
         "text": "Number of Electric Vehicles by State"
        }
       }
      },
      "text/html": [
       "<div>                            <div id=\"0d183a73-1965-449a-adbc-b1e06f7afeed\" class=\"plotly-graph-div\" style=\"height:525px; width:100%;\"></div>            <script type=\"text/javascript\">                require([\"plotly\"], function(Plotly) {                    window.PLOTLYENV=window.PLOTLYENV || {};                                    if (document.getElementById(\"0d183a73-1965-449a-adbc-b1e06f7afeed\")) {                    Plotly.newPlot(                        \"0d183a73-1965-449a-adbc-b1e06f7afeed\",                        [{\"coloraxis\":\"coloraxis\",\"geo\":\"geo\",\"hovertemplate\":\"State=%{location}<br>Number of EV Vehicles=%{z}<extra></extra>\",\"locationmode\":\"USA-states\",\"locations\":[\"AK\",\"AL\",\"AR\",\"AZ\",\"CA\",\"CO\",\"CT\",\"DC\",\"DE\",\"FL\",\"GA\",\"HI\",\"ID\",\"IL\",\"KS\",\"KY\",\"LA\",\"MA\",\"MD\",\"ME\",\"MN\",\"MO\",\"MS\",\"NC\",\"ND\",\"NE\",\"NH\",\"NJ\",\"NM\",\"NV\",\"NY\",\"OH\",\"OK\",\"OR\",\"PA\",\"RI\",\"SC\",\"SD\",\"TN\",\"TX\",\"UT\",\"VA\",\"WA\",\"WI\",\"WY\"],\"name\":\"\",\"z\":[1,1,4,6,76,9,6,6,1,6,7,4,2,6,3,1,3,3,26,1,1,3,1,7,1,5,2,3,1,8,4,2,1,5,3,1,5,1,3,14,4,36,112348,1,2],\"type\":\"choropleth\"}],                        {\"template\":{\"data\":{\"histogram2dcontour\":[{\"type\":\"histogram2dcontour\",\"colorbar\":{\"outlinewidth\":0,\"ticks\":\"\"},\"colorscale\":[[0.0,\"#0d0887\"],[0.1111111111111111,\"#46039f\"],[0.2222222222222222,\"#7201a8\"],[0.3333333333333333,\"#9c179e\"],[0.4444444444444444,\"#bd3786\"],[0.5555555555555556,\"#d8576b\"],[0.6666666666666666,\"#ed7953\"],[0.7777777777777778,\"#fb9f3a\"],[0.8888888888888888,\"#fdca26\"],[1.0,\"#f0f921\"]]}],\"choropleth\":[{\"type\":\"choropleth\",\"colorbar\":{\"outlinewidth\":0,\"ticks\":\"\"}}],\"histogram2d\":[{\"type\":\"histogram2d\",\"colorbar\":{\"outlinewidth\":0,\"ticks\":\"\"},\"colorscale\":[[0.0,\"#0d0887\"],[0.1111111111111111,\"#46039f\"],[0.2222222222222222,\"#7201a8\"],[0.3333333333333333,\"#9c179e\"],[0.4444444444444444,\"#bd3786\"],[0.5555555555555556,\"#d8576b\"],[0.6666666666666666,\"#ed7953\"],[0.7777777777777778,\"#fb9f3a\"],[0.8888888888888888,\"#fdca26\"],[1.0,\"#f0f921\"]]}],\"heatmap\":[{\"type\":\"heatmap\",\"colorbar\":{\"outlinewidth\":0,\"ticks\":\"\"},\"colorscale\":[[0.0,\"#0d0887\"],[0.1111111111111111,\"#46039f\"],[0.2222222222222222,\"#7201a8\"],[0.3333333333333333,\"#9c179e\"],[0.4444444444444444,\"#bd3786\"],[0.5555555555555556,\"#d8576b\"],[0.6666666666666666,\"#ed7953\"],[0.7777777777777778,\"#fb9f3a\"],[0.8888888888888888,\"#fdca26\"],[1.0,\"#f0f921\"]]}],\"heatmapgl\":[{\"type\":\"heatmapgl\",\"colorbar\":{\"outlinewidth\":0,\"ticks\":\"\"},\"colorscale\":[[0.0,\"#0d0887\"],[0.1111111111111111,\"#46039f\"],[0.2222222222222222,\"#7201a8\"],[0.3333333333333333,\"#9c179e\"],[0.4444444444444444,\"#bd3786\"],[0.5555555555555556,\"#d8576b\"],[0.6666666666666666,\"#ed7953\"],[0.7777777777777778,\"#fb9f3a\"],[0.8888888888888888,\"#fdca26\"],[1.0,\"#f0f921\"]]}],\"contourcarpet\":[{\"type\":\"contourcarpet\",\"colorbar\":{\"outlinewidth\":0,\"ticks\":\"\"}}],\"contour\":[{\"type\":\"contour\",\"colorbar\":{\"outlinewidth\":0,\"ticks\":\"\"},\"colorscale\":[[0.0,\"#0d0887\"],[0.1111111111111111,\"#46039f\"],[0.2222222222222222,\"#7201a8\"],[0.3333333333333333,\"#9c179e\"],[0.4444444444444444,\"#bd3786\"],[0.5555555555555556,\"#d8576b\"],[0.6666666666666666,\"#ed7953\"],[0.7777777777777778,\"#fb9f3a\"],[0.8888888888888888,\"#fdca26\"],[1.0,\"#f0f921\"]]}],\"surface\":[{\"type\":\"surface\",\"colorbar\":{\"outlinewidth\":0,\"ticks\":\"\"},\"colorscale\":[[0.0,\"#0d0887\"],[0.1111111111111111,\"#46039f\"],[0.2222222222222222,\"#7201a8\"],[0.3333333333333333,\"#9c179e\"],[0.4444444444444444,\"#bd3786\"],[0.5555555555555556,\"#d8576b\"],[0.6666666666666666,\"#ed7953\"],[0.7777777777777778,\"#fb9f3a\"],[0.8888888888888888,\"#fdca26\"],[1.0,\"#f0f921\"]]}],\"mesh3d\":[{\"type\":\"mesh3d\",\"colorbar\":{\"outlinewidth\":0,\"ticks\":\"\"}}],\"scatter\":[{\"fillpattern\":{\"fillmode\":\"overlay\",\"size\":10,\"solidity\":0.2},\"type\":\"scatter\"}],\"parcoords\":[{\"type\":\"parcoords\",\"line\":{\"colorbar\":{\"outlinewidth\":0,\"ticks\":\"\"}}}],\"scatterpolargl\":[{\"type\":\"scatterpolargl\",\"marker\":{\"colorbar\":{\"outlinewidth\":0,\"ticks\":\"\"}}}],\"bar\":[{\"error_x\":{\"color\":\"#2a3f5f\"},\"error_y\":{\"color\":\"#2a3f5f\"},\"marker\":{\"line\":{\"color\":\"#E5ECF6\",\"width\":0.5},\"pattern\":{\"fillmode\":\"overlay\",\"size\":10,\"solidity\":0.2}},\"type\":\"bar\"}],\"scattergeo\":[{\"type\":\"scattergeo\",\"marker\":{\"colorbar\":{\"outlinewidth\":0,\"ticks\":\"\"}}}],\"scatterpolar\":[{\"type\":\"scatterpolar\",\"marker\":{\"colorbar\":{\"outlinewidth\":0,\"ticks\":\"\"}}}],\"histogram\":[{\"marker\":{\"pattern\":{\"fillmode\":\"overlay\",\"size\":10,\"solidity\":0.2}},\"type\":\"histogram\"}],\"scattergl\":[{\"type\":\"scattergl\",\"marker\":{\"colorbar\":{\"outlinewidth\":0,\"ticks\":\"\"}}}],\"scatter3d\":[{\"type\":\"scatter3d\",\"line\":{\"colorbar\":{\"outlinewidth\":0,\"ticks\":\"\"}},\"marker\":{\"colorbar\":{\"outlinewidth\":0,\"ticks\":\"\"}}}],\"scattermapbox\":[{\"type\":\"scattermapbox\",\"marker\":{\"colorbar\":{\"outlinewidth\":0,\"ticks\":\"\"}}}],\"scatterternary\":[{\"type\":\"scatterternary\",\"marker\":{\"colorbar\":{\"outlinewidth\":0,\"ticks\":\"\"}}}],\"scattercarpet\":[{\"type\":\"scattercarpet\",\"marker\":{\"colorbar\":{\"outlinewidth\":0,\"ticks\":\"\"}}}],\"carpet\":[{\"aaxis\":{\"endlinecolor\":\"#2a3f5f\",\"gridcolor\":\"white\",\"linecolor\":\"white\",\"minorgridcolor\":\"white\",\"startlinecolor\":\"#2a3f5f\"},\"baxis\":{\"endlinecolor\":\"#2a3f5f\",\"gridcolor\":\"white\",\"linecolor\":\"white\",\"minorgridcolor\":\"white\",\"startlinecolor\":\"#2a3f5f\"},\"type\":\"carpet\"}],\"table\":[{\"cells\":{\"fill\":{\"color\":\"#EBF0F8\"},\"line\":{\"color\":\"white\"}},\"header\":{\"fill\":{\"color\":\"#C8D4E3\"},\"line\":{\"color\":\"white\"}},\"type\":\"table\"}],\"barpolar\":[{\"marker\":{\"line\":{\"color\":\"#E5ECF6\",\"width\":0.5},\"pattern\":{\"fillmode\":\"overlay\",\"size\":10,\"solidity\":0.2}},\"type\":\"barpolar\"}],\"pie\":[{\"automargin\":true,\"type\":\"pie\"}]},\"layout\":{\"autotypenumbers\":\"strict\",\"colorway\":[\"#636efa\",\"#EF553B\",\"#00cc96\",\"#ab63fa\",\"#FFA15A\",\"#19d3f3\",\"#FF6692\",\"#B6E880\",\"#FF97FF\",\"#FECB52\"],\"font\":{\"color\":\"#2a3f5f\"},\"hovermode\":\"closest\",\"hoverlabel\":{\"align\":\"left\"},\"paper_bgcolor\":\"white\",\"plot_bgcolor\":\"#E5ECF6\",\"polar\":{\"bgcolor\":\"#E5ECF6\",\"angularaxis\":{\"gridcolor\":\"white\",\"linecolor\":\"white\",\"ticks\":\"\"},\"radialaxis\":{\"gridcolor\":\"white\",\"linecolor\":\"white\",\"ticks\":\"\"}},\"ternary\":{\"bgcolor\":\"#E5ECF6\",\"aaxis\":{\"gridcolor\":\"white\",\"linecolor\":\"white\",\"ticks\":\"\"},\"baxis\":{\"gridcolor\":\"white\",\"linecolor\":\"white\",\"ticks\":\"\"},\"caxis\":{\"gridcolor\":\"white\",\"linecolor\":\"white\",\"ticks\":\"\"}},\"coloraxis\":{\"colorbar\":{\"outlinewidth\":0,\"ticks\":\"\"}},\"colorscale\":{\"sequential\":[[0.0,\"#0d0887\"],[0.1111111111111111,\"#46039f\"],[0.2222222222222222,\"#7201a8\"],[0.3333333333333333,\"#9c179e\"],[0.4444444444444444,\"#bd3786\"],[0.5555555555555556,\"#d8576b\"],[0.6666666666666666,\"#ed7953\"],[0.7777777777777778,\"#fb9f3a\"],[0.8888888888888888,\"#fdca26\"],[1.0,\"#f0f921\"]],\"sequentialminus\":[[0.0,\"#0d0887\"],[0.1111111111111111,\"#46039f\"],[0.2222222222222222,\"#7201a8\"],[0.3333333333333333,\"#9c179e\"],[0.4444444444444444,\"#bd3786\"],[0.5555555555555556,\"#d8576b\"],[0.6666666666666666,\"#ed7953\"],[0.7777777777777778,\"#fb9f3a\"],[0.8888888888888888,\"#fdca26\"],[1.0,\"#f0f921\"]],\"diverging\":[[0,\"#8e0152\"],[0.1,\"#c51b7d\"],[0.2,\"#de77ae\"],[0.3,\"#f1b6da\"],[0.4,\"#fde0ef\"],[0.5,\"#f7f7f7\"],[0.6,\"#e6f5d0\"],[0.7,\"#b8e186\"],[0.8,\"#7fbc41\"],[0.9,\"#4d9221\"],[1,\"#276419\"]]},\"xaxis\":{\"gridcolor\":\"white\",\"linecolor\":\"white\",\"ticks\":\"\",\"title\":{\"standoff\":15},\"zerolinecolor\":\"white\",\"automargin\":true,\"zerolinewidth\":2},\"yaxis\":{\"gridcolor\":\"white\",\"linecolor\":\"white\",\"ticks\":\"\",\"title\":{\"standoff\":15},\"zerolinecolor\":\"white\",\"automargin\":true,\"zerolinewidth\":2},\"scene\":{\"xaxis\":{\"backgroundcolor\":\"#E5ECF6\",\"gridcolor\":\"white\",\"linecolor\":\"white\",\"showbackground\":true,\"ticks\":\"\",\"zerolinecolor\":\"white\",\"gridwidth\":2},\"yaxis\":{\"backgroundcolor\":\"#E5ECF6\",\"gridcolor\":\"white\",\"linecolor\":\"white\",\"showbackground\":true,\"ticks\":\"\",\"zerolinecolor\":\"white\",\"gridwidth\":2},\"zaxis\":{\"backgroundcolor\":\"#E5ECF6\",\"gridcolor\":\"white\",\"linecolor\":\"white\",\"showbackground\":true,\"ticks\":\"\",\"zerolinecolor\":\"white\",\"gridwidth\":2}},\"shapedefaults\":{\"line\":{\"color\":\"#2a3f5f\"}},\"annotationdefaults\":{\"arrowcolor\":\"#2a3f5f\",\"arrowhead\":0,\"arrowwidth\":1},\"geo\":{\"bgcolor\":\"white\",\"landcolor\":\"#E5ECF6\",\"subunitcolor\":\"white\",\"showland\":true,\"showlakes\":true,\"lakecolor\":\"white\"},\"title\":{\"x\":0.05},\"mapbox\":{\"style\":\"light\"}}},\"geo\":{\"domain\":{\"x\":[0.0,1.0],\"y\":[0.0,1.0]},\"center\":{},\"scope\":\"usa\"},\"coloraxis\":{\"colorbar\":{\"title\":{\"text\":\"Number of EV Vehicles\"}},\"colorscale\":[[0.0,\"rgb(247,252,245)\"],[0.125,\"rgb(229,245,224)\"],[0.25,\"rgb(199,233,192)\"],[0.375,\"rgb(161,217,155)\"],[0.5,\"rgb(116,196,118)\"],[0.625,\"rgb(65,171,93)\"],[0.75,\"rgb(35,139,69)\"],[0.875,\"rgb(0,109,44)\"],[1.0,\"rgb(0,68,27)\"]]},\"legend\":{\"tracegroupgap\":0},\"title\":{\"text\":\"Number of Electric Vehicles by State\"}},                        {\"responsive\": true}                    ).then(function(){\n",
       "                            \n",
       "var gd = document.getElementById('0d183a73-1965-449a-adbc-b1e06f7afeed');\n",
       "var x = new MutationObserver(function (mutations, observer) {{\n",
       "        var display = window.getComputedStyle(gd).display;\n",
       "        if (!display || display === 'none') {{\n",
       "            console.log([gd, 'removed!']);\n",
       "            Plotly.purge(gd);\n",
       "            observer.disconnect();\n",
       "        }}\n",
       "}});\n",
       "\n",
       "// Listen for the removal of the full notebook cells\n",
       "var notebookContainer = gd.closest('#notebook-container');\n",
       "if (notebookContainer) {{\n",
       "    x.observe(notebookContainer, {childList: true});\n",
       "}}\n",
       "\n",
       "// Listen for the clearing of the current output cell\n",
       "var outputEl = gd.closest('.output');\n",
       "if (outputEl) {{\n",
       "    x.observe(outputEl, {childList: true});\n",
       "}}\n",
       "\n",
       "                        })                };                });            </script>        </div>"
      ]
     },
     "metadata": {},
     "output_type": "display_data"
    }
   ],
   "source": [
    "\n",
    "#Create a Choropleth using plotly.express to display the number of EV vehicles based on location.\n",
    "state_data = df.groupby('State')['VIN (1-10)'].count().reset_index()\n",
    "state_data.columns = ['State', 'EV Count']\n",
    "\n",
    "fig = px.choropleth(state_data, \n",
    "                    locations='State', \n",
    "                    locationmode='USA-states', \n",
    "                    color='EV Count', \n",
    "                    color_continuous_scale='greens', \n",
    "                    scope='usa',\n",
    "                    labels={'EV Count': 'Number of EV Vehicles'},\n",
    "                    title='Number of Electric Vehicles by State'\n",
    "                  )\n",
    "\n",
    "fig.show()\n",
    "\n"
   ]
  },
  {
   "cell_type": "code",
   "execution_count": 82,
   "id": "45f03f82",
   "metadata": {},
   "outputs": [
    {
     "name": "stdout",
     "output_type": "stream",
     "text": [
      "Requirement already satisfied: bar-chart-race in c:\\users\\bhava\\anaconda3\\lib\\site-packages (0.1.0)\n",
      "Requirement already satisfied: pandas>=0.24 in c:\\users\\bhava\\anaconda3\\lib\\site-packages (from bar-chart-race) (2.2.2)\n",
      "Requirement already satisfied: matplotlib>=3.1 in c:\\users\\bhava\\anaconda3\\lib\\site-packages (from bar-chart-race) (3.7.2)\n",
      "Requirement already satisfied: contourpy>=1.0.1 in c:\\users\\bhava\\anaconda3\\lib\\site-packages (from matplotlib>=3.1->bar-chart-race) (1.0.5)\n",
      "Requirement already satisfied: cycler>=0.10 in c:\\users\\bhava\\anaconda3\\lib\\site-packages (from matplotlib>=3.1->bar-chart-race) (0.11.0)\n",
      "Requirement already satisfied: fonttools>=4.22.0 in c:\\users\\bhava\\anaconda3\\lib\\site-packages (from matplotlib>=3.1->bar-chart-race) (4.25.0)\n",
      "Requirement already satisfied: kiwisolver>=1.0.1 in c:\\users\\bhava\\anaconda3\\lib\\site-packages (from matplotlib>=3.1->bar-chart-race) (1.4.4)\n",
      "Requirement already satisfied: numpy>=1.20 in c:\\users\\bhava\\anaconda3\\lib\\site-packages (from matplotlib>=3.1->bar-chart-race) (1.24.3)\n",
      "Requirement already satisfied: packaging>=20.0 in c:\\users\\bhava\\anaconda3\\lib\\site-packages (from matplotlib>=3.1->bar-chart-race) (23.1)\n",
      "Requirement already satisfied: pillow>=6.2.0 in c:\\users\\bhava\\anaconda3\\lib\\site-packages (from matplotlib>=3.1->bar-chart-race) (9.4.0)\n",
      "Requirement already satisfied: pyparsing<3.1,>=2.3.1 in c:\\users\\bhava\\anaconda3\\lib\\site-packages (from matplotlib>=3.1->bar-chart-race) (3.0.9)\n",
      "Requirement already satisfied: python-dateutil>=2.7 in c:\\users\\bhava\\anaconda3\\lib\\site-packages (from matplotlib>=3.1->bar-chart-race) (2.8.2)\n",
      "Requirement already satisfied: pytz>=2020.1 in c:\\users\\bhava\\anaconda3\\lib\\site-packages (from pandas>=0.24->bar-chart-race) (2023.3.post1)\n",
      "Requirement already satisfied: tzdata>=2022.7 in c:\\users\\bhava\\anaconda3\\lib\\site-packages (from pandas>=0.24->bar-chart-race) (2023.3)\n",
      "Requirement already satisfied: six>=1.5 in c:\\users\\bhava\\anaconda3\\lib\\site-packages (from python-dateutil>=2.7->matplotlib>=3.1->bar-chart-race) (1.16.0)\n"
     ]
    }
   ],
   "source": [
    "!pip install bar-chart-race"
   ]
  },
  {
   "cell_type": "code",
   "execution_count": 83,
   "id": "0047ac45",
   "metadata": {},
   "outputs": [
    {
     "data": {
      "text/plain": [
       "Index(['VIN (1-10)', 'County', 'City', 'State', 'Postal Code', 'Model Year',\n",
       "       'Make', 'Model', 'Electric Vehicle Type',\n",
       "       'Clean Alternative Fuel Vehicle (CAFV) Eligibility', 'Electric Range',\n",
       "       'Base MSRP', 'Legislative District', 'DOL Vehicle ID',\n",
       "       'Vehicle Location', 'Electric Utility', '2020 Census Tract'],\n",
       "      dtype='object')"
      ]
     },
     "execution_count": 83,
     "metadata": {},
     "output_type": "execute_result"
    }
   ],
   "source": [
    "df.columns"
   ]
  },
  {
   "cell_type": "code",
   "execution_count": 84,
   "id": "a9c321bd",
   "metadata": {},
   "outputs": [
    {
     "data": {
      "application/vnd.plotly.v1+json": {
       "config": {
        "plotlyServerURL": "https://plot.ly"
       },
       "data": [
        {
         "alignmentgroup": "True",
         "hovertemplate": "Car Make=%{y}<br>Model Year=1997<br>Number of EVs=%{x}<extra></extra>",
         "legendgroup": "TOYOTA",
         "marker": {
          "color": "#636efa",
          "pattern": {
           "shape": ""
          }
         },
         "name": "TOYOTA",
         "offsetgroup": "TOYOTA",
         "orientation": "h",
         "showlegend": true,
         "textposition": "auto",
         "type": "bar",
         "x": [
          0
         ],
         "xaxis": "x",
         "y": [
          "TOYOTA"
         ],
         "yaxis": "y"
        },
        {
         "alignmentgroup": "True",
         "hovertemplate": "Car Make=%{y}<br>Model Year=1997<br>Number of EVs=%{x}<extra></extra>",
         "legendgroup": "CHEVROLET",
         "marker": {
          "color": "#EF553B",
          "pattern": {
           "shape": ""
          }
         },
         "name": "CHEVROLET",
         "offsetgroup": "CHEVROLET",
         "orientation": "h",
         "showlegend": true,
         "textposition": "auto",
         "type": "bar",
         "x": [
          1
         ],
         "xaxis": "x",
         "y": [
          "CHEVROLET"
         ],
         "yaxis": "y"
        },
        {
         "alignmentgroup": "True",
         "hovertemplate": "Car Make=%{y}<br>Model Year=1997<br>Number of EVs=%{x}<extra></extra>",
         "legendgroup": "NISSAN",
         "marker": {
          "color": "#00cc96",
          "pattern": {
           "shape": ""
          }
         },
         "name": "NISSAN",
         "offsetgroup": "NISSAN",
         "orientation": "h",
         "showlegend": true,
         "textposition": "auto",
         "type": "bar",
         "x": [
          0
         ],
         "xaxis": "x",
         "y": [
          "NISSAN"
         ],
         "yaxis": "y"
        },
        {
         "alignmentgroup": "True",
         "hovertemplate": "Car Make=%{y}<br>Model Year=1997<br>Number of EVs=%{x}<extra></extra>",
         "legendgroup": "FORD",
         "marker": {
          "color": "#ab63fa",
          "pattern": {
           "shape": ""
          }
         },
         "name": "FORD",
         "offsetgroup": "FORD",
         "orientation": "h",
         "showlegend": true,
         "textposition": "auto",
         "type": "bar",
         "x": [
          0
         ],
         "xaxis": "x",
         "y": [
          "FORD"
         ],
         "yaxis": "y"
        },
        {
         "alignmentgroup": "True",
         "hovertemplate": "Car Make=%{y}<br>Model Year=1997<br>Number of EVs=%{x}<extra></extra>",
         "legendgroup": "TESLA",
         "marker": {
          "color": "#FFA15A",
          "pattern": {
           "shape": ""
          }
         },
         "name": "TESLA",
         "offsetgroup": "TESLA",
         "orientation": "h",
         "showlegend": true,
         "textposition": "auto",
         "type": "bar",
         "x": [
          0
         ],
         "xaxis": "x",
         "y": [
          "TESLA"
         ],
         "yaxis": "y"
        },
        {
         "alignmentgroup": "True",
         "hovertemplate": "Car Make=%{y}<br>Model Year=1997<br>Number of EVs=%{x}<extra></extra>",
         "legendgroup": "KIA",
         "marker": {
          "color": "#19d3f3",
          "pattern": {
           "shape": ""
          }
         },
         "name": "KIA",
         "offsetgroup": "KIA",
         "orientation": "h",
         "showlegend": true,
         "textposition": "auto",
         "type": "bar",
         "x": [
          0
         ],
         "xaxis": "x",
         "y": [
          "KIA"
         ],
         "yaxis": "y"
        },
        {
         "alignmentgroup": "True",
         "hovertemplate": "Car Make=%{y}<br>Model Year=1997<br>Number of EVs=%{x}<extra></extra>",
         "legendgroup": "AUDI",
         "marker": {
          "color": "#FF6692",
          "pattern": {
           "shape": ""
          }
         },
         "name": "AUDI",
         "offsetgroup": "AUDI",
         "orientation": "h",
         "showlegend": true,
         "textposition": "auto",
         "type": "bar",
         "x": [
          0
         ],
         "xaxis": "x",
         "y": [
          "AUDI"
         ],
         "yaxis": "y"
        },
        {
         "alignmentgroup": "True",
         "hovertemplate": "Car Make=%{y}<br>Model Year=1997<br>Number of EVs=%{x}<extra></extra>",
         "legendgroup": "BMW",
         "marker": {
          "color": "#B6E880",
          "pattern": {
           "shape": ""
          }
         },
         "name": "BMW",
         "offsetgroup": "BMW",
         "orientation": "h",
         "showlegend": true,
         "textposition": "auto",
         "type": "bar",
         "x": [
          0
         ],
         "xaxis": "x",
         "y": [
          "BMW"
         ],
         "yaxis": "y"
        },
        {
         "alignmentgroup": "True",
         "hovertemplate": "Car Make=%{y}<br>Model Year=1997<br>Number of EVs=%{x}<extra></extra>",
         "legendgroup": "VOLVO",
         "marker": {
          "color": "#FF97FF",
          "pattern": {
           "shape": ""
          }
         },
         "name": "VOLVO",
         "offsetgroup": "VOLVO",
         "orientation": "h",
         "showlegend": true,
         "textposition": "auto",
         "type": "bar",
         "x": [
          0
         ],
         "xaxis": "x",
         "y": [
          "VOLVO"
         ],
         "yaxis": "y"
        },
        {
         "alignmentgroup": "True",
         "hovertemplate": "Car Make=%{y}<br>Model Year=1997<br>Number of EVs=%{x}<extra></extra>",
         "legendgroup": "VOLKSWAGEN",
         "marker": {
          "color": "#FECB52",
          "pattern": {
           "shape": ""
          }
         },
         "name": "VOLKSWAGEN",
         "offsetgroup": "VOLKSWAGEN",
         "orientation": "h",
         "showlegend": true,
         "textposition": "auto",
         "type": "bar",
         "x": [
          0
         ],
         "xaxis": "x",
         "y": [
          "VOLKSWAGEN"
         ],
         "yaxis": "y"
        }
       ],
       "frames": [
        {
         "data": [
          {
           "alignmentgroup": "True",
           "hovertemplate": "Car Make=%{y}<br>Model Year=1997<br>Number of EVs=%{x}<extra></extra>",
           "legendgroup": "TOYOTA",
           "marker": {
            "color": "#636efa",
            "pattern": {
             "shape": ""
            }
           },
           "name": "TOYOTA",
           "offsetgroup": "TOYOTA",
           "orientation": "h",
           "showlegend": true,
           "textposition": "auto",
           "type": "bar",
           "x": [
            0
           ],
           "xaxis": "x",
           "y": [
            "TOYOTA"
           ],
           "yaxis": "y"
          },
          {
           "alignmentgroup": "True",
           "hovertemplate": "Car Make=%{y}<br>Model Year=1997<br>Number of EVs=%{x}<extra></extra>",
           "legendgroup": "CHEVROLET",
           "marker": {
            "color": "#EF553B",
            "pattern": {
             "shape": ""
            }
           },
           "name": "CHEVROLET",
           "offsetgroup": "CHEVROLET",
           "orientation": "h",
           "showlegend": true,
           "textposition": "auto",
           "type": "bar",
           "x": [
            1
           ],
           "xaxis": "x",
           "y": [
            "CHEVROLET"
           ],
           "yaxis": "y"
          },
          {
           "alignmentgroup": "True",
           "hovertemplate": "Car Make=%{y}<br>Model Year=1997<br>Number of EVs=%{x}<extra></extra>",
           "legendgroup": "NISSAN",
           "marker": {
            "color": "#00cc96",
            "pattern": {
             "shape": ""
            }
           },
           "name": "NISSAN",
           "offsetgroup": "NISSAN",
           "orientation": "h",
           "showlegend": true,
           "textposition": "auto",
           "type": "bar",
           "x": [
            0
           ],
           "xaxis": "x",
           "y": [
            "NISSAN"
           ],
           "yaxis": "y"
          },
          {
           "alignmentgroup": "True",
           "hovertemplate": "Car Make=%{y}<br>Model Year=1997<br>Number of EVs=%{x}<extra></extra>",
           "legendgroup": "FORD",
           "marker": {
            "color": "#ab63fa",
            "pattern": {
             "shape": ""
            }
           },
           "name": "FORD",
           "offsetgroup": "FORD",
           "orientation": "h",
           "showlegend": true,
           "textposition": "auto",
           "type": "bar",
           "x": [
            0
           ],
           "xaxis": "x",
           "y": [
            "FORD"
           ],
           "yaxis": "y"
          },
          {
           "alignmentgroup": "True",
           "hovertemplate": "Car Make=%{y}<br>Model Year=1997<br>Number of EVs=%{x}<extra></extra>",
           "legendgroup": "TESLA",
           "marker": {
            "color": "#FFA15A",
            "pattern": {
             "shape": ""
            }
           },
           "name": "TESLA",
           "offsetgroup": "TESLA",
           "orientation": "h",
           "showlegend": true,
           "textposition": "auto",
           "type": "bar",
           "x": [
            0
           ],
           "xaxis": "x",
           "y": [
            "TESLA"
           ],
           "yaxis": "y"
          },
          {
           "alignmentgroup": "True",
           "hovertemplate": "Car Make=%{y}<br>Model Year=1997<br>Number of EVs=%{x}<extra></extra>",
           "legendgroup": "KIA",
           "marker": {
            "color": "#19d3f3",
            "pattern": {
             "shape": ""
            }
           },
           "name": "KIA",
           "offsetgroup": "KIA",
           "orientation": "h",
           "showlegend": true,
           "textposition": "auto",
           "type": "bar",
           "x": [
            0
           ],
           "xaxis": "x",
           "y": [
            "KIA"
           ],
           "yaxis": "y"
          },
          {
           "alignmentgroup": "True",
           "hovertemplate": "Car Make=%{y}<br>Model Year=1997<br>Number of EVs=%{x}<extra></extra>",
           "legendgroup": "AUDI",
           "marker": {
            "color": "#FF6692",
            "pattern": {
             "shape": ""
            }
           },
           "name": "AUDI",
           "offsetgroup": "AUDI",
           "orientation": "h",
           "showlegend": true,
           "textposition": "auto",
           "type": "bar",
           "x": [
            0
           ],
           "xaxis": "x",
           "y": [
            "AUDI"
           ],
           "yaxis": "y"
          },
          {
           "alignmentgroup": "True",
           "hovertemplate": "Car Make=%{y}<br>Model Year=1997<br>Number of EVs=%{x}<extra></extra>",
           "legendgroup": "BMW",
           "marker": {
            "color": "#B6E880",
            "pattern": {
             "shape": ""
            }
           },
           "name": "BMW",
           "offsetgroup": "BMW",
           "orientation": "h",
           "showlegend": true,
           "textposition": "auto",
           "type": "bar",
           "x": [
            0
           ],
           "xaxis": "x",
           "y": [
            "BMW"
           ],
           "yaxis": "y"
          },
          {
           "alignmentgroup": "True",
           "hovertemplate": "Car Make=%{y}<br>Model Year=1997<br>Number of EVs=%{x}<extra></extra>",
           "legendgroup": "VOLVO",
           "marker": {
            "color": "#FF97FF",
            "pattern": {
             "shape": ""
            }
           },
           "name": "VOLVO",
           "offsetgroup": "VOLVO",
           "orientation": "h",
           "showlegend": true,
           "textposition": "auto",
           "type": "bar",
           "x": [
            0
           ],
           "xaxis": "x",
           "y": [
            "VOLVO"
           ],
           "yaxis": "y"
          },
          {
           "alignmentgroup": "True",
           "hovertemplate": "Car Make=%{y}<br>Model Year=1997<br>Number of EVs=%{x}<extra></extra>",
           "legendgroup": "VOLKSWAGEN",
           "marker": {
            "color": "#FECB52",
            "pattern": {
             "shape": ""
            }
           },
           "name": "VOLKSWAGEN",
           "offsetgroup": "VOLKSWAGEN",
           "orientation": "h",
           "showlegend": true,
           "textposition": "auto",
           "type": "bar",
           "x": [
            0
           ],
           "xaxis": "x",
           "y": [
            "VOLKSWAGEN"
           ],
           "yaxis": "y"
          }
         ],
         "name": "1997"
        },
        {
         "data": [
          {
           "alignmentgroup": "True",
           "hovertemplate": "Car Make=%{y}<br>Model Year=1998<br>Number of EVs=%{x}<extra></extra>",
           "legendgroup": "TOYOTA",
           "marker": {
            "color": "#636efa",
            "pattern": {
             "shape": ""
            }
           },
           "name": "TOYOTA",
           "offsetgroup": "TOYOTA",
           "orientation": "h",
           "showlegend": true,
           "textposition": "auto",
           "type": "bar",
           "x": [
            0
           ],
           "xaxis": "x",
           "y": [
            "TOYOTA"
           ],
           "yaxis": "y"
          },
          {
           "alignmentgroup": "True",
           "hovertemplate": "Car Make=%{y}<br>Model Year=1998<br>Number of EVs=%{x}<extra></extra>",
           "legendgroup": "CHEVROLET",
           "marker": {
            "color": "#EF553B",
            "pattern": {
             "shape": ""
            }
           },
           "name": "CHEVROLET",
           "offsetgroup": "CHEVROLET",
           "orientation": "h",
           "showlegend": true,
           "textposition": "auto",
           "type": "bar",
           "x": [
            0
           ],
           "xaxis": "x",
           "y": [
            "CHEVROLET"
           ],
           "yaxis": "y"
          },
          {
           "alignmentgroup": "True",
           "hovertemplate": "Car Make=%{y}<br>Model Year=1998<br>Number of EVs=%{x}<extra></extra>",
           "legendgroup": "NISSAN",
           "marker": {
            "color": "#00cc96",
            "pattern": {
             "shape": ""
            }
           },
           "name": "NISSAN",
           "offsetgroup": "NISSAN",
           "orientation": "h",
           "showlegend": true,
           "textposition": "auto",
           "type": "bar",
           "x": [
            0
           ],
           "xaxis": "x",
           "y": [
            "NISSAN"
           ],
           "yaxis": "y"
          },
          {
           "alignmentgroup": "True",
           "hovertemplate": "Car Make=%{y}<br>Model Year=1998<br>Number of EVs=%{x}<extra></extra>",
           "legendgroup": "FORD",
           "marker": {
            "color": "#ab63fa",
            "pattern": {
             "shape": ""
            }
           },
           "name": "FORD",
           "offsetgroup": "FORD",
           "orientation": "h",
           "showlegend": true,
           "textposition": "auto",
           "type": "bar",
           "x": [
            1
           ],
           "xaxis": "x",
           "y": [
            "FORD"
           ],
           "yaxis": "y"
          },
          {
           "alignmentgroup": "True",
           "hovertemplate": "Car Make=%{y}<br>Model Year=1998<br>Number of EVs=%{x}<extra></extra>",
           "legendgroup": "TESLA",
           "marker": {
            "color": "#FFA15A",
            "pattern": {
             "shape": ""
            }
           },
           "name": "TESLA",
           "offsetgroup": "TESLA",
           "orientation": "h",
           "showlegend": true,
           "textposition": "auto",
           "type": "bar",
           "x": [
            0
           ],
           "xaxis": "x",
           "y": [
            "TESLA"
           ],
           "yaxis": "y"
          },
          {
           "alignmentgroup": "True",
           "hovertemplate": "Car Make=%{y}<br>Model Year=1998<br>Number of EVs=%{x}<extra></extra>",
           "legendgroup": "KIA",
           "marker": {
            "color": "#19d3f3",
            "pattern": {
             "shape": ""
            }
           },
           "name": "KIA",
           "offsetgroup": "KIA",
           "orientation": "h",
           "showlegend": true,
           "textposition": "auto",
           "type": "bar",
           "x": [
            0
           ],
           "xaxis": "x",
           "y": [
            "KIA"
           ],
           "yaxis": "y"
          },
          {
           "alignmentgroup": "True",
           "hovertemplate": "Car Make=%{y}<br>Model Year=1998<br>Number of EVs=%{x}<extra></extra>",
           "legendgroup": "AUDI",
           "marker": {
            "color": "#FF6692",
            "pattern": {
             "shape": ""
            }
           },
           "name": "AUDI",
           "offsetgroup": "AUDI",
           "orientation": "h",
           "showlegend": true,
           "textposition": "auto",
           "type": "bar",
           "x": [
            0
           ],
           "xaxis": "x",
           "y": [
            "AUDI"
           ],
           "yaxis": "y"
          },
          {
           "alignmentgroup": "True",
           "hovertemplate": "Car Make=%{y}<br>Model Year=1998<br>Number of EVs=%{x}<extra></extra>",
           "legendgroup": "BMW",
           "marker": {
            "color": "#B6E880",
            "pattern": {
             "shape": ""
            }
           },
           "name": "BMW",
           "offsetgroup": "BMW",
           "orientation": "h",
           "showlegend": true,
           "textposition": "auto",
           "type": "bar",
           "x": [
            0
           ],
           "xaxis": "x",
           "y": [
            "BMW"
           ],
           "yaxis": "y"
          },
          {
           "alignmentgroup": "True",
           "hovertemplate": "Car Make=%{y}<br>Model Year=1998<br>Number of EVs=%{x}<extra></extra>",
           "legendgroup": "VOLVO",
           "marker": {
            "color": "#FF97FF",
            "pattern": {
             "shape": ""
            }
           },
           "name": "VOLVO",
           "offsetgroup": "VOLVO",
           "orientation": "h",
           "showlegend": true,
           "textposition": "auto",
           "type": "bar",
           "x": [
            0
           ],
           "xaxis": "x",
           "y": [
            "VOLVO"
           ],
           "yaxis": "y"
          },
          {
           "alignmentgroup": "True",
           "hovertemplate": "Car Make=%{y}<br>Model Year=1998<br>Number of EVs=%{x}<extra></extra>",
           "legendgroup": "VOLKSWAGEN",
           "marker": {
            "color": "#FECB52",
            "pattern": {
             "shape": ""
            }
           },
           "name": "VOLKSWAGEN",
           "offsetgroup": "VOLKSWAGEN",
           "orientation": "h",
           "showlegend": true,
           "textposition": "auto",
           "type": "bar",
           "x": [
            0
           ],
           "xaxis": "x",
           "y": [
            "VOLKSWAGEN"
           ],
           "yaxis": "y"
          }
         ],
         "name": "1998"
        },
        {
         "data": [
          {
           "alignmentgroup": "True",
           "hovertemplate": "Car Make=%{y}<br>Model Year=1999<br>Number of EVs=%{x}<extra></extra>",
           "legendgroup": "TOYOTA",
           "marker": {
            "color": "#636efa",
            "pattern": {
             "shape": ""
            }
           },
           "name": "TOYOTA",
           "offsetgroup": "TOYOTA",
           "orientation": "h",
           "showlegend": true,
           "textposition": "auto",
           "type": "bar",
           "x": [
            0
           ],
           "xaxis": "x",
           "y": [
            "TOYOTA"
           ],
           "yaxis": "y"
          },
          {
           "alignmentgroup": "True",
           "hovertemplate": "Car Make=%{y}<br>Model Year=1999<br>Number of EVs=%{x}<extra></extra>",
           "legendgroup": "CHEVROLET",
           "marker": {
            "color": "#EF553B",
            "pattern": {
             "shape": ""
            }
           },
           "name": "CHEVROLET",
           "offsetgroup": "CHEVROLET",
           "orientation": "h",
           "showlegend": true,
           "textposition": "auto",
           "type": "bar",
           "x": [
            0
           ],
           "xaxis": "x",
           "y": [
            "CHEVROLET"
           ],
           "yaxis": "y"
          },
          {
           "alignmentgroup": "True",
           "hovertemplate": "Car Make=%{y}<br>Model Year=1999<br>Number of EVs=%{x}<extra></extra>",
           "legendgroup": "NISSAN",
           "marker": {
            "color": "#00cc96",
            "pattern": {
             "shape": ""
            }
           },
           "name": "NISSAN",
           "offsetgroup": "NISSAN",
           "orientation": "h",
           "showlegend": true,
           "textposition": "auto",
           "type": "bar",
           "x": [
            0
           ],
           "xaxis": "x",
           "y": [
            "NISSAN"
           ],
           "yaxis": "y"
          },
          {
           "alignmentgroup": "True",
           "hovertemplate": "Car Make=%{y}<br>Model Year=1999<br>Number of EVs=%{x}<extra></extra>",
           "legendgroup": "FORD",
           "marker": {
            "color": "#ab63fa",
            "pattern": {
             "shape": ""
            }
           },
           "name": "FORD",
           "offsetgroup": "FORD",
           "orientation": "h",
           "showlegend": true,
           "textposition": "auto",
           "type": "bar",
           "x": [
            3
           ],
           "xaxis": "x",
           "y": [
            "FORD"
           ],
           "yaxis": "y"
          },
          {
           "alignmentgroup": "True",
           "hovertemplate": "Car Make=%{y}<br>Model Year=1999<br>Number of EVs=%{x}<extra></extra>",
           "legendgroup": "TESLA",
           "marker": {
            "color": "#FFA15A",
            "pattern": {
             "shape": ""
            }
           },
           "name": "TESLA",
           "offsetgroup": "TESLA",
           "orientation": "h",
           "showlegend": true,
           "textposition": "auto",
           "type": "bar",
           "x": [
            0
           ],
           "xaxis": "x",
           "y": [
            "TESLA"
           ],
           "yaxis": "y"
          },
          {
           "alignmentgroup": "True",
           "hovertemplate": "Car Make=%{y}<br>Model Year=1999<br>Number of EVs=%{x}<extra></extra>",
           "legendgroup": "KIA",
           "marker": {
            "color": "#19d3f3",
            "pattern": {
             "shape": ""
            }
           },
           "name": "KIA",
           "offsetgroup": "KIA",
           "orientation": "h",
           "showlegend": true,
           "textposition": "auto",
           "type": "bar",
           "x": [
            0
           ],
           "xaxis": "x",
           "y": [
            "KIA"
           ],
           "yaxis": "y"
          },
          {
           "alignmentgroup": "True",
           "hovertemplate": "Car Make=%{y}<br>Model Year=1999<br>Number of EVs=%{x}<extra></extra>",
           "legendgroup": "AUDI",
           "marker": {
            "color": "#FF6692",
            "pattern": {
             "shape": ""
            }
           },
           "name": "AUDI",
           "offsetgroup": "AUDI",
           "orientation": "h",
           "showlegend": true,
           "textposition": "auto",
           "type": "bar",
           "x": [
            0
           ],
           "xaxis": "x",
           "y": [
            "AUDI"
           ],
           "yaxis": "y"
          },
          {
           "alignmentgroup": "True",
           "hovertemplate": "Car Make=%{y}<br>Model Year=1999<br>Number of EVs=%{x}<extra></extra>",
           "legendgroup": "BMW",
           "marker": {
            "color": "#B6E880",
            "pattern": {
             "shape": ""
            }
           },
           "name": "BMW",
           "offsetgroup": "BMW",
           "orientation": "h",
           "showlegend": true,
           "textposition": "auto",
           "type": "bar",
           "x": [
            0
           ],
           "xaxis": "x",
           "y": [
            "BMW"
           ],
           "yaxis": "y"
          },
          {
           "alignmentgroup": "True",
           "hovertemplate": "Car Make=%{y}<br>Model Year=1999<br>Number of EVs=%{x}<extra></extra>",
           "legendgroup": "VOLVO",
           "marker": {
            "color": "#FF97FF",
            "pattern": {
             "shape": ""
            }
           },
           "name": "VOLVO",
           "offsetgroup": "VOLVO",
           "orientation": "h",
           "showlegend": true,
           "textposition": "auto",
           "type": "bar",
           "x": [
            0
           ],
           "xaxis": "x",
           "y": [
            "VOLVO"
           ],
           "yaxis": "y"
          },
          {
           "alignmentgroup": "True",
           "hovertemplate": "Car Make=%{y}<br>Model Year=1999<br>Number of EVs=%{x}<extra></extra>",
           "legendgroup": "VOLKSWAGEN",
           "marker": {
            "color": "#FECB52",
            "pattern": {
             "shape": ""
            }
           },
           "name": "VOLKSWAGEN",
           "offsetgroup": "VOLKSWAGEN",
           "orientation": "h",
           "showlegend": true,
           "textposition": "auto",
           "type": "bar",
           "x": [
            0
           ],
           "xaxis": "x",
           "y": [
            "VOLKSWAGEN"
           ],
           "yaxis": "y"
          }
         ],
         "name": "1999"
        },
        {
         "data": [
          {
           "alignmentgroup": "True",
           "hovertemplate": "Car Make=%{y}<br>Model Year=2000<br>Number of EVs=%{x}<extra></extra>",
           "legendgroup": "TOYOTA",
           "marker": {
            "color": "#636efa",
            "pattern": {
             "shape": ""
            }
           },
           "name": "TOYOTA",
           "offsetgroup": "TOYOTA",
           "orientation": "h",
           "showlegend": true,
           "textposition": "auto",
           "type": "bar",
           "x": [
            0
           ],
           "xaxis": "x",
           "y": [
            "TOYOTA"
           ],
           "yaxis": "y"
          },
          {
           "alignmentgroup": "True",
           "hovertemplate": "Car Make=%{y}<br>Model Year=2000<br>Number of EVs=%{x}<extra></extra>",
           "legendgroup": "CHEVROLET",
           "marker": {
            "color": "#EF553B",
            "pattern": {
             "shape": ""
            }
           },
           "name": "CHEVROLET",
           "offsetgroup": "CHEVROLET",
           "orientation": "h",
           "showlegend": true,
           "textposition": "auto",
           "type": "bar",
           "x": [
            0
           ],
           "xaxis": "x",
           "y": [
            "CHEVROLET"
           ],
           "yaxis": "y"
          },
          {
           "alignmentgroup": "True",
           "hovertemplate": "Car Make=%{y}<br>Model Year=2000<br>Number of EVs=%{x}<extra></extra>",
           "legendgroup": "NISSAN",
           "marker": {
            "color": "#00cc96",
            "pattern": {
             "shape": ""
            }
           },
           "name": "NISSAN",
           "offsetgroup": "NISSAN",
           "orientation": "h",
           "showlegend": true,
           "textposition": "auto",
           "type": "bar",
           "x": [
            0
           ],
           "xaxis": "x",
           "y": [
            "NISSAN"
           ],
           "yaxis": "y"
          },
          {
           "alignmentgroup": "True",
           "hovertemplate": "Car Make=%{y}<br>Model Year=2000<br>Number of EVs=%{x}<extra></extra>",
           "legendgroup": "FORD",
           "marker": {
            "color": "#ab63fa",
            "pattern": {
             "shape": ""
            }
           },
           "name": "FORD",
           "offsetgroup": "FORD",
           "orientation": "h",
           "showlegend": true,
           "textposition": "auto",
           "type": "bar",
           "x": [
            10
           ],
           "xaxis": "x",
           "y": [
            "FORD"
           ],
           "yaxis": "y"
          },
          {
           "alignmentgroup": "True",
           "hovertemplate": "Car Make=%{y}<br>Model Year=2000<br>Number of EVs=%{x}<extra></extra>",
           "legendgroup": "TESLA",
           "marker": {
            "color": "#FFA15A",
            "pattern": {
             "shape": ""
            }
           },
           "name": "TESLA",
           "offsetgroup": "TESLA",
           "orientation": "h",
           "showlegend": true,
           "textposition": "auto",
           "type": "bar",
           "x": [
            0
           ],
           "xaxis": "x",
           "y": [
            "TESLA"
           ],
           "yaxis": "y"
          },
          {
           "alignmentgroup": "True",
           "hovertemplate": "Car Make=%{y}<br>Model Year=2000<br>Number of EVs=%{x}<extra></extra>",
           "legendgroup": "KIA",
           "marker": {
            "color": "#19d3f3",
            "pattern": {
             "shape": ""
            }
           },
           "name": "KIA",
           "offsetgroup": "KIA",
           "orientation": "h",
           "showlegend": true,
           "textposition": "auto",
           "type": "bar",
           "x": [
            0
           ],
           "xaxis": "x",
           "y": [
            "KIA"
           ],
           "yaxis": "y"
          },
          {
           "alignmentgroup": "True",
           "hovertemplate": "Car Make=%{y}<br>Model Year=2000<br>Number of EVs=%{x}<extra></extra>",
           "legendgroup": "AUDI",
           "marker": {
            "color": "#FF6692",
            "pattern": {
             "shape": ""
            }
           },
           "name": "AUDI",
           "offsetgroup": "AUDI",
           "orientation": "h",
           "showlegend": true,
           "textposition": "auto",
           "type": "bar",
           "x": [
            0
           ],
           "xaxis": "x",
           "y": [
            "AUDI"
           ],
           "yaxis": "y"
          },
          {
           "alignmentgroup": "True",
           "hovertemplate": "Car Make=%{y}<br>Model Year=2000<br>Number of EVs=%{x}<extra></extra>",
           "legendgroup": "BMW",
           "marker": {
            "color": "#B6E880",
            "pattern": {
             "shape": ""
            }
           },
           "name": "BMW",
           "offsetgroup": "BMW",
           "orientation": "h",
           "showlegend": true,
           "textposition": "auto",
           "type": "bar",
           "x": [
            0
           ],
           "xaxis": "x",
           "y": [
            "BMW"
           ],
           "yaxis": "y"
          },
          {
           "alignmentgroup": "True",
           "hovertemplate": "Car Make=%{y}<br>Model Year=2000<br>Number of EVs=%{x}<extra></extra>",
           "legendgroup": "VOLVO",
           "marker": {
            "color": "#FF97FF",
            "pattern": {
             "shape": ""
            }
           },
           "name": "VOLVO",
           "offsetgroup": "VOLVO",
           "orientation": "h",
           "showlegend": true,
           "textposition": "auto",
           "type": "bar",
           "x": [
            0
           ],
           "xaxis": "x",
           "y": [
            "VOLVO"
           ],
           "yaxis": "y"
          },
          {
           "alignmentgroup": "True",
           "hovertemplate": "Car Make=%{y}<br>Model Year=2000<br>Number of EVs=%{x}<extra></extra>",
           "legendgroup": "VOLKSWAGEN",
           "marker": {
            "color": "#FECB52",
            "pattern": {
             "shape": ""
            }
           },
           "name": "VOLKSWAGEN",
           "offsetgroup": "VOLKSWAGEN",
           "orientation": "h",
           "showlegend": true,
           "textposition": "auto",
           "type": "bar",
           "x": [
            0
           ],
           "xaxis": "x",
           "y": [
            "VOLKSWAGEN"
           ],
           "yaxis": "y"
          }
         ],
         "name": "2000"
        },
        {
         "data": [
          {
           "alignmentgroup": "True",
           "hovertemplate": "Car Make=%{y}<br>Model Year=2002<br>Number of EVs=%{x}<extra></extra>",
           "legendgroup": "TOYOTA",
           "marker": {
            "color": "#636efa",
            "pattern": {
             "shape": ""
            }
           },
           "name": "TOYOTA",
           "offsetgroup": "TOYOTA",
           "orientation": "h",
           "showlegend": true,
           "textposition": "auto",
           "type": "bar",
           "x": [
            2
           ],
           "xaxis": "x",
           "y": [
            "TOYOTA"
           ],
           "yaxis": "y"
          },
          {
           "alignmentgroup": "True",
           "hovertemplate": "Car Make=%{y}<br>Model Year=2002<br>Number of EVs=%{x}<extra></extra>",
           "legendgroup": "CHEVROLET",
           "marker": {
            "color": "#EF553B",
            "pattern": {
             "shape": ""
            }
           },
           "name": "CHEVROLET",
           "offsetgroup": "CHEVROLET",
           "orientation": "h",
           "showlegend": true,
           "textposition": "auto",
           "type": "bar",
           "x": [
            0
           ],
           "xaxis": "x",
           "y": [
            "CHEVROLET"
           ],
           "yaxis": "y"
          },
          {
           "alignmentgroup": "True",
           "hovertemplate": "Car Make=%{y}<br>Model Year=2002<br>Number of EVs=%{x}<extra></extra>",
           "legendgroup": "NISSAN",
           "marker": {
            "color": "#00cc96",
            "pattern": {
             "shape": ""
            }
           },
           "name": "NISSAN",
           "offsetgroup": "NISSAN",
           "orientation": "h",
           "showlegend": true,
           "textposition": "auto",
           "type": "bar",
           "x": [
            0
           ],
           "xaxis": "x",
           "y": [
            "NISSAN"
           ],
           "yaxis": "y"
          },
          {
           "alignmentgroup": "True",
           "hovertemplate": "Car Make=%{y}<br>Model Year=2002<br>Number of EVs=%{x}<extra></extra>",
           "legendgroup": "FORD",
           "marker": {
            "color": "#ab63fa",
            "pattern": {
             "shape": ""
            }
           },
           "name": "FORD",
           "offsetgroup": "FORD",
           "orientation": "h",
           "showlegend": true,
           "textposition": "auto",
           "type": "bar",
           "x": [
            0
           ],
           "xaxis": "x",
           "y": [
            "FORD"
           ],
           "yaxis": "y"
          },
          {
           "alignmentgroup": "True",
           "hovertemplate": "Car Make=%{y}<br>Model Year=2002<br>Number of EVs=%{x}<extra></extra>",
           "legendgroup": "TESLA",
           "marker": {
            "color": "#FFA15A",
            "pattern": {
             "shape": ""
            }
           },
           "name": "TESLA",
           "offsetgroup": "TESLA",
           "orientation": "h",
           "showlegend": true,
           "textposition": "auto",
           "type": "bar",
           "x": [
            0
           ],
           "xaxis": "x",
           "y": [
            "TESLA"
           ],
           "yaxis": "y"
          },
          {
           "alignmentgroup": "True",
           "hovertemplate": "Car Make=%{y}<br>Model Year=2002<br>Number of EVs=%{x}<extra></extra>",
           "legendgroup": "KIA",
           "marker": {
            "color": "#19d3f3",
            "pattern": {
             "shape": ""
            }
           },
           "name": "KIA",
           "offsetgroup": "KIA",
           "orientation": "h",
           "showlegend": true,
           "textposition": "auto",
           "type": "bar",
           "x": [
            0
           ],
           "xaxis": "x",
           "y": [
            "KIA"
           ],
           "yaxis": "y"
          },
          {
           "alignmentgroup": "True",
           "hovertemplate": "Car Make=%{y}<br>Model Year=2002<br>Number of EVs=%{x}<extra></extra>",
           "legendgroup": "AUDI",
           "marker": {
            "color": "#FF6692",
            "pattern": {
             "shape": ""
            }
           },
           "name": "AUDI",
           "offsetgroup": "AUDI",
           "orientation": "h",
           "showlegend": true,
           "textposition": "auto",
           "type": "bar",
           "x": [
            0
           ],
           "xaxis": "x",
           "y": [
            "AUDI"
           ],
           "yaxis": "y"
          },
          {
           "alignmentgroup": "True",
           "hovertemplate": "Car Make=%{y}<br>Model Year=2002<br>Number of EVs=%{x}<extra></extra>",
           "legendgroup": "BMW",
           "marker": {
            "color": "#B6E880",
            "pattern": {
             "shape": ""
            }
           },
           "name": "BMW",
           "offsetgroup": "BMW",
           "orientation": "h",
           "showlegend": true,
           "textposition": "auto",
           "type": "bar",
           "x": [
            0
           ],
           "xaxis": "x",
           "y": [
            "BMW"
           ],
           "yaxis": "y"
          },
          {
           "alignmentgroup": "True",
           "hovertemplate": "Car Make=%{y}<br>Model Year=2002<br>Number of EVs=%{x}<extra></extra>",
           "legendgroup": "VOLVO",
           "marker": {
            "color": "#FF97FF",
            "pattern": {
             "shape": ""
            }
           },
           "name": "VOLVO",
           "offsetgroup": "VOLVO",
           "orientation": "h",
           "showlegend": true,
           "textposition": "auto",
           "type": "bar",
           "x": [
            0
           ],
           "xaxis": "x",
           "y": [
            "VOLVO"
           ],
           "yaxis": "y"
          },
          {
           "alignmentgroup": "True",
           "hovertemplate": "Car Make=%{y}<br>Model Year=2002<br>Number of EVs=%{x}<extra></extra>",
           "legendgroup": "VOLKSWAGEN",
           "marker": {
            "color": "#FECB52",
            "pattern": {
             "shape": ""
            }
           },
           "name": "VOLKSWAGEN",
           "offsetgroup": "VOLKSWAGEN",
           "orientation": "h",
           "showlegend": true,
           "textposition": "auto",
           "type": "bar",
           "x": [
            0
           ],
           "xaxis": "x",
           "y": [
            "VOLKSWAGEN"
           ],
           "yaxis": "y"
          }
         ],
         "name": "2002"
        },
        {
         "data": [
          {
           "alignmentgroup": "True",
           "hovertemplate": "Car Make=%{y}<br>Model Year=2008<br>Number of EVs=%{x}<extra></extra>",
           "legendgroup": "TOYOTA",
           "marker": {
            "color": "#636efa",
            "pattern": {
             "shape": ""
            }
           },
           "name": "TOYOTA",
           "offsetgroup": "TOYOTA",
           "orientation": "h",
           "showlegend": true,
           "textposition": "auto",
           "type": "bar",
           "x": [
            0
           ],
           "xaxis": "x",
           "y": [
            "TOYOTA"
           ],
           "yaxis": "y"
          },
          {
           "alignmentgroup": "True",
           "hovertemplate": "Car Make=%{y}<br>Model Year=2008<br>Number of EVs=%{x}<extra></extra>",
           "legendgroup": "CHEVROLET",
           "marker": {
            "color": "#EF553B",
            "pattern": {
             "shape": ""
            }
           },
           "name": "CHEVROLET",
           "offsetgroup": "CHEVROLET",
           "orientation": "h",
           "showlegend": true,
           "textposition": "auto",
           "type": "bar",
           "x": [
            0
           ],
           "xaxis": "x",
           "y": [
            "CHEVROLET"
           ],
           "yaxis": "y"
          },
          {
           "alignmentgroup": "True",
           "hovertemplate": "Car Make=%{y}<br>Model Year=2008<br>Number of EVs=%{x}<extra></extra>",
           "legendgroup": "NISSAN",
           "marker": {
            "color": "#00cc96",
            "pattern": {
             "shape": ""
            }
           },
           "name": "NISSAN",
           "offsetgroup": "NISSAN",
           "orientation": "h",
           "showlegend": true,
           "textposition": "auto",
           "type": "bar",
           "x": [
            0
           ],
           "xaxis": "x",
           "y": [
            "NISSAN"
           ],
           "yaxis": "y"
          },
          {
           "alignmentgroup": "True",
           "hovertemplate": "Car Make=%{y}<br>Model Year=2008<br>Number of EVs=%{x}<extra></extra>",
           "legendgroup": "FORD",
           "marker": {
            "color": "#ab63fa",
            "pattern": {
             "shape": ""
            }
           },
           "name": "FORD",
           "offsetgroup": "FORD",
           "orientation": "h",
           "showlegend": true,
           "textposition": "auto",
           "type": "bar",
           "x": [
            0
           ],
           "xaxis": "x",
           "y": [
            "FORD"
           ],
           "yaxis": "y"
          },
          {
           "alignmentgroup": "True",
           "hovertemplate": "Car Make=%{y}<br>Model Year=2008<br>Number of EVs=%{x}<extra></extra>",
           "legendgroup": "TESLA",
           "marker": {
            "color": "#FFA15A",
            "pattern": {
             "shape": ""
            }
           },
           "name": "TESLA",
           "offsetgroup": "TESLA",
           "orientation": "h",
           "showlegend": true,
           "textposition": "auto",
           "type": "bar",
           "x": [
            23
           ],
           "xaxis": "x",
           "y": [
            "TESLA"
           ],
           "yaxis": "y"
          },
          {
           "alignmentgroup": "True",
           "hovertemplate": "Car Make=%{y}<br>Model Year=2008<br>Number of EVs=%{x}<extra></extra>",
           "legendgroup": "KIA",
           "marker": {
            "color": "#19d3f3",
            "pattern": {
             "shape": ""
            }
           },
           "name": "KIA",
           "offsetgroup": "KIA",
           "orientation": "h",
           "showlegend": true,
           "textposition": "auto",
           "type": "bar",
           "x": [
            0
           ],
           "xaxis": "x",
           "y": [
            "KIA"
           ],
           "yaxis": "y"
          },
          {
           "alignmentgroup": "True",
           "hovertemplate": "Car Make=%{y}<br>Model Year=2008<br>Number of EVs=%{x}<extra></extra>",
           "legendgroup": "AUDI",
           "marker": {
            "color": "#FF6692",
            "pattern": {
             "shape": ""
            }
           },
           "name": "AUDI",
           "offsetgroup": "AUDI",
           "orientation": "h",
           "showlegend": true,
           "textposition": "auto",
           "type": "bar",
           "x": [
            0
           ],
           "xaxis": "x",
           "y": [
            "AUDI"
           ],
           "yaxis": "y"
          },
          {
           "alignmentgroup": "True",
           "hovertemplate": "Car Make=%{y}<br>Model Year=2008<br>Number of EVs=%{x}<extra></extra>",
           "legendgroup": "BMW",
           "marker": {
            "color": "#B6E880",
            "pattern": {
             "shape": ""
            }
           },
           "name": "BMW",
           "offsetgroup": "BMW",
           "orientation": "h",
           "showlegend": true,
           "textposition": "auto",
           "type": "bar",
           "x": [
            0
           ],
           "xaxis": "x",
           "y": [
            "BMW"
           ],
           "yaxis": "y"
          },
          {
           "alignmentgroup": "True",
           "hovertemplate": "Car Make=%{y}<br>Model Year=2008<br>Number of EVs=%{x}<extra></extra>",
           "legendgroup": "VOLVO",
           "marker": {
            "color": "#FF97FF",
            "pattern": {
             "shape": ""
            }
           },
           "name": "VOLVO",
           "offsetgroup": "VOLVO",
           "orientation": "h",
           "showlegend": true,
           "textposition": "auto",
           "type": "bar",
           "x": [
            0
           ],
           "xaxis": "x",
           "y": [
            "VOLVO"
           ],
           "yaxis": "y"
          },
          {
           "alignmentgroup": "True",
           "hovertemplate": "Car Make=%{y}<br>Model Year=2008<br>Number of EVs=%{x}<extra></extra>",
           "legendgroup": "VOLKSWAGEN",
           "marker": {
            "color": "#FECB52",
            "pattern": {
             "shape": ""
            }
           },
           "name": "VOLKSWAGEN",
           "offsetgroup": "VOLKSWAGEN",
           "orientation": "h",
           "showlegend": true,
           "textposition": "auto",
           "type": "bar",
           "x": [
            0
           ],
           "xaxis": "x",
           "y": [
            "VOLKSWAGEN"
           ],
           "yaxis": "y"
          }
         ],
         "name": "2008"
        },
        {
         "data": [
          {
           "alignmentgroup": "True",
           "hovertemplate": "Car Make=%{y}<br>Model Year=2010<br>Number of EVs=%{x}<extra></extra>",
           "legendgroup": "TOYOTA",
           "marker": {
            "color": "#636efa",
            "pattern": {
             "shape": ""
            }
           },
           "name": "TOYOTA",
           "offsetgroup": "TOYOTA",
           "orientation": "h",
           "showlegend": true,
           "textposition": "auto",
           "type": "bar",
           "x": [
            0
           ],
           "xaxis": "x",
           "y": [
            "TOYOTA"
           ],
           "yaxis": "y"
          },
          {
           "alignmentgroup": "True",
           "hovertemplate": "Car Make=%{y}<br>Model Year=2010<br>Number of EVs=%{x}<extra></extra>",
           "legendgroup": "CHEVROLET",
           "marker": {
            "color": "#EF553B",
            "pattern": {
             "shape": ""
            }
           },
           "name": "CHEVROLET",
           "offsetgroup": "CHEVROLET",
           "orientation": "h",
           "showlegend": true,
           "textposition": "auto",
           "type": "bar",
           "x": [
            0
           ],
           "xaxis": "x",
           "y": [
            "CHEVROLET"
           ],
           "yaxis": "y"
          },
          {
           "alignmentgroup": "True",
           "hovertemplate": "Car Make=%{y}<br>Model Year=2010<br>Number of EVs=%{x}<extra></extra>",
           "legendgroup": "NISSAN",
           "marker": {
            "color": "#00cc96",
            "pattern": {
             "shape": ""
            }
           },
           "name": "NISSAN",
           "offsetgroup": "NISSAN",
           "orientation": "h",
           "showlegend": true,
           "textposition": "auto",
           "type": "bar",
           "x": [
            0
           ],
           "xaxis": "x",
           "y": [
            "NISSAN"
           ],
           "yaxis": "y"
          },
          {
           "alignmentgroup": "True",
           "hovertemplate": "Car Make=%{y}<br>Model Year=2010<br>Number of EVs=%{x}<extra></extra>",
           "legendgroup": "FORD",
           "marker": {
            "color": "#ab63fa",
            "pattern": {
             "shape": ""
            }
           },
           "name": "FORD",
           "offsetgroup": "FORD",
           "orientation": "h",
           "showlegend": true,
           "textposition": "auto",
           "type": "bar",
           "x": [
            0
           ],
           "xaxis": "x",
           "y": [
            "FORD"
           ],
           "yaxis": "y"
          },
          {
           "alignmentgroup": "True",
           "hovertemplate": "Car Make=%{y}<br>Model Year=2010<br>Number of EVs=%{x}<extra></extra>",
           "legendgroup": "TESLA",
           "marker": {
            "color": "#FFA15A",
            "pattern": {
             "shape": ""
            }
           },
           "name": "TESLA",
           "offsetgroup": "TESLA",
           "orientation": "h",
           "showlegend": true,
           "textposition": "auto",
           "type": "bar",
           "x": [
            24
           ],
           "xaxis": "x",
           "y": [
            "TESLA"
           ],
           "yaxis": "y"
          },
          {
           "alignmentgroup": "True",
           "hovertemplate": "Car Make=%{y}<br>Model Year=2010<br>Number of EVs=%{x}<extra></extra>",
           "legendgroup": "KIA",
           "marker": {
            "color": "#19d3f3",
            "pattern": {
             "shape": ""
            }
           },
           "name": "KIA",
           "offsetgroup": "KIA",
           "orientation": "h",
           "showlegend": true,
           "textposition": "auto",
           "type": "bar",
           "x": [
            0
           ],
           "xaxis": "x",
           "y": [
            "KIA"
           ],
           "yaxis": "y"
          },
          {
           "alignmentgroup": "True",
           "hovertemplate": "Car Make=%{y}<br>Model Year=2010<br>Number of EVs=%{x}<extra></extra>",
           "legendgroup": "AUDI",
           "marker": {
            "color": "#FF6692",
            "pattern": {
             "shape": ""
            }
           },
           "name": "AUDI",
           "offsetgroup": "AUDI",
           "orientation": "h",
           "showlegend": true,
           "textposition": "auto",
           "type": "bar",
           "x": [
            0
           ],
           "xaxis": "x",
           "y": [
            "AUDI"
           ],
           "yaxis": "y"
          },
          {
           "alignmentgroup": "True",
           "hovertemplate": "Car Make=%{y}<br>Model Year=2010<br>Number of EVs=%{x}<extra></extra>",
           "legendgroup": "BMW",
           "marker": {
            "color": "#B6E880",
            "pattern": {
             "shape": ""
            }
           },
           "name": "BMW",
           "offsetgroup": "BMW",
           "orientation": "h",
           "showlegend": true,
           "textposition": "auto",
           "type": "bar",
           "x": [
            0
           ],
           "xaxis": "x",
           "y": [
            "BMW"
           ],
           "yaxis": "y"
          },
          {
           "alignmentgroup": "True",
           "hovertemplate": "Car Make=%{y}<br>Model Year=2010<br>Number of EVs=%{x}<extra></extra>",
           "legendgroup": "VOLVO",
           "marker": {
            "color": "#FF97FF",
            "pattern": {
             "shape": ""
            }
           },
           "name": "VOLVO",
           "offsetgroup": "VOLVO",
           "orientation": "h",
           "showlegend": true,
           "textposition": "auto",
           "type": "bar",
           "x": [
            0
           ],
           "xaxis": "x",
           "y": [
            "VOLVO"
           ],
           "yaxis": "y"
          },
          {
           "alignmentgroup": "True",
           "hovertemplate": "Car Make=%{y}<br>Model Year=2010<br>Number of EVs=%{x}<extra></extra>",
           "legendgroup": "VOLKSWAGEN",
           "marker": {
            "color": "#FECB52",
            "pattern": {
             "shape": ""
            }
           },
           "name": "VOLKSWAGEN",
           "offsetgroup": "VOLKSWAGEN",
           "orientation": "h",
           "showlegend": true,
           "textposition": "auto",
           "type": "bar",
           "x": [
            0
           ],
           "xaxis": "x",
           "y": [
            "VOLKSWAGEN"
           ],
           "yaxis": "y"
          }
         ],
         "name": "2010"
        },
        {
         "data": [
          {
           "alignmentgroup": "True",
           "hovertemplate": "Car Make=%{y}<br>Model Year=2011<br>Number of EVs=%{x}<extra></extra>",
           "legendgroup": "TOYOTA",
           "marker": {
            "color": "#636efa",
            "pattern": {
             "shape": ""
            }
           },
           "name": "TOYOTA",
           "offsetgroup": "TOYOTA",
           "orientation": "h",
           "showlegend": true,
           "textposition": "auto",
           "type": "bar",
           "x": [
            0
           ],
           "xaxis": "x",
           "y": [
            "TOYOTA"
           ],
           "yaxis": "y"
          },
          {
           "alignmentgroup": "True",
           "hovertemplate": "Car Make=%{y}<br>Model Year=2011<br>Number of EVs=%{x}<extra></extra>",
           "legendgroup": "CHEVROLET",
           "marker": {
            "color": "#EF553B",
            "pattern": {
             "shape": ""
            }
           },
           "name": "CHEVROLET",
           "offsetgroup": "CHEVROLET",
           "orientation": "h",
           "showlegend": true,
           "textposition": "auto",
           "type": "bar",
           "x": [
            71
           ],
           "xaxis": "x",
           "y": [
            "CHEVROLET"
           ],
           "yaxis": "y"
          },
          {
           "alignmentgroup": "True",
           "hovertemplate": "Car Make=%{y}<br>Model Year=2011<br>Number of EVs=%{x}<extra></extra>",
           "legendgroup": "NISSAN",
           "marker": {
            "color": "#00cc96",
            "pattern": {
             "shape": ""
            }
           },
           "name": "NISSAN",
           "offsetgroup": "NISSAN",
           "orientation": "h",
           "showlegend": true,
           "textposition": "auto",
           "type": "bar",
           "x": [
            755
           ],
           "xaxis": "x",
           "y": [
            "NISSAN"
           ],
           "yaxis": "y"
          },
          {
           "alignmentgroup": "True",
           "hovertemplate": "Car Make=%{y}<br>Model Year=2011<br>Number of EVs=%{x}<extra></extra>",
           "legendgroup": "FORD",
           "marker": {
            "color": "#ab63fa",
            "pattern": {
             "shape": ""
            }
           },
           "name": "FORD",
           "offsetgroup": "FORD",
           "orientation": "h",
           "showlegend": true,
           "textposition": "auto",
           "type": "bar",
           "x": [
            0
           ],
           "xaxis": "x",
           "y": [
            "FORD"
           ],
           "yaxis": "y"
          },
          {
           "alignmentgroup": "True",
           "hovertemplate": "Car Make=%{y}<br>Model Year=2011<br>Number of EVs=%{x}<extra></extra>",
           "legendgroup": "TESLA",
           "marker": {
            "color": "#FFA15A",
            "pattern": {
             "shape": ""
            }
           },
           "name": "TESLA",
           "offsetgroup": "TESLA",
           "orientation": "h",
           "showlegend": true,
           "textposition": "auto",
           "type": "bar",
           "x": [
            7
           ],
           "xaxis": "x",
           "y": [
            "TESLA"
           ],
           "yaxis": "y"
          },
          {
           "alignmentgroup": "True",
           "hovertemplate": "Car Make=%{y}<br>Model Year=2011<br>Number of EVs=%{x}<extra></extra>",
           "legendgroup": "KIA",
           "marker": {
            "color": "#19d3f3",
            "pattern": {
             "shape": ""
            }
           },
           "name": "KIA",
           "offsetgroup": "KIA",
           "orientation": "h",
           "showlegend": true,
           "textposition": "auto",
           "type": "bar",
           "x": [
            0
           ],
           "xaxis": "x",
           "y": [
            "KIA"
           ],
           "yaxis": "y"
          },
          {
           "alignmentgroup": "True",
           "hovertemplate": "Car Make=%{y}<br>Model Year=2011<br>Number of EVs=%{x}<extra></extra>",
           "legendgroup": "AUDI",
           "marker": {
            "color": "#FF6692",
            "pattern": {
             "shape": ""
            }
           },
           "name": "AUDI",
           "offsetgroup": "AUDI",
           "orientation": "h",
           "showlegend": true,
           "textposition": "auto",
           "type": "bar",
           "x": [
            0
           ],
           "xaxis": "x",
           "y": [
            "AUDI"
           ],
           "yaxis": "y"
          },
          {
           "alignmentgroup": "True",
           "hovertemplate": "Car Make=%{y}<br>Model Year=2011<br>Number of EVs=%{x}<extra></extra>",
           "legendgroup": "BMW",
           "marker": {
            "color": "#B6E880",
            "pattern": {
             "shape": ""
            }
           },
           "name": "BMW",
           "offsetgroup": "BMW",
           "orientation": "h",
           "showlegend": true,
           "textposition": "auto",
           "type": "bar",
           "x": [
            0
           ],
           "xaxis": "x",
           "y": [
            "BMW"
           ],
           "yaxis": "y"
          },
          {
           "alignmentgroup": "True",
           "hovertemplate": "Car Make=%{y}<br>Model Year=2011<br>Number of EVs=%{x}<extra></extra>",
           "legendgroup": "VOLVO",
           "marker": {
            "color": "#FF97FF",
            "pattern": {
             "shape": ""
            }
           },
           "name": "VOLVO",
           "offsetgroup": "VOLVO",
           "orientation": "h",
           "showlegend": true,
           "textposition": "auto",
           "type": "bar",
           "x": [
            0
           ],
           "xaxis": "x",
           "y": [
            "VOLVO"
           ],
           "yaxis": "y"
          },
          {
           "alignmentgroup": "True",
           "hovertemplate": "Car Make=%{y}<br>Model Year=2011<br>Number of EVs=%{x}<extra></extra>",
           "legendgroup": "VOLKSWAGEN",
           "marker": {
            "color": "#FECB52",
            "pattern": {
             "shape": ""
            }
           },
           "name": "VOLKSWAGEN",
           "offsetgroup": "VOLKSWAGEN",
           "orientation": "h",
           "showlegend": true,
           "textposition": "auto",
           "type": "bar",
           "x": [
            0
           ],
           "xaxis": "x",
           "y": [
            "VOLKSWAGEN"
           ],
           "yaxis": "y"
          }
         ],
         "name": "2011"
        },
        {
         "data": [
          {
           "alignmentgroup": "True",
           "hovertemplate": "Car Make=%{y}<br>Model Year=2012<br>Number of EVs=%{x}<extra></extra>",
           "legendgroup": "TOYOTA",
           "marker": {
            "color": "#636efa",
            "pattern": {
             "shape": ""
            }
           },
           "name": "TOYOTA",
           "offsetgroup": "TOYOTA",
           "orientation": "h",
           "showlegend": true,
           "textposition": "auto",
           "type": "bar",
           "x": [
            385
           ],
           "xaxis": "x",
           "y": [
            "TOYOTA"
           ],
           "yaxis": "y"
          },
          {
           "alignmentgroup": "True",
           "hovertemplate": "Car Make=%{y}<br>Model Year=2012<br>Number of EVs=%{x}<extra></extra>",
           "legendgroup": "CHEVROLET",
           "marker": {
            "color": "#EF553B",
            "pattern": {
             "shape": ""
            }
           },
           "name": "CHEVROLET",
           "offsetgroup": "CHEVROLET",
           "orientation": "h",
           "showlegend": true,
           "textposition": "auto",
           "type": "bar",
           "x": [
            496
           ],
           "xaxis": "x",
           "y": [
            "CHEVROLET"
           ],
           "yaxis": "y"
          },
          {
           "alignmentgroup": "True",
           "hovertemplate": "Car Make=%{y}<br>Model Year=2012<br>Number of EVs=%{x}<extra></extra>",
           "legendgroup": "NISSAN",
           "marker": {
            "color": "#00cc96",
            "pattern": {
             "shape": ""
            }
           },
           "name": "NISSAN",
           "offsetgroup": "NISSAN",
           "orientation": "h",
           "showlegend": true,
           "textposition": "auto",
           "type": "bar",
           "x": [
            610
           ],
           "xaxis": "x",
           "y": [
            "NISSAN"
           ],
           "yaxis": "y"
          },
          {
           "alignmentgroup": "True",
           "hovertemplate": "Car Make=%{y}<br>Model Year=2012<br>Number of EVs=%{x}<extra></extra>",
           "legendgroup": "FORD",
           "marker": {
            "color": "#ab63fa",
            "pattern": {
             "shape": ""
            }
           },
           "name": "FORD",
           "offsetgroup": "FORD",
           "orientation": "h",
           "showlegend": true,
           "textposition": "auto",
           "type": "bar",
           "x": [
            15
           ],
           "xaxis": "x",
           "y": [
            "FORD"
           ],
           "yaxis": "y"
          },
          {
           "alignmentgroup": "True",
           "hovertemplate": "Car Make=%{y}<br>Model Year=2012<br>Number of EVs=%{x}<extra></extra>",
           "legendgroup": "TESLA",
           "marker": {
            "color": "#FFA15A",
            "pattern": {
             "shape": ""
            }
           },
           "name": "TESLA",
           "offsetgroup": "TESLA",
           "orientation": "h",
           "showlegend": true,
           "textposition": "auto",
           "type": "bar",
           "x": [
            134
           ],
           "xaxis": "x",
           "y": [
            "TESLA"
           ],
           "yaxis": "y"
          },
          {
           "alignmentgroup": "True",
           "hovertemplate": "Car Make=%{y}<br>Model Year=2012<br>Number of EVs=%{x}<extra></extra>",
           "legendgroup": "KIA",
           "marker": {
            "color": "#19d3f3",
            "pattern": {
             "shape": ""
            }
           },
           "name": "KIA",
           "offsetgroup": "KIA",
           "orientation": "h",
           "showlegend": true,
           "textposition": "auto",
           "type": "bar",
           "x": [
            0
           ],
           "xaxis": "x",
           "y": [
            "KIA"
           ],
           "yaxis": "y"
          },
          {
           "alignmentgroup": "True",
           "hovertemplate": "Car Make=%{y}<br>Model Year=2012<br>Number of EVs=%{x}<extra></extra>",
           "legendgroup": "AUDI",
           "marker": {
            "color": "#FF6692",
            "pattern": {
             "shape": ""
            }
           },
           "name": "AUDI",
           "offsetgroup": "AUDI",
           "orientation": "h",
           "showlegend": true,
           "textposition": "auto",
           "type": "bar",
           "x": [
            0
           ],
           "xaxis": "x",
           "y": [
            "AUDI"
           ],
           "yaxis": "y"
          },
          {
           "alignmentgroup": "True",
           "hovertemplate": "Car Make=%{y}<br>Model Year=2012<br>Number of EVs=%{x}<extra></extra>",
           "legendgroup": "BMW",
           "marker": {
            "color": "#B6E880",
            "pattern": {
             "shape": ""
            }
           },
           "name": "BMW",
           "offsetgroup": "BMW",
           "orientation": "h",
           "showlegend": true,
           "textposition": "auto",
           "type": "bar",
           "x": [
            0
           ],
           "xaxis": "x",
           "y": [
            "BMW"
           ],
           "yaxis": "y"
          },
          {
           "alignmentgroup": "True",
           "hovertemplate": "Car Make=%{y}<br>Model Year=2012<br>Number of EVs=%{x}<extra></extra>",
           "legendgroup": "VOLVO",
           "marker": {
            "color": "#FF97FF",
            "pattern": {
             "shape": ""
            }
           },
           "name": "VOLVO",
           "offsetgroup": "VOLVO",
           "orientation": "h",
           "showlegend": true,
           "textposition": "auto",
           "type": "bar",
           "x": [
            0
           ],
           "xaxis": "x",
           "y": [
            "VOLVO"
           ],
           "yaxis": "y"
          },
          {
           "alignmentgroup": "True",
           "hovertemplate": "Car Make=%{y}<br>Model Year=2012<br>Number of EVs=%{x}<extra></extra>",
           "legendgroup": "VOLKSWAGEN",
           "marker": {
            "color": "#FECB52",
            "pattern": {
             "shape": ""
            }
           },
           "name": "VOLKSWAGEN",
           "offsetgroup": "VOLKSWAGEN",
           "orientation": "h",
           "showlegend": true,
           "textposition": "auto",
           "type": "bar",
           "x": [
            0
           ],
           "xaxis": "x",
           "y": [
            "VOLKSWAGEN"
           ],
           "yaxis": "y"
          }
         ],
         "name": "2012"
        },
        {
         "data": [
          {
           "alignmentgroup": "True",
           "hovertemplate": "Car Make=%{y}<br>Model Year=2013<br>Number of EVs=%{x}<extra></extra>",
           "legendgroup": "TOYOTA",
           "marker": {
            "color": "#636efa",
            "pattern": {
             "shape": ""
            }
           },
           "name": "TOYOTA",
           "offsetgroup": "TOYOTA",
           "orientation": "h",
           "showlegend": true,
           "textposition": "auto",
           "type": "bar",
           "x": [
            296
           ],
           "xaxis": "x",
           "y": [
            "TOYOTA"
           ],
           "yaxis": "y"
          },
          {
           "alignmentgroup": "True",
           "hovertemplate": "Car Make=%{y}<br>Model Year=2013<br>Number of EVs=%{x}<extra></extra>",
           "legendgroup": "CHEVROLET",
           "marker": {
            "color": "#EF553B",
            "pattern": {
             "shape": ""
            }
           },
           "name": "CHEVROLET",
           "offsetgroup": "CHEVROLET",
           "orientation": "h",
           "showlegend": true,
           "textposition": "auto",
           "type": "bar",
           "x": [
            818
           ],
           "xaxis": "x",
           "y": [
            "CHEVROLET"
           ],
           "yaxis": "y"
          },
          {
           "alignmentgroup": "True",
           "hovertemplate": "Car Make=%{y}<br>Model Year=2013<br>Number of EVs=%{x}<extra></extra>",
           "legendgroup": "NISSAN",
           "marker": {
            "color": "#00cc96",
            "pattern": {
             "shape": ""
            }
           },
           "name": "NISSAN",
           "offsetgroup": "NISSAN",
           "orientation": "h",
           "showlegend": true,
           "textposition": "auto",
           "type": "bar",
           "x": [
            1966
           ],
           "xaxis": "x",
           "y": [
            "NISSAN"
           ],
           "yaxis": "y"
          },
          {
           "alignmentgroup": "True",
           "hovertemplate": "Car Make=%{y}<br>Model Year=2013<br>Number of EVs=%{x}<extra></extra>",
           "legendgroup": "FORD",
           "marker": {
            "color": "#ab63fa",
            "pattern": {
             "shape": ""
            }
           },
           "name": "FORD",
           "offsetgroup": "FORD",
           "orientation": "h",
           "showlegend": true,
           "textposition": "auto",
           "type": "bar",
           "x": [
            662
           ],
           "xaxis": "x",
           "y": [
            "FORD"
           ],
           "yaxis": "y"
          },
          {
           "alignmentgroup": "True",
           "hovertemplate": "Car Make=%{y}<br>Model Year=2013<br>Number of EVs=%{x}<extra></extra>",
           "legendgroup": "TESLA",
           "marker": {
            "color": "#FFA15A",
            "pattern": {
             "shape": ""
            }
           },
           "name": "TESLA",
           "offsetgroup": "TESLA",
           "orientation": "h",
           "showlegend": true,
           "textposition": "auto",
           "type": "bar",
           "x": [
            814
           ],
           "xaxis": "x",
           "y": [
            "TESLA"
           ],
           "yaxis": "y"
          },
          {
           "alignmentgroup": "True",
           "hovertemplate": "Car Make=%{y}<br>Model Year=2013<br>Number of EVs=%{x}<extra></extra>",
           "legendgroup": "KIA",
           "marker": {
            "color": "#19d3f3",
            "pattern": {
             "shape": ""
            }
           },
           "name": "KIA",
           "offsetgroup": "KIA",
           "orientation": "h",
           "showlegend": true,
           "textposition": "auto",
           "type": "bar",
           "x": [
            0
           ],
           "xaxis": "x",
           "y": [
            "KIA"
           ],
           "yaxis": "y"
          },
          {
           "alignmentgroup": "True",
           "hovertemplate": "Car Make=%{y}<br>Model Year=2013<br>Number of EVs=%{x}<extra></extra>",
           "legendgroup": "AUDI",
           "marker": {
            "color": "#FF6692",
            "pattern": {
             "shape": ""
            }
           },
           "name": "AUDI",
           "offsetgroup": "AUDI",
           "orientation": "h",
           "showlegend": true,
           "textposition": "auto",
           "type": "bar",
           "x": [
            0
           ],
           "xaxis": "x",
           "y": [
            "AUDI"
           ],
           "yaxis": "y"
          },
          {
           "alignmentgroup": "True",
           "hovertemplate": "Car Make=%{y}<br>Model Year=2013<br>Number of EVs=%{x}<extra></extra>",
           "legendgroup": "BMW",
           "marker": {
            "color": "#B6E880",
            "pattern": {
             "shape": ""
            }
           },
           "name": "BMW",
           "offsetgroup": "BMW",
           "orientation": "h",
           "showlegend": true,
           "textposition": "auto",
           "type": "bar",
           "x": [
            0
           ],
           "xaxis": "x",
           "y": [
            "BMW"
           ],
           "yaxis": "y"
          },
          {
           "alignmentgroup": "True",
           "hovertemplate": "Car Make=%{y}<br>Model Year=2013<br>Number of EVs=%{x}<extra></extra>",
           "legendgroup": "VOLVO",
           "marker": {
            "color": "#FF97FF",
            "pattern": {
             "shape": ""
            }
           },
           "name": "VOLVO",
           "offsetgroup": "VOLVO",
           "orientation": "h",
           "showlegend": true,
           "textposition": "auto",
           "type": "bar",
           "x": [
            0
           ],
           "xaxis": "x",
           "y": [
            "VOLVO"
           ],
           "yaxis": "y"
          },
          {
           "alignmentgroup": "True",
           "hovertemplate": "Car Make=%{y}<br>Model Year=2013<br>Number of EVs=%{x}<extra></extra>",
           "legendgroup": "VOLKSWAGEN",
           "marker": {
            "color": "#FECB52",
            "pattern": {
             "shape": ""
            }
           },
           "name": "VOLKSWAGEN",
           "offsetgroup": "VOLKSWAGEN",
           "orientation": "h",
           "showlegend": true,
           "textposition": "auto",
           "type": "bar",
           "x": [
            0
           ],
           "xaxis": "x",
           "y": [
            "VOLKSWAGEN"
           ],
           "yaxis": "y"
          }
         ],
         "name": "2013"
        },
        {
         "data": [
          {
           "alignmentgroup": "True",
           "hovertemplate": "Car Make=%{y}<br>Model Year=2014<br>Number of EVs=%{x}<extra></extra>",
           "legendgroup": "TOYOTA",
           "marker": {
            "color": "#636efa",
            "pattern": {
             "shape": ""
            }
           },
           "name": "TOYOTA",
           "offsetgroup": "TOYOTA",
           "orientation": "h",
           "showlegend": true,
           "textposition": "auto",
           "type": "bar",
           "x": [
            215
           ],
           "xaxis": "x",
           "y": [
            "TOYOTA"
           ],
           "yaxis": "y"
          },
          {
           "alignmentgroup": "True",
           "hovertemplate": "Car Make=%{y}<br>Model Year=2014<br>Number of EVs=%{x}<extra></extra>",
           "legendgroup": "CHEVROLET",
           "marker": {
            "color": "#EF553B",
            "pattern": {
             "shape": ""
            }
           },
           "name": "CHEVROLET",
           "offsetgroup": "CHEVROLET",
           "orientation": "h",
           "showlegend": true,
           "textposition": "auto",
           "type": "bar",
           "x": [
            724
           ],
           "xaxis": "x",
           "y": [
            "CHEVROLET"
           ],
           "yaxis": "y"
          },
          {
           "alignmentgroup": "True",
           "hovertemplate": "Car Make=%{y}<br>Model Year=2014<br>Number of EVs=%{x}<extra></extra>",
           "legendgroup": "NISSAN",
           "marker": {
            "color": "#00cc96",
            "pattern": {
             "shape": ""
            }
           },
           "name": "NISSAN",
           "offsetgroup": "NISSAN",
           "orientation": "h",
           "showlegend": true,
           "textposition": "auto",
           "type": "bar",
           "x": [
            694
           ],
           "xaxis": "x",
           "y": [
            "NISSAN"
           ],
           "yaxis": "y"
          },
          {
           "alignmentgroup": "True",
           "hovertemplate": "Car Make=%{y}<br>Model Year=2014<br>Number of EVs=%{x}<extra></extra>",
           "legendgroup": "FORD",
           "marker": {
            "color": "#ab63fa",
            "pattern": {
             "shape": ""
            }
           },
           "name": "FORD",
           "offsetgroup": "FORD",
           "orientation": "h",
           "showlegend": true,
           "textposition": "auto",
           "type": "bar",
           "x": [
            628
           ],
           "xaxis": "x",
           "y": [
            "FORD"
           ],
           "yaxis": "y"
          },
          {
           "alignmentgroup": "True",
           "hovertemplate": "Car Make=%{y}<br>Model Year=2014<br>Number of EVs=%{x}<extra></extra>",
           "legendgroup": "TESLA",
           "marker": {
            "color": "#FFA15A",
            "pattern": {
             "shape": ""
            }
           },
           "name": "TESLA",
           "offsetgroup": "TESLA",
           "orientation": "h",
           "showlegend": true,
           "textposition": "auto",
           "type": "bar",
           "x": [
            683
           ],
           "xaxis": "x",
           "y": [
            "TESLA"
           ],
           "yaxis": "y"
          },
          {
           "alignmentgroup": "True",
           "hovertemplate": "Car Make=%{y}<br>Model Year=2014<br>Number of EVs=%{x}<extra></extra>",
           "legendgroup": "KIA",
           "marker": {
            "color": "#19d3f3",
            "pattern": {
             "shape": ""
            }
           },
           "name": "KIA",
           "offsetgroup": "KIA",
           "orientation": "h",
           "showlegend": true,
           "textposition": "auto",
           "type": "bar",
           "x": [
            0
           ],
           "xaxis": "x",
           "y": [
            "KIA"
           ],
           "yaxis": "y"
          },
          {
           "alignmentgroup": "True",
           "hovertemplate": "Car Make=%{y}<br>Model Year=2014<br>Number of EVs=%{x}<extra></extra>",
           "legendgroup": "AUDI",
           "marker": {
            "color": "#FF6692",
            "pattern": {
             "shape": ""
            }
           },
           "name": "AUDI",
           "offsetgroup": "AUDI",
           "orientation": "h",
           "showlegend": true,
           "textposition": "auto",
           "type": "bar",
           "x": [
            0
           ],
           "xaxis": "x",
           "y": [
            "AUDI"
           ],
           "yaxis": "y"
          },
          {
           "alignmentgroup": "True",
           "hovertemplate": "Car Make=%{y}<br>Model Year=2014<br>Number of EVs=%{x}<extra></extra>",
           "legendgroup": "BMW",
           "marker": {
            "color": "#B6E880",
            "pattern": {
             "shape": ""
            }
           },
           "name": "BMW",
           "offsetgroup": "BMW",
           "orientation": "h",
           "showlegend": true,
           "textposition": "auto",
           "type": "bar",
           "x": [
            457
           ],
           "xaxis": "x",
           "y": [
            "BMW"
           ],
           "yaxis": "y"
          },
          {
           "alignmentgroup": "True",
           "hovertemplate": "Car Make=%{y}<br>Model Year=2014<br>Number of EVs=%{x}<extra></extra>",
           "legendgroup": "VOLVO",
           "marker": {
            "color": "#FF97FF",
            "pattern": {
             "shape": ""
            }
           },
           "name": "VOLVO",
           "offsetgroup": "VOLVO",
           "orientation": "h",
           "showlegend": true,
           "textposition": "auto",
           "type": "bar",
           "x": [
            0
           ],
           "xaxis": "x",
           "y": [
            "VOLVO"
           ],
           "yaxis": "y"
          },
          {
           "alignmentgroup": "True",
           "hovertemplate": "Car Make=%{y}<br>Model Year=2014<br>Number of EVs=%{x}<extra></extra>",
           "legendgroup": "VOLKSWAGEN",
           "marker": {
            "color": "#FECB52",
            "pattern": {
             "shape": ""
            }
           },
           "name": "VOLKSWAGEN",
           "offsetgroup": "VOLKSWAGEN",
           "orientation": "h",
           "showlegend": true,
           "textposition": "auto",
           "type": "bar",
           "x": [
            0
           ],
           "xaxis": "x",
           "y": [
            "VOLKSWAGEN"
           ],
           "yaxis": "y"
          }
         ],
         "name": "2014"
        },
        {
         "data": [
          {
           "alignmentgroup": "True",
           "hovertemplate": "Car Make=%{y}<br>Model Year=2015<br>Number of EVs=%{x}<extra></extra>",
           "legendgroup": "TOYOTA",
           "marker": {
            "color": "#636efa",
            "pattern": {
             "shape": ""
            }
           },
           "name": "TOYOTA",
           "offsetgroup": "TOYOTA",
           "orientation": "h",
           "showlegend": true,
           "textposition": "auto",
           "type": "bar",
           "x": [
            89
           ],
           "xaxis": "x",
           "y": [
            "TOYOTA"
           ],
           "yaxis": "y"
          },
          {
           "alignmentgroup": "True",
           "hovertemplate": "Car Make=%{y}<br>Model Year=2015<br>Number of EVs=%{x}<extra></extra>",
           "legendgroup": "CHEVROLET",
           "marker": {
            "color": "#EF553B",
            "pattern": {
             "shape": ""
            }
           },
           "name": "CHEVROLET",
           "offsetgroup": "CHEVROLET",
           "orientation": "h",
           "showlegend": true,
           "textposition": "auto",
           "type": "bar",
           "x": [
            467
           ],
           "xaxis": "x",
           "y": [
            "CHEVROLET"
           ],
           "yaxis": "y"
          },
          {
           "alignmentgroup": "True",
           "hovertemplate": "Car Make=%{y}<br>Model Year=2015<br>Number of EVs=%{x}<extra></extra>",
           "legendgroup": "NISSAN",
           "marker": {
            "color": "#00cc96",
            "pattern": {
             "shape": ""
            }
           },
           "name": "NISSAN",
           "offsetgroup": "NISSAN",
           "orientation": "h",
           "showlegend": true,
           "textposition": "auto",
           "type": "bar",
           "x": [
            1839
           ],
           "xaxis": "x",
           "y": [
            "NISSAN"
           ],
           "yaxis": "y"
          },
          {
           "alignmentgroup": "True",
           "hovertemplate": "Car Make=%{y}<br>Model Year=2015<br>Number of EVs=%{x}<extra></extra>",
           "legendgroup": "FORD",
           "marker": {
            "color": "#ab63fa",
            "pattern": {
             "shape": ""
            }
           },
           "name": "FORD",
           "offsetgroup": "FORD",
           "orientation": "h",
           "showlegend": true,
           "textposition": "auto",
           "type": "bar",
           "x": [
            556
           ],
           "xaxis": "x",
           "y": [
            "FORD"
           ],
           "yaxis": "y"
          },
          {
           "alignmentgroup": "True",
           "hovertemplate": "Car Make=%{y}<br>Model Year=2015<br>Number of EVs=%{x}<extra></extra>",
           "legendgroup": "TESLA",
           "marker": {
            "color": "#FFA15A",
            "pattern": {
             "shape": ""
            }
           },
           "name": "TESLA",
           "offsetgroup": "TESLA",
           "orientation": "h",
           "showlegend": true,
           "textposition": "auto",
           "type": "bar",
           "x": [
            1089
           ],
           "xaxis": "x",
           "y": [
            "TESLA"
           ],
           "yaxis": "y"
          },
          {
           "alignmentgroup": "True",
           "hovertemplate": "Car Make=%{y}<br>Model Year=2015<br>Number of EVs=%{x}<extra></extra>",
           "legendgroup": "KIA",
           "marker": {
            "color": "#19d3f3",
            "pattern": {
             "shape": ""
            }
           },
           "name": "KIA",
           "offsetgroup": "KIA",
           "orientation": "h",
           "showlegend": true,
           "textposition": "auto",
           "type": "bar",
           "x": [
            22
           ],
           "xaxis": "x",
           "y": [
            "KIA"
           ],
           "yaxis": "y"
          },
          {
           "alignmentgroup": "True",
           "hovertemplate": "Car Make=%{y}<br>Model Year=2015<br>Number of EVs=%{x}<extra></extra>",
           "legendgroup": "AUDI",
           "marker": {
            "color": "#FF6692",
            "pattern": {
             "shape": ""
            }
           },
           "name": "AUDI",
           "offsetgroup": "AUDI",
           "orientation": "h",
           "showlegend": true,
           "textposition": "auto",
           "type": "bar",
           "x": [
            0
           ],
           "xaxis": "x",
           "y": [
            "AUDI"
           ],
           "yaxis": "y"
          },
          {
           "alignmentgroup": "True",
           "hovertemplate": "Car Make=%{y}<br>Model Year=2015<br>Number of EVs=%{x}<extra></extra>",
           "legendgroup": "BMW",
           "marker": {
            "color": "#B6E880",
            "pattern": {
             "shape": ""
            }
           },
           "name": "BMW",
           "offsetgroup": "BMW",
           "orientation": "h",
           "showlegend": true,
           "textposition": "auto",
           "type": "bar",
           "x": [
            403
           ],
           "xaxis": "x",
           "y": [
            "BMW"
           ],
           "yaxis": "y"
          },
          {
           "alignmentgroup": "True",
           "hovertemplate": "Car Make=%{y}<br>Model Year=2015<br>Number of EVs=%{x}<extra></extra>",
           "legendgroup": "VOLVO",
           "marker": {
            "color": "#FF97FF",
            "pattern": {
             "shape": ""
            }
           },
           "name": "VOLVO",
           "offsetgroup": "VOLVO",
           "orientation": "h",
           "showlegend": true,
           "textposition": "auto",
           "type": "bar",
           "x": [
            0
           ],
           "xaxis": "x",
           "y": [
            "VOLVO"
           ],
           "yaxis": "y"
          },
          {
           "alignmentgroup": "True",
           "hovertemplate": "Car Make=%{y}<br>Model Year=2015<br>Number of EVs=%{x}<extra></extra>",
           "legendgroup": "VOLKSWAGEN",
           "marker": {
            "color": "#FECB52",
            "pattern": {
             "shape": ""
            }
           },
           "name": "VOLKSWAGEN",
           "offsetgroup": "VOLKSWAGEN",
           "orientation": "h",
           "showlegend": true,
           "textposition": "auto",
           "type": "bar",
           "x": [
            124
           ],
           "xaxis": "x",
           "y": [
            "VOLKSWAGEN"
           ],
           "yaxis": "y"
          }
         ],
         "name": "2015"
        },
        {
         "data": [
          {
           "alignmentgroup": "True",
           "hovertemplate": "Car Make=%{y}<br>Model Year=2016<br>Number of EVs=%{x}<extra></extra>",
           "legendgroup": "TOYOTA",
           "marker": {
            "color": "#636efa",
            "pattern": {
             "shape": ""
            }
           },
           "name": "TOYOTA",
           "offsetgroup": "TOYOTA",
           "orientation": "h",
           "showlegend": true,
           "textposition": "auto",
           "type": "bar",
           "x": [
            0
           ],
           "xaxis": "x",
           "y": [
            "TOYOTA"
           ],
           "yaxis": "y"
          },
          {
           "alignmentgroup": "True",
           "hovertemplate": "Car Make=%{y}<br>Model Year=2016<br>Number of EVs=%{x}<extra></extra>",
           "legendgroup": "CHEVROLET",
           "marker": {
            "color": "#EF553B",
            "pattern": {
             "shape": ""
            }
           },
           "name": "CHEVROLET",
           "offsetgroup": "CHEVROLET",
           "orientation": "h",
           "showlegend": true,
           "textposition": "auto",
           "type": "bar",
           "x": [
            309
           ],
           "xaxis": "x",
           "y": [
            "CHEVROLET"
           ],
           "yaxis": "y"
          },
          {
           "alignmentgroup": "True",
           "hovertemplate": "Car Make=%{y}<br>Model Year=2016<br>Number of EVs=%{x}<extra></extra>",
           "legendgroup": "NISSAN",
           "marker": {
            "color": "#00cc96",
            "pattern": {
             "shape": ""
            }
           },
           "name": "NISSAN",
           "offsetgroup": "NISSAN",
           "orientation": "h",
           "showlegend": true,
           "textposition": "auto",
           "type": "bar",
           "x": [
            1208
           ],
           "xaxis": "x",
           "y": [
            "NISSAN"
           ],
           "yaxis": "y"
          },
          {
           "alignmentgroup": "True",
           "hovertemplate": "Car Make=%{y}<br>Model Year=2016<br>Number of EVs=%{x}<extra></extra>",
           "legendgroup": "FORD",
           "marker": {
            "color": "#ab63fa",
            "pattern": {
             "shape": ""
            }
           },
           "name": "FORD",
           "offsetgroup": "FORD",
           "orientation": "h",
           "showlegend": true,
           "textposition": "auto",
           "type": "bar",
           "x": [
            778
           ],
           "xaxis": "x",
           "y": [
            "FORD"
           ],
           "yaxis": "y"
          },
          {
           "alignmentgroup": "True",
           "hovertemplate": "Car Make=%{y}<br>Model Year=2016<br>Number of EVs=%{x}<extra></extra>",
           "legendgroup": "TESLA",
           "marker": {
            "color": "#FFA15A",
            "pattern": {
             "shape": ""
            }
           },
           "name": "TESLA",
           "offsetgroup": "TESLA",
           "orientation": "h",
           "showlegend": true,
           "textposition": "auto",
           "type": "bar",
           "x": [
            1639
           ],
           "xaxis": "x",
           "y": [
            "TESLA"
           ],
           "yaxis": "y"
          },
          {
           "alignmentgroup": "True",
           "hovertemplate": "Car Make=%{y}<br>Model Year=2016<br>Number of EVs=%{x}<extra></extra>",
           "legendgroup": "KIA",
           "marker": {
            "color": "#19d3f3",
            "pattern": {
             "shape": ""
            }
           },
           "name": "KIA",
           "offsetgroup": "KIA",
           "orientation": "h",
           "showlegend": true,
           "textposition": "auto",
           "type": "bar",
           "x": [
            407
           ],
           "xaxis": "x",
           "y": [
            "KIA"
           ],
           "yaxis": "y"
          },
          {
           "alignmentgroup": "True",
           "hovertemplate": "Car Make=%{y}<br>Model Year=2016<br>Number of EVs=%{x}<extra></extra>",
           "legendgroup": "AUDI",
           "marker": {
            "color": "#FF6692",
            "pattern": {
             "shape": ""
            }
           },
           "name": "AUDI",
           "offsetgroup": "AUDI",
           "orientation": "h",
           "showlegend": true,
           "textposition": "auto",
           "type": "bar",
           "x": [
            214
           ],
           "xaxis": "x",
           "y": [
            "AUDI"
           ],
           "yaxis": "y"
          },
          {
           "alignmentgroup": "True",
           "hovertemplate": "Car Make=%{y}<br>Model Year=2016<br>Number of EVs=%{x}<extra></extra>",
           "legendgroup": "BMW",
           "marker": {
            "color": "#B6E880",
            "pattern": {
             "shape": ""
            }
           },
           "name": "BMW",
           "offsetgroup": "BMW",
           "orientation": "h",
           "showlegend": true,
           "textposition": "auto",
           "type": "bar",
           "x": [
            383
           ],
           "xaxis": "x",
           "y": [
            "BMW"
           ],
           "yaxis": "y"
          },
          {
           "alignmentgroup": "True",
           "hovertemplate": "Car Make=%{y}<br>Model Year=2016<br>Number of EVs=%{x}<extra></extra>",
           "legendgroup": "VOLVO",
           "marker": {
            "color": "#FF97FF",
            "pattern": {
             "shape": ""
            }
           },
           "name": "VOLVO",
           "offsetgroup": "VOLVO",
           "orientation": "h",
           "showlegend": true,
           "textposition": "auto",
           "type": "bar",
           "x": [
            112
           ],
           "xaxis": "x",
           "y": [
            "VOLVO"
           ],
           "yaxis": "y"
          },
          {
           "alignmentgroup": "True",
           "hovertemplate": "Car Make=%{y}<br>Model Year=2016<br>Number of EVs=%{x}<extra></extra>",
           "legendgroup": "VOLKSWAGEN",
           "marker": {
            "color": "#FECB52",
            "pattern": {
             "shape": ""
            }
           },
           "name": "VOLKSWAGEN",
           "offsetgroup": "VOLKSWAGEN",
           "orientation": "h",
           "showlegend": true,
           "textposition": "auto",
           "type": "bar",
           "x": [
            319
           ],
           "xaxis": "x",
           "y": [
            "VOLKSWAGEN"
           ],
           "yaxis": "y"
          }
         ],
         "name": "2016"
        },
        {
         "data": [
          {
           "alignmentgroup": "True",
           "hovertemplate": "Car Make=%{y}<br>Model Year=2017<br>Number of EVs=%{x}<extra></extra>",
           "legendgroup": "TOYOTA",
           "marker": {
            "color": "#636efa",
            "pattern": {
             "shape": ""
            }
           },
           "name": "TOYOTA",
           "offsetgroup": "TOYOTA",
           "orientation": "h",
           "showlegend": true,
           "textposition": "auto",
           "type": "bar",
           "x": [
            899
           ],
           "xaxis": "x",
           "y": [
            "TOYOTA"
           ],
           "yaxis": "y"
          },
          {
           "alignmentgroup": "True",
           "hovertemplate": "Car Make=%{y}<br>Model Year=2017<br>Number of EVs=%{x}<extra></extra>",
           "legendgroup": "CHEVROLET",
           "marker": {
            "color": "#EF553B",
            "pattern": {
             "shape": ""
            }
           },
           "name": "CHEVROLET",
           "offsetgroup": "CHEVROLET",
           "orientation": "h",
           "showlegend": true,
           "textposition": "auto",
           "type": "bar",
           "x": [
            2744
           ],
           "xaxis": "x",
           "y": [
            "CHEVROLET"
           ],
           "yaxis": "y"
          },
          {
           "alignmentgroup": "True",
           "hovertemplate": "Car Make=%{y}<br>Model Year=2017<br>Number of EVs=%{x}<extra></extra>",
           "legendgroup": "NISSAN",
           "marker": {
            "color": "#00cc96",
            "pattern": {
             "shape": ""
            }
           },
           "name": "NISSAN",
           "offsetgroup": "NISSAN",
           "orientation": "h",
           "showlegend": true,
           "textposition": "auto",
           "type": "bar",
           "x": [
            934
           ],
           "xaxis": "x",
           "y": [
            "NISSAN"
           ],
           "yaxis": "y"
          },
          {
           "alignmentgroup": "True",
           "hovertemplate": "Car Make=%{y}<br>Model Year=2017<br>Number of EVs=%{x}<extra></extra>",
           "legendgroup": "FORD",
           "marker": {
            "color": "#ab63fa",
            "pattern": {
             "shape": ""
            }
           },
           "name": "FORD",
           "offsetgroup": "FORD",
           "orientation": "h",
           "showlegend": true,
           "textposition": "auto",
           "type": "bar",
           "x": [
            659
           ],
           "xaxis": "x",
           "y": [
            "FORD"
           ],
           "yaxis": "y"
          },
          {
           "alignmentgroup": "True",
           "hovertemplate": "Car Make=%{y}<br>Model Year=2017<br>Number of EVs=%{x}<extra></extra>",
           "legendgroup": "TESLA",
           "marker": {
            "color": "#FFA15A",
            "pattern": {
             "shape": ""
            }
           },
           "name": "TESLA",
           "offsetgroup": "TESLA",
           "orientation": "h",
           "showlegend": true,
           "textposition": "auto",
           "type": "bar",
           "x": [
            1679
           ],
           "xaxis": "x",
           "y": [
            "TESLA"
           ],
           "yaxis": "y"
          },
          {
           "alignmentgroup": "True",
           "hovertemplate": "Car Make=%{y}<br>Model Year=2017<br>Number of EVs=%{x}<extra></extra>",
           "legendgroup": "KIA",
           "marker": {
            "color": "#19d3f3",
            "pattern": {
             "shape": ""
            }
           },
           "name": "KIA",
           "offsetgroup": "KIA",
           "orientation": "h",
           "showlegend": true,
           "textposition": "auto",
           "type": "bar",
           "x": [
            210
           ],
           "xaxis": "x",
           "y": [
            "KIA"
           ],
           "yaxis": "y"
          },
          {
           "alignmentgroup": "True",
           "hovertemplate": "Car Make=%{y}<br>Model Year=2017<br>Number of EVs=%{x}<extra></extra>",
           "legendgroup": "AUDI",
           "marker": {
            "color": "#FF6692",
            "pattern": {
             "shape": ""
            }
           },
           "name": "AUDI",
           "offsetgroup": "AUDI",
           "orientation": "h",
           "showlegend": true,
           "textposition": "auto",
           "type": "bar",
           "x": [
            187
           ],
           "xaxis": "x",
           "y": [
            "AUDI"
           ],
           "yaxis": "y"
          },
          {
           "alignmentgroup": "True",
           "hovertemplate": "Car Make=%{y}<br>Model Year=2017<br>Number of EVs=%{x}<extra></extra>",
           "legendgroup": "BMW",
           "marker": {
            "color": "#B6E880",
            "pattern": {
             "shape": ""
            }
           },
           "name": "BMW",
           "offsetgroup": "BMW",
           "orientation": "h",
           "showlegend": true,
           "textposition": "auto",
           "type": "bar",
           "x": [
            692
           ],
           "xaxis": "x",
           "y": [
            "BMW"
           ],
           "yaxis": "y"
          },
          {
           "alignmentgroup": "True",
           "hovertemplate": "Car Make=%{y}<br>Model Year=2017<br>Number of EVs=%{x}<extra></extra>",
           "legendgroup": "VOLVO",
           "marker": {
            "color": "#FF97FF",
            "pattern": {
             "shape": ""
            }
           },
           "name": "VOLVO",
           "offsetgroup": "VOLVO",
           "orientation": "h",
           "showlegend": true,
           "textposition": "auto",
           "type": "bar",
           "x": [
            115
           ],
           "xaxis": "x",
           "y": [
            "VOLVO"
           ],
           "yaxis": "y"
          },
          {
           "alignmentgroup": "True",
           "hovertemplate": "Car Make=%{y}<br>Model Year=2017<br>Number of EVs=%{x}<extra></extra>",
           "legendgroup": "VOLKSWAGEN",
           "marker": {
            "color": "#FECB52",
            "pattern": {
             "shape": ""
            }
           },
           "name": "VOLKSWAGEN",
           "offsetgroup": "VOLKSWAGEN",
           "orientation": "h",
           "showlegend": true,
           "textposition": "auto",
           "type": "bar",
           "x": [
            52
           ],
           "xaxis": "x",
           "y": [
            "VOLKSWAGEN"
           ],
           "yaxis": "y"
          }
         ],
         "name": "2017"
        },
        {
         "data": [
          {
           "alignmentgroup": "True",
           "hovertemplate": "Car Make=%{y}<br>Model Year=2018<br>Number of EVs=%{x}<extra></extra>",
           "legendgroup": "TOYOTA",
           "marker": {
            "color": "#636efa",
            "pattern": {
             "shape": ""
            }
           },
           "name": "TOYOTA",
           "offsetgroup": "TOYOTA",
           "orientation": "h",
           "showlegend": true,
           "textposition": "auto",
           "type": "bar",
           "x": [
            659
           ],
           "xaxis": "x",
           "y": [
            "TOYOTA"
           ],
           "yaxis": "y"
          },
          {
           "alignmentgroup": "True",
           "hovertemplate": "Car Make=%{y}<br>Model Year=2018<br>Number of EVs=%{x}<extra></extra>",
           "legendgroup": "CHEVROLET",
           "marker": {
            "color": "#EF553B",
            "pattern": {
             "shape": ""
            }
           },
           "name": "CHEVROLET",
           "offsetgroup": "CHEVROLET",
           "orientation": "h",
           "showlegend": true,
           "textposition": "auto",
           "type": "bar",
           "x": [
            1126
           ],
           "xaxis": "x",
           "y": [
            "CHEVROLET"
           ],
           "yaxis": "y"
          },
          {
           "alignmentgroup": "True",
           "hovertemplate": "Car Make=%{y}<br>Model Year=2018<br>Number of EVs=%{x}<extra></extra>",
           "legendgroup": "NISSAN",
           "marker": {
            "color": "#00cc96",
            "pattern": {
             "shape": ""
            }
           },
           "name": "NISSAN",
           "offsetgroup": "NISSAN",
           "orientation": "h",
           "showlegend": true,
           "textposition": "auto",
           "type": "bar",
           "x": [
            1232
           ],
           "xaxis": "x",
           "y": [
            "NISSAN"
           ],
           "yaxis": "y"
          },
          {
           "alignmentgroup": "True",
           "hovertemplate": "Car Make=%{y}<br>Model Year=2018<br>Number of EVs=%{x}<extra></extra>",
           "legendgroup": "FORD",
           "marker": {
            "color": "#ab63fa",
            "pattern": {
             "shape": ""
            }
           },
           "name": "FORD",
           "offsetgroup": "FORD",
           "orientation": "h",
           "showlegend": true,
           "textposition": "auto",
           "type": "bar",
           "x": [
            170
           ],
           "xaxis": "x",
           "y": [
            "FORD"
           ],
           "yaxis": "y"
          },
          {
           "alignmentgroup": "True",
           "hovertemplate": "Car Make=%{y}<br>Model Year=2018<br>Number of EVs=%{x}<extra></extra>",
           "legendgroup": "TESLA",
           "marker": {
            "color": "#FFA15A",
            "pattern": {
             "shape": ""
            }
           },
           "name": "TESLA",
           "offsetgroup": "TESLA",
           "orientation": "h",
           "showlegend": true,
           "textposition": "auto",
           "type": "bar",
           "x": [
            7919
           ],
           "xaxis": "x",
           "y": [
            "TESLA"
           ],
           "yaxis": "y"
          },
          {
           "alignmentgroup": "True",
           "hovertemplate": "Car Make=%{y}<br>Model Year=2018<br>Number of EVs=%{x}<extra></extra>",
           "legendgroup": "KIA",
           "marker": {
            "color": "#19d3f3",
            "pattern": {
             "shape": ""
            }
           },
           "name": "KIA",
           "offsetgroup": "KIA",
           "orientation": "h",
           "showlegend": true,
           "textposition": "auto",
           "type": "bar",
           "x": [
            322
           ],
           "xaxis": "x",
           "y": [
            "KIA"
           ],
           "yaxis": "y"
          },
          {
           "alignmentgroup": "True",
           "hovertemplate": "Car Make=%{y}<br>Model Year=2018<br>Number of EVs=%{x}<extra></extra>",
           "legendgroup": "AUDI",
           "marker": {
            "color": "#FF6692",
            "pattern": {
             "shape": ""
            }
           },
           "name": "AUDI",
           "offsetgroup": "AUDI",
           "orientation": "h",
           "showlegend": true,
           "textposition": "auto",
           "type": "bar",
           "x": [
            174
           ],
           "xaxis": "x",
           "y": [
            "AUDI"
           ],
           "yaxis": "y"
          },
          {
           "alignmentgroup": "True",
           "hovertemplate": "Car Make=%{y}<br>Model Year=2018<br>Number of EVs=%{x}<extra></extra>",
           "legendgroup": "BMW",
           "marker": {
            "color": "#B6E880",
            "pattern": {
             "shape": ""
            }
           },
           "name": "BMW",
           "offsetgroup": "BMW",
           "orientation": "h",
           "showlegend": true,
           "textposition": "auto",
           "type": "bar",
           "x": [
            710
           ],
           "xaxis": "x",
           "y": [
            "BMW"
           ],
           "yaxis": "y"
          },
          {
           "alignmentgroup": "True",
           "hovertemplate": "Car Make=%{y}<br>Model Year=2018<br>Number of EVs=%{x}<extra></extra>",
           "legendgroup": "VOLVO",
           "marker": {
            "color": "#FF97FF",
            "pattern": {
             "shape": ""
            }
           },
           "name": "VOLVO",
           "offsetgroup": "VOLVO",
           "orientation": "h",
           "showlegend": true,
           "textposition": "auto",
           "type": "bar",
           "x": [
            226
           ],
           "xaxis": "x",
           "y": [
            "VOLVO"
           ],
           "yaxis": "y"
          },
          {
           "alignmentgroup": "True",
           "hovertemplate": "Car Make=%{y}<br>Model Year=2018<br>Number of EVs=%{x}<extra></extra>",
           "legendgroup": "VOLKSWAGEN",
           "marker": {
            "color": "#FECB52",
            "pattern": {
             "shape": ""
            }
           },
           "name": "VOLKSWAGEN",
           "offsetgroup": "VOLKSWAGEN",
           "orientation": "h",
           "showlegend": true,
           "textposition": "auto",
           "type": "bar",
           "x": [
            39
           ],
           "xaxis": "x",
           "y": [
            "VOLKSWAGEN"
           ],
           "yaxis": "y"
          }
         ],
         "name": "2018"
        },
        {
         "data": [
          {
           "alignmentgroup": "True",
           "hovertemplate": "Car Make=%{y}<br>Model Year=2019<br>Number of EVs=%{x}<extra></extra>",
           "legendgroup": "TOYOTA",
           "marker": {
            "color": "#636efa",
            "pattern": {
             "shape": ""
            }
           },
           "name": "TOYOTA",
           "offsetgroup": "TOYOTA",
           "orientation": "h",
           "showlegend": true,
           "textposition": "auto",
           "type": "bar",
           "x": [
            190
           ],
           "xaxis": "x",
           "y": [
            "TOYOTA"
           ],
           "yaxis": "y"
          },
          {
           "alignmentgroup": "True",
           "hovertemplate": "Car Make=%{y}<br>Model Year=2019<br>Number of EVs=%{x}<extra></extra>",
           "legendgroup": "CHEVROLET",
           "marker": {
            "color": "#EF553B",
            "pattern": {
             "shape": ""
            }
           },
           "name": "CHEVROLET",
           "offsetgroup": "CHEVROLET",
           "orientation": "h",
           "showlegend": true,
           "textposition": "auto",
           "type": "bar",
           "x": [
            966
           ],
           "xaxis": "x",
           "y": [
            "CHEVROLET"
           ],
           "yaxis": "y"
          },
          {
           "alignmentgroup": "True",
           "hovertemplate": "Car Make=%{y}<br>Model Year=2019<br>Number of EVs=%{x}<extra></extra>",
           "legendgroup": "NISSAN",
           "marker": {
            "color": "#00cc96",
            "pattern": {
             "shape": ""
            }
           },
           "name": "NISSAN",
           "offsetgroup": "NISSAN",
           "orientation": "h",
           "showlegend": true,
           "textposition": "auto",
           "type": "bar",
           "x": [
            1409
           ],
           "xaxis": "x",
           "y": [
            "NISSAN"
           ],
           "yaxis": "y"
          },
          {
           "alignmentgroup": "True",
           "hovertemplate": "Car Make=%{y}<br>Model Year=2019<br>Number of EVs=%{x}<extra></extra>",
           "legendgroup": "FORD",
           "marker": {
            "color": "#ab63fa",
            "pattern": {
             "shape": ""
            }
           },
           "name": "FORD",
           "offsetgroup": "FORD",
           "orientation": "h",
           "showlegend": true,
           "textposition": "auto",
           "type": "bar",
           "x": [
            136
           ],
           "xaxis": "x",
           "y": [
            "FORD"
           ],
           "yaxis": "y"
          },
          {
           "alignmentgroup": "True",
           "hovertemplate": "Car Make=%{y}<br>Model Year=2019<br>Number of EVs=%{x}<extra></extra>",
           "legendgroup": "TESLA",
           "marker": {
            "color": "#FFA15A",
            "pattern": {
             "shape": ""
            }
           },
           "name": "TESLA",
           "offsetgroup": "TESLA",
           "orientation": "h",
           "showlegend": true,
           "textposition": "auto",
           "type": "bar",
           "x": [
            4583
           ],
           "xaxis": "x",
           "y": [
            "TESLA"
           ],
           "yaxis": "y"
          },
          {
           "alignmentgroup": "True",
           "hovertemplate": "Car Make=%{y}<br>Model Year=2019<br>Number of EVs=%{x}<extra></extra>",
           "legendgroup": "KIA",
           "marker": {
            "color": "#19d3f3",
            "pattern": {
             "shape": ""
            }
           },
           "name": "KIA",
           "offsetgroup": "KIA",
           "orientation": "h",
           "showlegend": true,
           "textposition": "auto",
           "type": "bar",
           "x": [
            681
           ],
           "xaxis": "x",
           "y": [
            "KIA"
           ],
           "yaxis": "y"
          },
          {
           "alignmentgroup": "True",
           "hovertemplate": "Car Make=%{y}<br>Model Year=2019<br>Number of EVs=%{x}<extra></extra>",
           "legendgroup": "AUDI",
           "marker": {
            "color": "#FF6692",
            "pattern": {
             "shape": ""
            }
           },
           "name": "AUDI",
           "offsetgroup": "AUDI",
           "orientation": "h",
           "showlegend": true,
           "textposition": "auto",
           "type": "bar",
           "x": [
            392
           ],
           "xaxis": "x",
           "y": [
            "AUDI"
           ],
           "yaxis": "y"
          },
          {
           "alignmentgroup": "True",
           "hovertemplate": "Car Make=%{y}<br>Model Year=2019<br>Number of EVs=%{x}<extra></extra>",
           "legendgroup": "BMW",
           "marker": {
            "color": "#B6E880",
            "pattern": {
             "shape": ""
            }
           },
           "name": "BMW",
           "offsetgroup": "BMW",
           "orientation": "h",
           "showlegend": true,
           "textposition": "auto",
           "type": "bar",
           "x": [
            279
           ],
           "xaxis": "x",
           "y": [
            "BMW"
           ],
           "yaxis": "y"
          },
          {
           "alignmentgroup": "True",
           "hovertemplate": "Car Make=%{y}<br>Model Year=2019<br>Number of EVs=%{x}<extra></extra>",
           "legendgroup": "VOLVO",
           "marker": {
            "color": "#FF97FF",
            "pattern": {
             "shape": ""
            }
           },
           "name": "VOLVO",
           "offsetgroup": "VOLVO",
           "orientation": "h",
           "showlegend": true,
           "textposition": "auto",
           "type": "bar",
           "x": [
            190
           ],
           "xaxis": "x",
           "y": [
            "VOLVO"
           ],
           "yaxis": "y"
          },
          {
           "alignmentgroup": "True",
           "hovertemplate": "Car Make=%{y}<br>Model Year=2019<br>Number of EVs=%{x}<extra></extra>",
           "legendgroup": "VOLKSWAGEN",
           "marker": {
            "color": "#FECB52",
            "pattern": {
             "shape": ""
            }
           },
           "name": "VOLKSWAGEN",
           "offsetgroup": "VOLKSWAGEN",
           "orientation": "h",
           "showlegend": true,
           "textposition": "auto",
           "type": "bar",
           "x": [
            495
           ],
           "xaxis": "x",
           "y": [
            "VOLKSWAGEN"
           ],
           "yaxis": "y"
          }
         ],
         "name": "2019"
        },
        {
         "data": [
          {
           "alignmentgroup": "True",
           "hovertemplate": "Car Make=%{y}<br>Model Year=2020<br>Number of EVs=%{x}<extra></extra>",
           "legendgroup": "TOYOTA",
           "marker": {
            "color": "#636efa",
            "pattern": {
             "shape": ""
            }
           },
           "name": "TOYOTA",
           "offsetgroup": "TOYOTA",
           "orientation": "h",
           "showlegend": true,
           "textposition": "auto",
           "type": "bar",
           "x": [
            311
           ],
           "xaxis": "x",
           "y": [
            "TOYOTA"
           ],
           "yaxis": "y"
          },
          {
           "alignmentgroup": "True",
           "hovertemplate": "Car Make=%{y}<br>Model Year=2020<br>Number of EVs=%{x}<extra></extra>",
           "legendgroup": "CHEVROLET",
           "marker": {
            "color": "#EF553B",
            "pattern": {
             "shape": ""
            }
           },
           "name": "CHEVROLET",
           "offsetgroup": "CHEVROLET",
           "orientation": "h",
           "showlegend": true,
           "textposition": "auto",
           "type": "bar",
           "x": [
            1014
           ],
           "xaxis": "x",
           "y": [
            "CHEVROLET"
           ],
           "yaxis": "y"
          },
          {
           "alignmentgroup": "True",
           "hovertemplate": "Car Make=%{y}<br>Model Year=2020<br>Number of EVs=%{x}<extra></extra>",
           "legendgroup": "NISSAN",
           "marker": {
            "color": "#00cc96",
            "pattern": {
             "shape": ""
            }
           },
           "name": "NISSAN",
           "offsetgroup": "NISSAN",
           "orientation": "h",
           "showlegend": true,
           "textposition": "auto",
           "type": "bar",
           "x": [
            580
           ],
           "xaxis": "x",
           "y": [
            "NISSAN"
           ],
           "yaxis": "y"
          },
          {
           "alignmentgroup": "True",
           "hovertemplate": "Car Make=%{y}<br>Model Year=2020<br>Number of EVs=%{x}<extra></extra>",
           "legendgroup": "FORD",
           "marker": {
            "color": "#ab63fa",
            "pattern": {
             "shape": ""
            }
           },
           "name": "FORD",
           "offsetgroup": "FORD",
           "orientation": "h",
           "showlegend": true,
           "textposition": "auto",
           "type": "bar",
           "x": [
            65
           ],
           "xaxis": "x",
           "y": [
            "FORD"
           ],
           "yaxis": "y"
          },
          {
           "alignmentgroup": "True",
           "hovertemplate": "Car Make=%{y}<br>Model Year=2020<br>Number of EVs=%{x}<extra></extra>",
           "legendgroup": "TESLA",
           "marker": {
            "color": "#FFA15A",
            "pattern": {
             "shape": ""
            }
           },
           "name": "TESLA",
           "offsetgroup": "TESLA",
           "orientation": "h",
           "showlegend": true,
           "textposition": "auto",
           "type": "bar",
           "x": [
            7018
           ],
           "xaxis": "x",
           "y": [
            "TESLA"
           ],
           "yaxis": "y"
          },
          {
           "alignmentgroup": "True",
           "hovertemplate": "Car Make=%{y}<br>Model Year=2020<br>Number of EVs=%{x}<extra></extra>",
           "legendgroup": "KIA",
           "marker": {
            "color": "#19d3f3",
            "pattern": {
             "shape": ""
            }
           },
           "name": "KIA",
           "offsetgroup": "KIA",
           "orientation": "h",
           "showlegend": true,
           "textposition": "auto",
           "type": "bar",
           "x": [
            535
           ],
           "xaxis": "x",
           "y": [
            "KIA"
           ],
           "yaxis": "y"
          },
          {
           "alignmentgroup": "True",
           "hovertemplate": "Car Make=%{y}<br>Model Year=2020<br>Number of EVs=%{x}<extra></extra>",
           "legendgroup": "AUDI",
           "marker": {
            "color": "#FF6692",
            "pattern": {
             "shape": ""
            }
           },
           "name": "AUDI",
           "offsetgroup": "AUDI",
           "orientation": "h",
           "showlegend": true,
           "textposition": "auto",
           "type": "bar",
           "x": [
            224
           ],
           "xaxis": "x",
           "y": [
            "AUDI"
           ],
           "yaxis": "y"
          },
          {
           "alignmentgroup": "True",
           "hovertemplate": "Car Make=%{y}<br>Model Year=2020<br>Number of EVs=%{x}<extra></extra>",
           "legendgroup": "BMW",
           "marker": {
            "color": "#B6E880",
            "pattern": {
             "shape": ""
            }
           },
           "name": "BMW",
           "offsetgroup": "BMW",
           "orientation": "h",
           "showlegend": true,
           "textposition": "auto",
           "type": "bar",
           "x": [
            143
           ],
           "xaxis": "x",
           "y": [
            "BMW"
           ],
           "yaxis": "y"
          },
          {
           "alignmentgroup": "True",
           "hovertemplate": "Car Make=%{y}<br>Model Year=2020<br>Number of EVs=%{x}<extra></extra>",
           "legendgroup": "VOLVO",
           "marker": {
            "color": "#FF97FF",
            "pattern": {
             "shape": ""
            }
           },
           "name": "VOLVO",
           "offsetgroup": "VOLVO",
           "orientation": "h",
           "showlegend": true,
           "textposition": "auto",
           "type": "bar",
           "x": [
            162
           ],
           "xaxis": "x",
           "y": [
            "VOLVO"
           ],
           "yaxis": "y"
          },
          {
           "alignmentgroup": "True",
           "hovertemplate": "Car Make=%{y}<br>Model Year=2020<br>Number of EVs=%{x}<extra></extra>",
           "legendgroup": "VOLKSWAGEN",
           "marker": {
            "color": "#FECB52",
            "pattern": {
             "shape": ""
            }
           },
           "name": "VOLKSWAGEN",
           "offsetgroup": "VOLKSWAGEN",
           "orientation": "h",
           "showlegend": true,
           "textposition": "auto",
           "type": "bar",
           "x": [
            0
           ],
           "xaxis": "x",
           "y": [
            "VOLKSWAGEN"
           ],
           "yaxis": "y"
          }
         ],
         "name": "2020"
        },
        {
         "data": [
          {
           "alignmentgroup": "True",
           "hovertemplate": "Car Make=%{y}<br>Model Year=2021<br>Number of EVs=%{x}<extra></extra>",
           "legendgroup": "TOYOTA",
           "marker": {
            "color": "#636efa",
            "pattern": {
             "shape": ""
            }
           },
           "name": "TOYOTA",
           "offsetgroup": "TOYOTA",
           "orientation": "h",
           "showlegend": true,
           "textposition": "auto",
           "type": "bar",
           "x": [
            935
           ],
           "xaxis": "x",
           "y": [
            "TOYOTA"
           ],
           "yaxis": "y"
          },
          {
           "alignmentgroup": "True",
           "hovertemplate": "Car Make=%{y}<br>Model Year=2021<br>Number of EVs=%{x}<extra></extra>",
           "legendgroup": "CHEVROLET",
           "marker": {
            "color": "#EF553B",
            "pattern": {
             "shape": ""
            }
           },
           "name": "CHEVROLET",
           "offsetgroup": "CHEVROLET",
           "orientation": "h",
           "showlegend": true,
           "textposition": "auto",
           "type": "bar",
           "x": [
            377
           ],
           "xaxis": "x",
           "y": [
            "CHEVROLET"
           ],
           "yaxis": "y"
          },
          {
           "alignmentgroup": "True",
           "hovertemplate": "Car Make=%{y}<br>Model Year=2021<br>Number of EVs=%{x}<extra></extra>",
           "legendgroup": "NISSAN",
           "marker": {
            "color": "#00cc96",
            "pattern": {
             "shape": ""
            }
           },
           "name": "NISSAN",
           "offsetgroup": "NISSAN",
           "orientation": "h",
           "showlegend": true,
           "textposition": "auto",
           "type": "bar",
           "x": [
            534
           ],
           "xaxis": "x",
           "y": [
            "NISSAN"
           ],
           "yaxis": "y"
          },
          {
           "alignmentgroup": "True",
           "hovertemplate": "Car Make=%{y}<br>Model Year=2021<br>Number of EVs=%{x}<extra></extra>",
           "legendgroup": "FORD",
           "marker": {
            "color": "#ab63fa",
            "pattern": {
             "shape": ""
            }
           },
           "name": "FORD",
           "offsetgroup": "FORD",
           "orientation": "h",
           "showlegend": true,
           "textposition": "auto",
           "type": "bar",
           "x": [
            882
           ],
           "xaxis": "x",
           "y": [
            "FORD"
           ],
           "yaxis": "y"
          },
          {
           "alignmentgroup": "True",
           "hovertemplate": "Car Make=%{y}<br>Model Year=2021<br>Number of EVs=%{x}<extra></extra>",
           "legendgroup": "TESLA",
           "marker": {
            "color": "#FFA15A",
            "pattern": {
             "shape": ""
            }
           },
           "name": "TESLA",
           "offsetgroup": "TESLA",
           "orientation": "h",
           "showlegend": true,
           "textposition": "auto",
           "type": "bar",
           "x": [
            11028
           ],
           "xaxis": "x",
           "y": [
            "TESLA"
           ],
           "yaxis": "y"
          },
          {
           "alignmentgroup": "True",
           "hovertemplate": "Car Make=%{y}<br>Model Year=2021<br>Number of EVs=%{x}<extra></extra>",
           "legendgroup": "KIA",
           "marker": {
            "color": "#19d3f3",
            "pattern": {
             "shape": ""
            }
           },
           "name": "KIA",
           "offsetgroup": "KIA",
           "orientation": "h",
           "showlegend": true,
           "textposition": "auto",
           "type": "bar",
           "x": [
            74
           ],
           "xaxis": "x",
           "y": [
            "KIA"
           ],
           "yaxis": "y"
          },
          {
           "alignmentgroup": "True",
           "hovertemplate": "Car Make=%{y}<br>Model Year=2021<br>Number of EVs=%{x}<extra></extra>",
           "legendgroup": "AUDI",
           "marker": {
            "color": "#FF6692",
            "pattern": {
             "shape": ""
            }
           },
           "name": "AUDI",
           "offsetgroup": "AUDI",
           "orientation": "h",
           "showlegend": true,
           "textposition": "auto",
           "type": "bar",
           "x": [
            544
           ],
           "xaxis": "x",
           "y": [
            "AUDI"
           ],
           "yaxis": "y"
          },
          {
           "alignmentgroup": "True",
           "hovertemplate": "Car Make=%{y}<br>Model Year=2021<br>Number of EVs=%{x}<extra></extra>",
           "legendgroup": "BMW",
           "marker": {
            "color": "#B6E880",
            "pattern": {
             "shape": ""
            }
           },
           "name": "BMW",
           "offsetgroup": "BMW",
           "orientation": "h",
           "showlegend": true,
           "textposition": "auto",
           "type": "bar",
           "x": [
            635
           ],
           "xaxis": "x",
           "y": [
            "BMW"
           ],
           "yaxis": "y"
          },
          {
           "alignmentgroup": "True",
           "hovertemplate": "Car Make=%{y}<br>Model Year=2021<br>Number of EVs=%{x}<extra></extra>",
           "legendgroup": "VOLVO",
           "marker": {
            "color": "#FF97FF",
            "pattern": {
             "shape": ""
            }
           },
           "name": "VOLVO",
           "offsetgroup": "VOLVO",
           "orientation": "h",
           "showlegend": true,
           "textposition": "auto",
           "type": "bar",
           "x": [
            580
           ],
           "xaxis": "x",
           "y": [
            "VOLVO"
           ],
           "yaxis": "y"
          },
          {
           "alignmentgroup": "True",
           "hovertemplate": "Car Make=%{y}<br>Model Year=2021<br>Number of EVs=%{x}<extra></extra>",
           "legendgroup": "VOLKSWAGEN",
           "marker": {
            "color": "#FECB52",
            "pattern": {
             "shape": ""
            }
           },
           "name": "VOLKSWAGEN",
           "offsetgroup": "VOLKSWAGEN",
           "orientation": "h",
           "showlegend": true,
           "textposition": "auto",
           "type": "bar",
           "x": [
            988
           ],
           "xaxis": "x",
           "y": [
            "VOLKSWAGEN"
           ],
           "yaxis": "y"
          }
         ],
         "name": "2021"
        },
        {
         "data": [
          {
           "alignmentgroup": "True",
           "hovertemplate": "Car Make=%{y}<br>Model Year=2022<br>Number of EVs=%{x}<extra></extra>",
           "legendgroup": "TOYOTA",
           "marker": {
            "color": "#636efa",
            "pattern": {
             "shape": ""
            }
           },
           "name": "TOYOTA",
           "offsetgroup": "TOYOTA",
           "orientation": "h",
           "showlegend": true,
           "textposition": "auto",
           "type": "bar",
           "x": [
            424
           ],
           "xaxis": "x",
           "y": [
            "TOYOTA"
           ],
           "yaxis": "y"
          },
          {
           "alignmentgroup": "True",
           "hovertemplate": "Car Make=%{y}<br>Model Year=2022<br>Number of EVs=%{x}<extra></extra>",
           "legendgroup": "CHEVROLET",
           "marker": {
            "color": "#EF553B",
            "pattern": {
             "shape": ""
            }
           },
           "name": "CHEVROLET",
           "offsetgroup": "CHEVROLET",
           "orientation": "h",
           "showlegend": true,
           "textposition": "auto",
           "type": "bar",
           "x": [
            892
           ],
           "xaxis": "x",
           "y": [
            "CHEVROLET"
           ],
           "yaxis": "y"
          },
          {
           "alignmentgroup": "True",
           "hovertemplate": "Car Make=%{y}<br>Model Year=2022<br>Number of EVs=%{x}<extra></extra>",
           "legendgroup": "NISSAN",
           "marker": {
            "color": "#00cc96",
            "pattern": {
             "shape": ""
            }
           },
           "name": "NISSAN",
           "offsetgroup": "NISSAN",
           "orientation": "h",
           "showlegend": true,
           "textposition": "auto",
           "type": "bar",
           "x": [
            970
           ],
           "xaxis": "x",
           "y": [
            "NISSAN"
           ],
           "yaxis": "y"
          },
          {
           "alignmentgroup": "True",
           "hovertemplate": "Car Make=%{y}<br>Model Year=2022<br>Number of EVs=%{x}<extra></extra>",
           "legendgroup": "FORD",
           "marker": {
            "color": "#ab63fa",
            "pattern": {
             "shape": ""
            }
           },
           "name": "FORD",
           "offsetgroup": "FORD",
           "orientation": "h",
           "showlegend": true,
           "textposition": "auto",
           "type": "bar",
           "x": [
            1250
           ],
           "xaxis": "x",
           "y": [
            "FORD"
           ],
           "yaxis": "y"
          },
          {
           "alignmentgroup": "True",
           "hovertemplate": "Car Make=%{y}<br>Model Year=2022<br>Number of EVs=%{x}<extra></extra>",
           "legendgroup": "TESLA",
           "marker": {
            "color": "#FFA15A",
            "pattern": {
             "shape": ""
            }
           },
           "name": "TESLA",
           "offsetgroup": "TESLA",
           "orientation": "h",
           "showlegend": true,
           "textposition": "auto",
           "type": "bar",
           "x": [
            14548
           ],
           "xaxis": "x",
           "y": [
            "TESLA"
           ],
           "yaxis": "y"
          },
          {
           "alignmentgroup": "True",
           "hovertemplate": "Car Make=%{y}<br>Model Year=2022<br>Number of EVs=%{x}<extra></extra>",
           "legendgroup": "KIA",
           "marker": {
            "color": "#19d3f3",
            "pattern": {
             "shape": ""
            }
           },
           "name": "KIA",
           "offsetgroup": "KIA",
           "orientation": "h",
           "showlegend": true,
           "textposition": "auto",
           "type": "bar",
           "x": [
            2153
           ],
           "xaxis": "x",
           "y": [
            "KIA"
           ],
           "yaxis": "y"
          },
          {
           "alignmentgroup": "True",
           "hovertemplate": "Car Make=%{y}<br>Model Year=2022<br>Number of EVs=%{x}<extra></extra>",
           "legendgroup": "AUDI",
           "marker": {
            "color": "#FF6692",
            "pattern": {
             "shape": ""
            }
           },
           "name": "AUDI",
           "offsetgroup": "AUDI",
           "orientation": "h",
           "showlegend": true,
           "textposition": "auto",
           "type": "bar",
           "x": [
            585
           ],
           "xaxis": "x",
           "y": [
            "AUDI"
           ],
           "yaxis": "y"
          },
          {
           "alignmentgroup": "True",
           "hovertemplate": "Car Make=%{y}<br>Model Year=2022<br>Number of EVs=%{x}<extra></extra>",
           "legendgroup": "BMW",
           "marker": {
            "color": "#B6E880",
            "pattern": {
             "shape": ""
            }
           },
           "name": "BMW",
           "offsetgroup": "BMW",
           "orientation": "h",
           "showlegend": true,
           "textposition": "auto",
           "type": "bar",
           "x": [
            905
           ],
           "xaxis": "x",
           "y": [
            "BMW"
           ],
           "yaxis": "y"
          },
          {
           "alignmentgroup": "True",
           "hovertemplate": "Car Make=%{y}<br>Model Year=2022<br>Number of EVs=%{x}<extra></extra>",
           "legendgroup": "VOLVO",
           "marker": {
            "color": "#FF97FF",
            "pattern": {
             "shape": ""
            }
           },
           "name": "VOLVO",
           "offsetgroup": "VOLVO",
           "orientation": "h",
           "showlegend": true,
           "textposition": "auto",
           "type": "bar",
           "x": [
            882
           ],
           "xaxis": "x",
           "y": [
            "VOLVO"
           ],
           "yaxis": "y"
          },
          {
           "alignmentgroup": "True",
           "hovertemplate": "Car Make=%{y}<br>Model Year=2022<br>Number of EVs=%{x}<extra></extra>",
           "legendgroup": "VOLKSWAGEN",
           "marker": {
            "color": "#FECB52",
            "pattern": {
             "shape": ""
            }
           },
           "name": "VOLKSWAGEN",
           "offsetgroup": "VOLKSWAGEN",
           "orientation": "h",
           "showlegend": true,
           "textposition": "auto",
           "type": "bar",
           "x": [
            428
           ],
           "xaxis": "x",
           "y": [
            "VOLKSWAGEN"
           ],
           "yaxis": "y"
          }
         ],
         "name": "2022"
        },
        {
         "data": [
          {
           "alignmentgroup": "True",
           "hovertemplate": "Car Make=%{y}<br>Model Year=2023<br>Number of EVs=%{x}<extra></extra>",
           "legendgroup": "TOYOTA",
           "marker": {
            "color": "#636efa",
            "pattern": {
             "shape": ""
            }
           },
           "name": "TOYOTA",
           "offsetgroup": "TOYOTA",
           "orientation": "h",
           "showlegend": true,
           "textposition": "auto",
           "type": "bar",
           "x": [
            0
           ],
           "xaxis": "x",
           "y": [
            "TOYOTA"
           ],
           "yaxis": "y"
          },
          {
           "alignmentgroup": "True",
           "hovertemplate": "Car Make=%{y}<br>Model Year=2023<br>Number of EVs=%{x}<extra></extra>",
           "legendgroup": "CHEVROLET",
           "marker": {
            "color": "#EF553B",
            "pattern": {
             "shape": ""
            }
           },
           "name": "CHEVROLET",
           "offsetgroup": "CHEVROLET",
           "orientation": "h",
           "showlegend": true,
           "textposition": "auto",
           "type": "bar",
           "x": [
            177
           ],
           "xaxis": "x",
           "y": [
            "CHEVROLET"
           ],
           "yaxis": "y"
          },
          {
           "alignmentgroup": "True",
           "hovertemplate": "Car Make=%{y}<br>Model Year=2023<br>Number of EVs=%{x}<extra></extra>",
           "legendgroup": "NISSAN",
           "marker": {
            "color": "#00cc96",
            "pattern": {
             "shape": ""
            }
           },
           "name": "NISSAN",
           "offsetgroup": "NISSAN",
           "orientation": "h",
           "showlegend": true,
           "textposition": "auto",
           "type": "bar",
           "x": [
            149
           ],
           "xaxis": "x",
           "y": [
            "NISSAN"
           ],
           "yaxis": "y"
          },
          {
           "alignmentgroup": "True",
           "hovertemplate": "Car Make=%{y}<br>Model Year=2023<br>Number of EVs=%{x}<extra></extra>",
           "legendgroup": "FORD",
           "marker": {
            "color": "#ab63fa",
            "pattern": {
             "shape": ""
            }
           },
           "name": "FORD",
           "offsetgroup": "FORD",
           "orientation": "h",
           "showlegend": true,
           "textposition": "auto",
           "type": "bar",
           "x": [
            4
           ],
           "xaxis": "x",
           "y": [
            "FORD"
           ],
           "yaxis": "y"
          },
          {
           "alignmentgroup": "True",
           "hovertemplate": "Car Make=%{y}<br>Model Year=2023<br>Number of EVs=%{x}<extra></extra>",
           "legendgroup": "TESLA",
           "marker": {
            "color": "#FFA15A",
            "pattern": {
             "shape": ""
            }
           },
           "name": "TESLA",
           "offsetgroup": "TESLA",
           "orientation": "h",
           "showlegend": true,
           "textposition": "auto",
           "type": "bar",
           "x": [
            890
           ],
           "xaxis": "x",
           "y": [
            "TESLA"
           ],
           "yaxis": "y"
          },
          {
           "alignmentgroup": "True",
           "hovertemplate": "Car Make=%{y}<br>Model Year=2023<br>Number of EVs=%{x}<extra></extra>",
           "legendgroup": "KIA",
           "marker": {
            "color": "#19d3f3",
            "pattern": {
             "shape": ""
            }
           },
           "name": "KIA",
           "offsetgroup": "KIA",
           "orientation": "h",
           "showlegend": true,
           "textposition": "auto",
           "type": "bar",
           "x": [
            79
           ],
           "xaxis": "x",
           "y": [
            "KIA"
           ],
           "yaxis": "y"
          },
          {
           "alignmentgroup": "True",
           "hovertemplate": "Car Make=%{y}<br>Model Year=2023<br>Number of EVs=%{x}<extra></extra>",
           "legendgroup": "AUDI",
           "marker": {
            "color": "#FF6692",
            "pattern": {
             "shape": ""
            }
           },
           "name": "AUDI",
           "offsetgroup": "AUDI",
           "orientation": "h",
           "showlegend": true,
           "textposition": "auto",
           "type": "bar",
           "x": [
            12
           ],
           "xaxis": "x",
           "y": [
            "AUDI"
           ],
           "yaxis": "y"
          },
          {
           "alignmentgroup": "True",
           "hovertemplate": "Car Make=%{y}<br>Model Year=2023<br>Number of EVs=%{x}<extra></extra>",
           "legendgroup": "BMW",
           "marker": {
            "color": "#B6E880",
            "pattern": {
             "shape": ""
            }
           },
           "name": "BMW",
           "offsetgroup": "BMW",
           "orientation": "h",
           "showlegend": true,
           "textposition": "auto",
           "type": "bar",
           "x": [
            73
           ],
           "xaxis": "x",
           "y": [
            "BMW"
           ],
           "yaxis": "y"
          },
          {
           "alignmentgroup": "True",
           "hovertemplate": "Car Make=%{y}<br>Model Year=2023<br>Number of EVs=%{x}<extra></extra>",
           "legendgroup": "VOLVO",
           "marker": {
            "color": "#FF97FF",
            "pattern": {
             "shape": ""
            }
           },
           "name": "VOLVO",
           "offsetgroup": "VOLVO",
           "orientation": "h",
           "showlegend": true,
           "textposition": "auto",
           "type": "bar",
           "x": [
            21
           ],
           "xaxis": "x",
           "y": [
            "VOLVO"
           ],
           "yaxis": "y"
          },
          {
           "alignmentgroup": "True",
           "hovertemplate": "Car Make=%{y}<br>Model Year=2023<br>Number of EVs=%{x}<extra></extra>",
           "legendgroup": "VOLKSWAGEN",
           "marker": {
            "color": "#FECB52",
            "pattern": {
             "shape": ""
            }
           },
           "name": "VOLKSWAGEN",
           "offsetgroup": "VOLKSWAGEN",
           "orientation": "h",
           "showlegend": true,
           "textposition": "auto",
           "type": "bar",
           "x": [
            69
           ],
           "xaxis": "x",
           "y": [
            "VOLKSWAGEN"
           ],
           "yaxis": "y"
          }
         ],
         "name": "2023"
        }
       ],
       "layout": {
        "barmode": "relative",
        "height": 800,
        "legend": {
         "title": {
          "text": "Car Make"
         },
         "tracegroupgap": 0
        },
        "sliders": [
         {
          "active": 0,
          "currentvalue": {
           "prefix": "Model Year="
          },
          "len": 0.9,
          "pad": {
           "b": 10,
           "t": 60
          },
          "steps": [
           {
            "args": [
             [
              "1997"
             ],
             {
              "frame": {
               "duration": 0,
               "redraw": true
              },
              "fromcurrent": true,
              "mode": "immediate",
              "transition": {
               "duration": 0,
               "easing": "linear"
              }
             }
            ],
            "label": "1997",
            "method": "animate"
           },
           {
            "args": [
             [
              "1998"
             ],
             {
              "frame": {
               "duration": 0,
               "redraw": true
              },
              "fromcurrent": true,
              "mode": "immediate",
              "transition": {
               "duration": 0,
               "easing": "linear"
              }
             }
            ],
            "label": "1998",
            "method": "animate"
           },
           {
            "args": [
             [
              "1999"
             ],
             {
              "frame": {
               "duration": 0,
               "redraw": true
              },
              "fromcurrent": true,
              "mode": "immediate",
              "transition": {
               "duration": 0,
               "easing": "linear"
              }
             }
            ],
            "label": "1999",
            "method": "animate"
           },
           {
            "args": [
             [
              "2000"
             ],
             {
              "frame": {
               "duration": 0,
               "redraw": true
              },
              "fromcurrent": true,
              "mode": "immediate",
              "transition": {
               "duration": 0,
               "easing": "linear"
              }
             }
            ],
            "label": "2000",
            "method": "animate"
           },
           {
            "args": [
             [
              "2002"
             ],
             {
              "frame": {
               "duration": 0,
               "redraw": true
              },
              "fromcurrent": true,
              "mode": "immediate",
              "transition": {
               "duration": 0,
               "easing": "linear"
              }
             }
            ],
            "label": "2002",
            "method": "animate"
           },
           {
            "args": [
             [
              "2008"
             ],
             {
              "frame": {
               "duration": 0,
               "redraw": true
              },
              "fromcurrent": true,
              "mode": "immediate",
              "transition": {
               "duration": 0,
               "easing": "linear"
              }
             }
            ],
            "label": "2008",
            "method": "animate"
           },
           {
            "args": [
             [
              "2010"
             ],
             {
              "frame": {
               "duration": 0,
               "redraw": true
              },
              "fromcurrent": true,
              "mode": "immediate",
              "transition": {
               "duration": 0,
               "easing": "linear"
              }
             }
            ],
            "label": "2010",
            "method": "animate"
           },
           {
            "args": [
             [
              "2011"
             ],
             {
              "frame": {
               "duration": 0,
               "redraw": true
              },
              "fromcurrent": true,
              "mode": "immediate",
              "transition": {
               "duration": 0,
               "easing": "linear"
              }
             }
            ],
            "label": "2011",
            "method": "animate"
           },
           {
            "args": [
             [
              "2012"
             ],
             {
              "frame": {
               "duration": 0,
               "redraw": true
              },
              "fromcurrent": true,
              "mode": "immediate",
              "transition": {
               "duration": 0,
               "easing": "linear"
              }
             }
            ],
            "label": "2012",
            "method": "animate"
           },
           {
            "args": [
             [
              "2013"
             ],
             {
              "frame": {
               "duration": 0,
               "redraw": true
              },
              "fromcurrent": true,
              "mode": "immediate",
              "transition": {
               "duration": 0,
               "easing": "linear"
              }
             }
            ],
            "label": "2013",
            "method": "animate"
           },
           {
            "args": [
             [
              "2014"
             ],
             {
              "frame": {
               "duration": 0,
               "redraw": true
              },
              "fromcurrent": true,
              "mode": "immediate",
              "transition": {
               "duration": 0,
               "easing": "linear"
              }
             }
            ],
            "label": "2014",
            "method": "animate"
           },
           {
            "args": [
             [
              "2015"
             ],
             {
              "frame": {
               "duration": 0,
               "redraw": true
              },
              "fromcurrent": true,
              "mode": "immediate",
              "transition": {
               "duration": 0,
               "easing": "linear"
              }
             }
            ],
            "label": "2015",
            "method": "animate"
           },
           {
            "args": [
             [
              "2016"
             ],
             {
              "frame": {
               "duration": 0,
               "redraw": true
              },
              "fromcurrent": true,
              "mode": "immediate",
              "transition": {
               "duration": 0,
               "easing": "linear"
              }
             }
            ],
            "label": "2016",
            "method": "animate"
           },
           {
            "args": [
             [
              "2017"
             ],
             {
              "frame": {
               "duration": 0,
               "redraw": true
              },
              "fromcurrent": true,
              "mode": "immediate",
              "transition": {
               "duration": 0,
               "easing": "linear"
              }
             }
            ],
            "label": "2017",
            "method": "animate"
           },
           {
            "args": [
             [
              "2018"
             ],
             {
              "frame": {
               "duration": 0,
               "redraw": true
              },
              "fromcurrent": true,
              "mode": "immediate",
              "transition": {
               "duration": 0,
               "easing": "linear"
              }
             }
            ],
            "label": "2018",
            "method": "animate"
           },
           {
            "args": [
             [
              "2019"
             ],
             {
              "frame": {
               "duration": 0,
               "redraw": true
              },
              "fromcurrent": true,
              "mode": "immediate",
              "transition": {
               "duration": 0,
               "easing": "linear"
              }
             }
            ],
            "label": "2019",
            "method": "animate"
           },
           {
            "args": [
             [
              "2020"
             ],
             {
              "frame": {
               "duration": 0,
               "redraw": true
              },
              "fromcurrent": true,
              "mode": "immediate",
              "transition": {
               "duration": 0,
               "easing": "linear"
              }
             }
            ],
            "label": "2020",
            "method": "animate"
           },
           {
            "args": [
             [
              "2021"
             ],
             {
              "frame": {
               "duration": 0,
               "redraw": true
              },
              "fromcurrent": true,
              "mode": "immediate",
              "transition": {
               "duration": 0,
               "easing": "linear"
              }
             }
            ],
            "label": "2021",
            "method": "animate"
           },
           {
            "args": [
             [
              "2022"
             ],
             {
              "frame": {
               "duration": 0,
               "redraw": true
              },
              "fromcurrent": true,
              "mode": "immediate",
              "transition": {
               "duration": 0,
               "easing": "linear"
              }
             }
            ],
            "label": "2022",
            "method": "animate"
           },
           {
            "args": [
             [
              "2023"
             ],
             {
              "frame": {
               "duration": 0,
               "redraw": true
              },
              "fromcurrent": true,
              "mode": "immediate",
              "transition": {
               "duration": 0,
               "easing": "linear"
              }
             }
            ],
            "label": "2023",
            "method": "animate"
           }
          ],
          "x": 0.1,
          "xanchor": "left",
          "y": 0,
          "yanchor": "top"
         }
        ],
        "template": {
         "data": {
          "bar": [
           {
            "error_x": {
             "color": "#2a3f5f"
            },
            "error_y": {
             "color": "#2a3f5f"
            },
            "marker": {
             "line": {
              "color": "#E5ECF6",
              "width": 0.5
             },
             "pattern": {
              "fillmode": "overlay",
              "size": 10,
              "solidity": 0.2
             }
            },
            "type": "bar"
           }
          ],
          "barpolar": [
           {
            "marker": {
             "line": {
              "color": "#E5ECF6",
              "width": 0.5
             },
             "pattern": {
              "fillmode": "overlay",
              "size": 10,
              "solidity": 0.2
             }
            },
            "type": "barpolar"
           }
          ],
          "carpet": [
           {
            "aaxis": {
             "endlinecolor": "#2a3f5f",
             "gridcolor": "white",
             "linecolor": "white",
             "minorgridcolor": "white",
             "startlinecolor": "#2a3f5f"
            },
            "baxis": {
             "endlinecolor": "#2a3f5f",
             "gridcolor": "white",
             "linecolor": "white",
             "minorgridcolor": "white",
             "startlinecolor": "#2a3f5f"
            },
            "type": "carpet"
           }
          ],
          "choropleth": [
           {
            "colorbar": {
             "outlinewidth": 0,
             "ticks": ""
            },
            "type": "choropleth"
           }
          ],
          "contour": [
           {
            "colorbar": {
             "outlinewidth": 0,
             "ticks": ""
            },
            "colorscale": [
             [
              0,
              "#0d0887"
             ],
             [
              0.1111111111111111,
              "#46039f"
             ],
             [
              0.2222222222222222,
              "#7201a8"
             ],
             [
              0.3333333333333333,
              "#9c179e"
             ],
             [
              0.4444444444444444,
              "#bd3786"
             ],
             [
              0.5555555555555556,
              "#d8576b"
             ],
             [
              0.6666666666666666,
              "#ed7953"
             ],
             [
              0.7777777777777778,
              "#fb9f3a"
             ],
             [
              0.8888888888888888,
              "#fdca26"
             ],
             [
              1,
              "#f0f921"
             ]
            ],
            "type": "contour"
           }
          ],
          "contourcarpet": [
           {
            "colorbar": {
             "outlinewidth": 0,
             "ticks": ""
            },
            "type": "contourcarpet"
           }
          ],
          "heatmap": [
           {
            "colorbar": {
             "outlinewidth": 0,
             "ticks": ""
            },
            "colorscale": [
             [
              0,
              "#0d0887"
             ],
             [
              0.1111111111111111,
              "#46039f"
             ],
             [
              0.2222222222222222,
              "#7201a8"
             ],
             [
              0.3333333333333333,
              "#9c179e"
             ],
             [
              0.4444444444444444,
              "#bd3786"
             ],
             [
              0.5555555555555556,
              "#d8576b"
             ],
             [
              0.6666666666666666,
              "#ed7953"
             ],
             [
              0.7777777777777778,
              "#fb9f3a"
             ],
             [
              0.8888888888888888,
              "#fdca26"
             ],
             [
              1,
              "#f0f921"
             ]
            ],
            "type": "heatmap"
           }
          ],
          "heatmapgl": [
           {
            "colorbar": {
             "outlinewidth": 0,
             "ticks": ""
            },
            "colorscale": [
             [
              0,
              "#0d0887"
             ],
             [
              0.1111111111111111,
              "#46039f"
             ],
             [
              0.2222222222222222,
              "#7201a8"
             ],
             [
              0.3333333333333333,
              "#9c179e"
             ],
             [
              0.4444444444444444,
              "#bd3786"
             ],
             [
              0.5555555555555556,
              "#d8576b"
             ],
             [
              0.6666666666666666,
              "#ed7953"
             ],
             [
              0.7777777777777778,
              "#fb9f3a"
             ],
             [
              0.8888888888888888,
              "#fdca26"
             ],
             [
              1,
              "#f0f921"
             ]
            ],
            "type": "heatmapgl"
           }
          ],
          "histogram": [
           {
            "marker": {
             "pattern": {
              "fillmode": "overlay",
              "size": 10,
              "solidity": 0.2
             }
            },
            "type": "histogram"
           }
          ],
          "histogram2d": [
           {
            "colorbar": {
             "outlinewidth": 0,
             "ticks": ""
            },
            "colorscale": [
             [
              0,
              "#0d0887"
             ],
             [
              0.1111111111111111,
              "#46039f"
             ],
             [
              0.2222222222222222,
              "#7201a8"
             ],
             [
              0.3333333333333333,
              "#9c179e"
             ],
             [
              0.4444444444444444,
              "#bd3786"
             ],
             [
              0.5555555555555556,
              "#d8576b"
             ],
             [
              0.6666666666666666,
              "#ed7953"
             ],
             [
              0.7777777777777778,
              "#fb9f3a"
             ],
             [
              0.8888888888888888,
              "#fdca26"
             ],
             [
              1,
              "#f0f921"
             ]
            ],
            "type": "histogram2d"
           }
          ],
          "histogram2dcontour": [
           {
            "colorbar": {
             "outlinewidth": 0,
             "ticks": ""
            },
            "colorscale": [
             [
              0,
              "#0d0887"
             ],
             [
              0.1111111111111111,
              "#46039f"
             ],
             [
              0.2222222222222222,
              "#7201a8"
             ],
             [
              0.3333333333333333,
              "#9c179e"
             ],
             [
              0.4444444444444444,
              "#bd3786"
             ],
             [
              0.5555555555555556,
              "#d8576b"
             ],
             [
              0.6666666666666666,
              "#ed7953"
             ],
             [
              0.7777777777777778,
              "#fb9f3a"
             ],
             [
              0.8888888888888888,
              "#fdca26"
             ],
             [
              1,
              "#f0f921"
             ]
            ],
            "type": "histogram2dcontour"
           }
          ],
          "mesh3d": [
           {
            "colorbar": {
             "outlinewidth": 0,
             "ticks": ""
            },
            "type": "mesh3d"
           }
          ],
          "parcoords": [
           {
            "line": {
             "colorbar": {
              "outlinewidth": 0,
              "ticks": ""
             }
            },
            "type": "parcoords"
           }
          ],
          "pie": [
           {
            "automargin": true,
            "type": "pie"
           }
          ],
          "scatter": [
           {
            "fillpattern": {
             "fillmode": "overlay",
             "size": 10,
             "solidity": 0.2
            },
            "type": "scatter"
           }
          ],
          "scatter3d": [
           {
            "line": {
             "colorbar": {
              "outlinewidth": 0,
              "ticks": ""
             }
            },
            "marker": {
             "colorbar": {
              "outlinewidth": 0,
              "ticks": ""
             }
            },
            "type": "scatter3d"
           }
          ],
          "scattercarpet": [
           {
            "marker": {
             "colorbar": {
              "outlinewidth": 0,
              "ticks": ""
             }
            },
            "type": "scattercarpet"
           }
          ],
          "scattergeo": [
           {
            "marker": {
             "colorbar": {
              "outlinewidth": 0,
              "ticks": ""
             }
            },
            "type": "scattergeo"
           }
          ],
          "scattergl": [
           {
            "marker": {
             "colorbar": {
              "outlinewidth": 0,
              "ticks": ""
             }
            },
            "type": "scattergl"
           }
          ],
          "scattermapbox": [
           {
            "marker": {
             "colorbar": {
              "outlinewidth": 0,
              "ticks": ""
             }
            },
            "type": "scattermapbox"
           }
          ],
          "scatterpolar": [
           {
            "marker": {
             "colorbar": {
              "outlinewidth": 0,
              "ticks": ""
             }
            },
            "type": "scatterpolar"
           }
          ],
          "scatterpolargl": [
           {
            "marker": {
             "colorbar": {
              "outlinewidth": 0,
              "ticks": ""
             }
            },
            "type": "scatterpolargl"
           }
          ],
          "scatterternary": [
           {
            "marker": {
             "colorbar": {
              "outlinewidth": 0,
              "ticks": ""
             }
            },
            "type": "scatterternary"
           }
          ],
          "surface": [
           {
            "colorbar": {
             "outlinewidth": 0,
             "ticks": ""
            },
            "colorscale": [
             [
              0,
              "#0d0887"
             ],
             [
              0.1111111111111111,
              "#46039f"
             ],
             [
              0.2222222222222222,
              "#7201a8"
             ],
             [
              0.3333333333333333,
              "#9c179e"
             ],
             [
              0.4444444444444444,
              "#bd3786"
             ],
             [
              0.5555555555555556,
              "#d8576b"
             ],
             [
              0.6666666666666666,
              "#ed7953"
             ],
             [
              0.7777777777777778,
              "#fb9f3a"
             ],
             [
              0.8888888888888888,
              "#fdca26"
             ],
             [
              1,
              "#f0f921"
             ]
            ],
            "type": "surface"
           }
          ],
          "table": [
           {
            "cells": {
             "fill": {
              "color": "#EBF0F8"
             },
             "line": {
              "color": "white"
             }
            },
            "header": {
             "fill": {
              "color": "#C8D4E3"
             },
             "line": {
              "color": "white"
             }
            },
            "type": "table"
           }
          ]
         },
         "layout": {
          "annotationdefaults": {
           "arrowcolor": "#2a3f5f",
           "arrowhead": 0,
           "arrowwidth": 1
          },
          "autotypenumbers": "strict",
          "coloraxis": {
           "colorbar": {
            "outlinewidth": 0,
            "ticks": ""
           }
          },
          "colorscale": {
           "diverging": [
            [
             0,
             "#8e0152"
            ],
            [
             0.1,
             "#c51b7d"
            ],
            [
             0.2,
             "#de77ae"
            ],
            [
             0.3,
             "#f1b6da"
            ],
            [
             0.4,
             "#fde0ef"
            ],
            [
             0.5,
             "#f7f7f7"
            ],
            [
             0.6,
             "#e6f5d0"
            ],
            [
             0.7,
             "#b8e186"
            ],
            [
             0.8,
             "#7fbc41"
            ],
            [
             0.9,
             "#4d9221"
            ],
            [
             1,
             "#276419"
            ]
           ],
           "sequential": [
            [
             0,
             "#0d0887"
            ],
            [
             0.1111111111111111,
             "#46039f"
            ],
            [
             0.2222222222222222,
             "#7201a8"
            ],
            [
             0.3333333333333333,
             "#9c179e"
            ],
            [
             0.4444444444444444,
             "#bd3786"
            ],
            [
             0.5555555555555556,
             "#d8576b"
            ],
            [
             0.6666666666666666,
             "#ed7953"
            ],
            [
             0.7777777777777778,
             "#fb9f3a"
            ],
            [
             0.8888888888888888,
             "#fdca26"
            ],
            [
             1,
             "#f0f921"
            ]
           ],
           "sequentialminus": [
            [
             0,
             "#0d0887"
            ],
            [
             0.1111111111111111,
             "#46039f"
            ],
            [
             0.2222222222222222,
             "#7201a8"
            ],
            [
             0.3333333333333333,
             "#9c179e"
            ],
            [
             0.4444444444444444,
             "#bd3786"
            ],
            [
             0.5555555555555556,
             "#d8576b"
            ],
            [
             0.6666666666666666,
             "#ed7953"
            ],
            [
             0.7777777777777778,
             "#fb9f3a"
            ],
            [
             0.8888888888888888,
             "#fdca26"
            ],
            [
             1,
             "#f0f921"
            ]
           ]
          },
          "colorway": [
           "#636efa",
           "#EF553B",
           "#00cc96",
           "#ab63fa",
           "#FFA15A",
           "#19d3f3",
           "#FF6692",
           "#B6E880",
           "#FF97FF",
           "#FECB52"
          ],
          "font": {
           "color": "#2a3f5f"
          },
          "geo": {
           "bgcolor": "white",
           "lakecolor": "white",
           "landcolor": "#E5ECF6",
           "showlakes": true,
           "showland": true,
           "subunitcolor": "white"
          },
          "hoverlabel": {
           "align": "left"
          },
          "hovermode": "closest",
          "mapbox": {
           "style": "light"
          },
          "paper_bgcolor": "white",
          "plot_bgcolor": "#E5ECF6",
          "polar": {
           "angularaxis": {
            "gridcolor": "white",
            "linecolor": "white",
            "ticks": ""
           },
           "bgcolor": "#E5ECF6",
           "radialaxis": {
            "gridcolor": "white",
            "linecolor": "white",
            "ticks": ""
           }
          },
          "scene": {
           "xaxis": {
            "backgroundcolor": "#E5ECF6",
            "gridcolor": "white",
            "gridwidth": 2,
            "linecolor": "white",
            "showbackground": true,
            "ticks": "",
            "zerolinecolor": "white"
           },
           "yaxis": {
            "backgroundcolor": "#E5ECF6",
            "gridcolor": "white",
            "gridwidth": 2,
            "linecolor": "white",
            "showbackground": true,
            "ticks": "",
            "zerolinecolor": "white"
           },
           "zaxis": {
            "backgroundcolor": "#E5ECF6",
            "gridcolor": "white",
            "gridwidth": 2,
            "linecolor": "white",
            "showbackground": true,
            "ticks": "",
            "zerolinecolor": "white"
           }
          },
          "shapedefaults": {
           "line": {
            "color": "#2a3f5f"
           }
          },
          "ternary": {
           "aaxis": {
            "gridcolor": "white",
            "linecolor": "white",
            "ticks": ""
           },
           "baxis": {
            "gridcolor": "white",
            "linecolor": "white",
            "ticks": ""
           },
           "bgcolor": "#E5ECF6",
           "caxis": {
            "gridcolor": "white",
            "linecolor": "white",
            "ticks": ""
           }
          },
          "title": {
           "x": 0.05
          },
          "xaxis": {
           "automargin": true,
           "gridcolor": "white",
           "linecolor": "white",
           "ticks": "",
           "title": {
            "standoff": 15
           },
           "zerolinecolor": "white",
           "zerolinewidth": 2
          },
          "yaxis": {
           "automargin": true,
           "gridcolor": "white",
           "linecolor": "white",
           "ticks": "",
           "title": {
            "standoff": 15
           },
           "zerolinecolor": "white",
           "zerolinewidth": 2
          }
         }
        },
        "title": {
         "text": "Top 10 Electric Vehicle Makes Over the Years"
        },
        "updatemenus": [
         {
          "buttons": [
           {
            "args": [
             null,
             {
              "frame": {
               "duration": 500,
               "redraw": true
              },
              "fromcurrent": true,
              "mode": "immediate",
              "transition": {
               "duration": 500,
               "easing": "linear"
              }
             }
            ],
            "label": "&#9654;",
            "method": "animate"
           },
           {
            "args": [
             [
              null
             ],
             {
              "frame": {
               "duration": 0,
               "redraw": true
              },
              "fromcurrent": true,
              "mode": "immediate",
              "transition": {
               "duration": 0,
               "easing": "linear"
              }
             }
            ],
            "label": "&#9724;",
            "method": "animate"
           }
          ],
          "direction": "left",
          "pad": {
           "r": 10,
           "t": 70
          },
          "showactive": false,
          "type": "buttons",
          "x": 0.1,
          "xanchor": "right",
          "y": 0,
          "yanchor": "top"
         }
        ],
        "xaxis": {
         "anchor": "y",
         "domain": [
          0,
          1
         ],
         "range": [
          0,
          16002.800000000001
         ],
         "title": {
          "text": "Number of EVs"
         }
        },
        "yaxis": {
         "anchor": "x",
         "categoryarray": [
          "VOLKSWAGEN",
          "VOLVO",
          "BMW",
          "AUDI",
          "KIA",
          "TESLA",
          "FORD",
          "NISSAN",
          "CHEVROLET",
          "TOYOTA"
         ],
         "categoryorder": "array",
         "domain": [
          0,
          1
         ],
         "title": {
          "text": "Car Make"
         }
        }
       }
      },
      "text/html": [
       "<div>                            <div id=\"951e04f7-b10d-48b7-945d-a84af963e54e\" class=\"plotly-graph-div\" style=\"height:800px; width:100%;\"></div>            <script type=\"text/javascript\">                require([\"plotly\"], function(Plotly) {                    window.PLOTLYENV=window.PLOTLYENV || {};                                    if (document.getElementById(\"951e04f7-b10d-48b7-945d-a84af963e54e\")) {                    Plotly.newPlot(                        \"951e04f7-b10d-48b7-945d-a84af963e54e\",                        [{\"alignmentgroup\":\"True\",\"hovertemplate\":\"Car Make=%{y}<br>Model Year=1997<br>Number of EVs=%{x}<extra></extra>\",\"legendgroup\":\"TOYOTA\",\"marker\":{\"color\":\"#636efa\",\"pattern\":{\"shape\":\"\"}},\"name\":\"TOYOTA\",\"offsetgroup\":\"TOYOTA\",\"orientation\":\"h\",\"showlegend\":true,\"textposition\":\"auto\",\"x\":[0],\"xaxis\":\"x\",\"y\":[\"TOYOTA\"],\"yaxis\":\"y\",\"type\":\"bar\"},{\"alignmentgroup\":\"True\",\"hovertemplate\":\"Car Make=%{y}<br>Model Year=1997<br>Number of EVs=%{x}<extra></extra>\",\"legendgroup\":\"CHEVROLET\",\"marker\":{\"color\":\"#EF553B\",\"pattern\":{\"shape\":\"\"}},\"name\":\"CHEVROLET\",\"offsetgroup\":\"CHEVROLET\",\"orientation\":\"h\",\"showlegend\":true,\"textposition\":\"auto\",\"x\":[1],\"xaxis\":\"x\",\"y\":[\"CHEVROLET\"],\"yaxis\":\"y\",\"type\":\"bar\"},{\"alignmentgroup\":\"True\",\"hovertemplate\":\"Car Make=%{y}<br>Model Year=1997<br>Number of EVs=%{x}<extra></extra>\",\"legendgroup\":\"NISSAN\",\"marker\":{\"color\":\"#00cc96\",\"pattern\":{\"shape\":\"\"}},\"name\":\"NISSAN\",\"offsetgroup\":\"NISSAN\",\"orientation\":\"h\",\"showlegend\":true,\"textposition\":\"auto\",\"x\":[0],\"xaxis\":\"x\",\"y\":[\"NISSAN\"],\"yaxis\":\"y\",\"type\":\"bar\"},{\"alignmentgroup\":\"True\",\"hovertemplate\":\"Car Make=%{y}<br>Model Year=1997<br>Number of EVs=%{x}<extra></extra>\",\"legendgroup\":\"FORD\",\"marker\":{\"color\":\"#ab63fa\",\"pattern\":{\"shape\":\"\"}},\"name\":\"FORD\",\"offsetgroup\":\"FORD\",\"orientation\":\"h\",\"showlegend\":true,\"textposition\":\"auto\",\"x\":[0],\"xaxis\":\"x\",\"y\":[\"FORD\"],\"yaxis\":\"y\",\"type\":\"bar\"},{\"alignmentgroup\":\"True\",\"hovertemplate\":\"Car Make=%{y}<br>Model Year=1997<br>Number of EVs=%{x}<extra></extra>\",\"legendgroup\":\"TESLA\",\"marker\":{\"color\":\"#FFA15A\",\"pattern\":{\"shape\":\"\"}},\"name\":\"TESLA\",\"offsetgroup\":\"TESLA\",\"orientation\":\"h\",\"showlegend\":true,\"textposition\":\"auto\",\"x\":[0],\"xaxis\":\"x\",\"y\":[\"TESLA\"],\"yaxis\":\"y\",\"type\":\"bar\"},{\"alignmentgroup\":\"True\",\"hovertemplate\":\"Car Make=%{y}<br>Model Year=1997<br>Number of EVs=%{x}<extra></extra>\",\"legendgroup\":\"KIA\",\"marker\":{\"color\":\"#19d3f3\",\"pattern\":{\"shape\":\"\"}},\"name\":\"KIA\",\"offsetgroup\":\"KIA\",\"orientation\":\"h\",\"showlegend\":true,\"textposition\":\"auto\",\"x\":[0],\"xaxis\":\"x\",\"y\":[\"KIA\"],\"yaxis\":\"y\",\"type\":\"bar\"},{\"alignmentgroup\":\"True\",\"hovertemplate\":\"Car Make=%{y}<br>Model Year=1997<br>Number of EVs=%{x}<extra></extra>\",\"legendgroup\":\"AUDI\",\"marker\":{\"color\":\"#FF6692\",\"pattern\":{\"shape\":\"\"}},\"name\":\"AUDI\",\"offsetgroup\":\"AUDI\",\"orientation\":\"h\",\"showlegend\":true,\"textposition\":\"auto\",\"x\":[0],\"xaxis\":\"x\",\"y\":[\"AUDI\"],\"yaxis\":\"y\",\"type\":\"bar\"},{\"alignmentgroup\":\"True\",\"hovertemplate\":\"Car Make=%{y}<br>Model Year=1997<br>Number of EVs=%{x}<extra></extra>\",\"legendgroup\":\"BMW\",\"marker\":{\"color\":\"#B6E880\",\"pattern\":{\"shape\":\"\"}},\"name\":\"BMW\",\"offsetgroup\":\"BMW\",\"orientation\":\"h\",\"showlegend\":true,\"textposition\":\"auto\",\"x\":[0],\"xaxis\":\"x\",\"y\":[\"BMW\"],\"yaxis\":\"y\",\"type\":\"bar\"},{\"alignmentgroup\":\"True\",\"hovertemplate\":\"Car Make=%{y}<br>Model Year=1997<br>Number of EVs=%{x}<extra></extra>\",\"legendgroup\":\"VOLVO\",\"marker\":{\"color\":\"#FF97FF\",\"pattern\":{\"shape\":\"\"}},\"name\":\"VOLVO\",\"offsetgroup\":\"VOLVO\",\"orientation\":\"h\",\"showlegend\":true,\"textposition\":\"auto\",\"x\":[0],\"xaxis\":\"x\",\"y\":[\"VOLVO\"],\"yaxis\":\"y\",\"type\":\"bar\"},{\"alignmentgroup\":\"True\",\"hovertemplate\":\"Car Make=%{y}<br>Model Year=1997<br>Number of EVs=%{x}<extra></extra>\",\"legendgroup\":\"VOLKSWAGEN\",\"marker\":{\"color\":\"#FECB52\",\"pattern\":{\"shape\":\"\"}},\"name\":\"VOLKSWAGEN\",\"offsetgroup\":\"VOLKSWAGEN\",\"orientation\":\"h\",\"showlegend\":true,\"textposition\":\"auto\",\"x\":[0],\"xaxis\":\"x\",\"y\":[\"VOLKSWAGEN\"],\"yaxis\":\"y\",\"type\":\"bar\"}],                        {\"template\":{\"data\":{\"histogram2dcontour\":[{\"type\":\"histogram2dcontour\",\"colorbar\":{\"outlinewidth\":0,\"ticks\":\"\"},\"colorscale\":[[0.0,\"#0d0887\"],[0.1111111111111111,\"#46039f\"],[0.2222222222222222,\"#7201a8\"],[0.3333333333333333,\"#9c179e\"],[0.4444444444444444,\"#bd3786\"],[0.5555555555555556,\"#d8576b\"],[0.6666666666666666,\"#ed7953\"],[0.7777777777777778,\"#fb9f3a\"],[0.8888888888888888,\"#fdca26\"],[1.0,\"#f0f921\"]]}],\"choropleth\":[{\"type\":\"choropleth\",\"colorbar\":{\"outlinewidth\":0,\"ticks\":\"\"}}],\"histogram2d\":[{\"type\":\"histogram2d\",\"colorbar\":{\"outlinewidth\":0,\"ticks\":\"\"},\"colorscale\":[[0.0,\"#0d0887\"],[0.1111111111111111,\"#46039f\"],[0.2222222222222222,\"#7201a8\"],[0.3333333333333333,\"#9c179e\"],[0.4444444444444444,\"#bd3786\"],[0.5555555555555556,\"#d8576b\"],[0.6666666666666666,\"#ed7953\"],[0.7777777777777778,\"#fb9f3a\"],[0.8888888888888888,\"#fdca26\"],[1.0,\"#f0f921\"]]}],\"heatmap\":[{\"type\":\"heatmap\",\"colorbar\":{\"outlinewidth\":0,\"ticks\":\"\"},\"colorscale\":[[0.0,\"#0d0887\"],[0.1111111111111111,\"#46039f\"],[0.2222222222222222,\"#7201a8\"],[0.3333333333333333,\"#9c179e\"],[0.4444444444444444,\"#bd3786\"],[0.5555555555555556,\"#d8576b\"],[0.6666666666666666,\"#ed7953\"],[0.7777777777777778,\"#fb9f3a\"],[0.8888888888888888,\"#fdca26\"],[1.0,\"#f0f921\"]]}],\"heatmapgl\":[{\"type\":\"heatmapgl\",\"colorbar\":{\"outlinewidth\":0,\"ticks\":\"\"},\"colorscale\":[[0.0,\"#0d0887\"],[0.1111111111111111,\"#46039f\"],[0.2222222222222222,\"#7201a8\"],[0.3333333333333333,\"#9c179e\"],[0.4444444444444444,\"#bd3786\"],[0.5555555555555556,\"#d8576b\"],[0.6666666666666666,\"#ed7953\"],[0.7777777777777778,\"#fb9f3a\"],[0.8888888888888888,\"#fdca26\"],[1.0,\"#f0f921\"]]}],\"contourcarpet\":[{\"type\":\"contourcarpet\",\"colorbar\":{\"outlinewidth\":0,\"ticks\":\"\"}}],\"contour\":[{\"type\":\"contour\",\"colorbar\":{\"outlinewidth\":0,\"ticks\":\"\"},\"colorscale\":[[0.0,\"#0d0887\"],[0.1111111111111111,\"#46039f\"],[0.2222222222222222,\"#7201a8\"],[0.3333333333333333,\"#9c179e\"],[0.4444444444444444,\"#bd3786\"],[0.5555555555555556,\"#d8576b\"],[0.6666666666666666,\"#ed7953\"],[0.7777777777777778,\"#fb9f3a\"],[0.8888888888888888,\"#fdca26\"],[1.0,\"#f0f921\"]]}],\"surface\":[{\"type\":\"surface\",\"colorbar\":{\"outlinewidth\":0,\"ticks\":\"\"},\"colorscale\":[[0.0,\"#0d0887\"],[0.1111111111111111,\"#46039f\"],[0.2222222222222222,\"#7201a8\"],[0.3333333333333333,\"#9c179e\"],[0.4444444444444444,\"#bd3786\"],[0.5555555555555556,\"#d8576b\"],[0.6666666666666666,\"#ed7953\"],[0.7777777777777778,\"#fb9f3a\"],[0.8888888888888888,\"#fdca26\"],[1.0,\"#f0f921\"]]}],\"mesh3d\":[{\"type\":\"mesh3d\",\"colorbar\":{\"outlinewidth\":0,\"ticks\":\"\"}}],\"scatter\":[{\"fillpattern\":{\"fillmode\":\"overlay\",\"size\":10,\"solidity\":0.2},\"type\":\"scatter\"}],\"parcoords\":[{\"type\":\"parcoords\",\"line\":{\"colorbar\":{\"outlinewidth\":0,\"ticks\":\"\"}}}],\"scatterpolargl\":[{\"type\":\"scatterpolargl\",\"marker\":{\"colorbar\":{\"outlinewidth\":0,\"ticks\":\"\"}}}],\"bar\":[{\"error_x\":{\"color\":\"#2a3f5f\"},\"error_y\":{\"color\":\"#2a3f5f\"},\"marker\":{\"line\":{\"color\":\"#E5ECF6\",\"width\":0.5},\"pattern\":{\"fillmode\":\"overlay\",\"size\":10,\"solidity\":0.2}},\"type\":\"bar\"}],\"scattergeo\":[{\"type\":\"scattergeo\",\"marker\":{\"colorbar\":{\"outlinewidth\":0,\"ticks\":\"\"}}}],\"scatterpolar\":[{\"type\":\"scatterpolar\",\"marker\":{\"colorbar\":{\"outlinewidth\":0,\"ticks\":\"\"}}}],\"histogram\":[{\"marker\":{\"pattern\":{\"fillmode\":\"overlay\",\"size\":10,\"solidity\":0.2}},\"type\":\"histogram\"}],\"scattergl\":[{\"type\":\"scattergl\",\"marker\":{\"colorbar\":{\"outlinewidth\":0,\"ticks\":\"\"}}}],\"scatter3d\":[{\"type\":\"scatter3d\",\"line\":{\"colorbar\":{\"outlinewidth\":0,\"ticks\":\"\"}},\"marker\":{\"colorbar\":{\"outlinewidth\":0,\"ticks\":\"\"}}}],\"scattermapbox\":[{\"type\":\"scattermapbox\",\"marker\":{\"colorbar\":{\"outlinewidth\":0,\"ticks\":\"\"}}}],\"scatterternary\":[{\"type\":\"scatterternary\",\"marker\":{\"colorbar\":{\"outlinewidth\":0,\"ticks\":\"\"}}}],\"scattercarpet\":[{\"type\":\"scattercarpet\",\"marker\":{\"colorbar\":{\"outlinewidth\":0,\"ticks\":\"\"}}}],\"carpet\":[{\"aaxis\":{\"endlinecolor\":\"#2a3f5f\",\"gridcolor\":\"white\",\"linecolor\":\"white\",\"minorgridcolor\":\"white\",\"startlinecolor\":\"#2a3f5f\"},\"baxis\":{\"endlinecolor\":\"#2a3f5f\",\"gridcolor\":\"white\",\"linecolor\":\"white\",\"minorgridcolor\":\"white\",\"startlinecolor\":\"#2a3f5f\"},\"type\":\"carpet\"}],\"table\":[{\"cells\":{\"fill\":{\"color\":\"#EBF0F8\"},\"line\":{\"color\":\"white\"}},\"header\":{\"fill\":{\"color\":\"#C8D4E3\"},\"line\":{\"color\":\"white\"}},\"type\":\"table\"}],\"barpolar\":[{\"marker\":{\"line\":{\"color\":\"#E5ECF6\",\"width\":0.5},\"pattern\":{\"fillmode\":\"overlay\",\"size\":10,\"solidity\":0.2}},\"type\":\"barpolar\"}],\"pie\":[{\"automargin\":true,\"type\":\"pie\"}]},\"layout\":{\"autotypenumbers\":\"strict\",\"colorway\":[\"#636efa\",\"#EF553B\",\"#00cc96\",\"#ab63fa\",\"#FFA15A\",\"#19d3f3\",\"#FF6692\",\"#B6E880\",\"#FF97FF\",\"#FECB52\"],\"font\":{\"color\":\"#2a3f5f\"},\"hovermode\":\"closest\",\"hoverlabel\":{\"align\":\"left\"},\"paper_bgcolor\":\"white\",\"plot_bgcolor\":\"#E5ECF6\",\"polar\":{\"bgcolor\":\"#E5ECF6\",\"angularaxis\":{\"gridcolor\":\"white\",\"linecolor\":\"white\",\"ticks\":\"\"},\"radialaxis\":{\"gridcolor\":\"white\",\"linecolor\":\"white\",\"ticks\":\"\"}},\"ternary\":{\"bgcolor\":\"#E5ECF6\",\"aaxis\":{\"gridcolor\":\"white\",\"linecolor\":\"white\",\"ticks\":\"\"},\"baxis\":{\"gridcolor\":\"white\",\"linecolor\":\"white\",\"ticks\":\"\"},\"caxis\":{\"gridcolor\":\"white\",\"linecolor\":\"white\",\"ticks\":\"\"}},\"coloraxis\":{\"colorbar\":{\"outlinewidth\":0,\"ticks\":\"\"}},\"colorscale\":{\"sequential\":[[0.0,\"#0d0887\"],[0.1111111111111111,\"#46039f\"],[0.2222222222222222,\"#7201a8\"],[0.3333333333333333,\"#9c179e\"],[0.4444444444444444,\"#bd3786\"],[0.5555555555555556,\"#d8576b\"],[0.6666666666666666,\"#ed7953\"],[0.7777777777777778,\"#fb9f3a\"],[0.8888888888888888,\"#fdca26\"],[1.0,\"#f0f921\"]],\"sequentialminus\":[[0.0,\"#0d0887\"],[0.1111111111111111,\"#46039f\"],[0.2222222222222222,\"#7201a8\"],[0.3333333333333333,\"#9c179e\"],[0.4444444444444444,\"#bd3786\"],[0.5555555555555556,\"#d8576b\"],[0.6666666666666666,\"#ed7953\"],[0.7777777777777778,\"#fb9f3a\"],[0.8888888888888888,\"#fdca26\"],[1.0,\"#f0f921\"]],\"diverging\":[[0,\"#8e0152\"],[0.1,\"#c51b7d\"],[0.2,\"#de77ae\"],[0.3,\"#f1b6da\"],[0.4,\"#fde0ef\"],[0.5,\"#f7f7f7\"],[0.6,\"#e6f5d0\"],[0.7,\"#b8e186\"],[0.8,\"#7fbc41\"],[0.9,\"#4d9221\"],[1,\"#276419\"]]},\"xaxis\":{\"gridcolor\":\"white\",\"linecolor\":\"white\",\"ticks\":\"\",\"title\":{\"standoff\":15},\"zerolinecolor\":\"white\",\"automargin\":true,\"zerolinewidth\":2},\"yaxis\":{\"gridcolor\":\"white\",\"linecolor\":\"white\",\"ticks\":\"\",\"title\":{\"standoff\":15},\"zerolinecolor\":\"white\",\"automargin\":true,\"zerolinewidth\":2},\"scene\":{\"xaxis\":{\"backgroundcolor\":\"#E5ECF6\",\"gridcolor\":\"white\",\"linecolor\":\"white\",\"showbackground\":true,\"ticks\":\"\",\"zerolinecolor\":\"white\",\"gridwidth\":2},\"yaxis\":{\"backgroundcolor\":\"#E5ECF6\",\"gridcolor\":\"white\",\"linecolor\":\"white\",\"showbackground\":true,\"ticks\":\"\",\"zerolinecolor\":\"white\",\"gridwidth\":2},\"zaxis\":{\"backgroundcolor\":\"#E5ECF6\",\"gridcolor\":\"white\",\"linecolor\":\"white\",\"showbackground\":true,\"ticks\":\"\",\"zerolinecolor\":\"white\",\"gridwidth\":2}},\"shapedefaults\":{\"line\":{\"color\":\"#2a3f5f\"}},\"annotationdefaults\":{\"arrowcolor\":\"#2a3f5f\",\"arrowhead\":0,\"arrowwidth\":1},\"geo\":{\"bgcolor\":\"white\",\"landcolor\":\"#E5ECF6\",\"subunitcolor\":\"white\",\"showland\":true,\"showlakes\":true,\"lakecolor\":\"white\"},\"title\":{\"x\":0.05},\"mapbox\":{\"style\":\"light\"}}},\"xaxis\":{\"anchor\":\"y\",\"domain\":[0.0,1.0],\"title\":{\"text\":\"Number of EVs\"},\"range\":[0,16002.800000000001]},\"yaxis\":{\"anchor\":\"x\",\"domain\":[0.0,1.0],\"title\":{\"text\":\"Car Make\"},\"categoryorder\":\"array\",\"categoryarray\":[\"VOLKSWAGEN\",\"VOLVO\",\"BMW\",\"AUDI\",\"KIA\",\"TESLA\",\"FORD\",\"NISSAN\",\"CHEVROLET\",\"TOYOTA\"]},\"legend\":{\"title\":{\"text\":\"Car Make\"},\"tracegroupgap\":0},\"title\":{\"text\":\"Top 10 Electric Vehicle Makes Over the Years\"},\"barmode\":\"relative\",\"height\":800,\"updatemenus\":[{\"buttons\":[{\"args\":[null,{\"frame\":{\"duration\":500,\"redraw\":true},\"mode\":\"immediate\",\"fromcurrent\":true,\"transition\":{\"duration\":500,\"easing\":\"linear\"}}],\"label\":\"&#9654;\",\"method\":\"animate\"},{\"args\":[[null],{\"frame\":{\"duration\":0,\"redraw\":true},\"mode\":\"immediate\",\"fromcurrent\":true,\"transition\":{\"duration\":0,\"easing\":\"linear\"}}],\"label\":\"&#9724;\",\"method\":\"animate\"}],\"direction\":\"left\",\"pad\":{\"r\":10,\"t\":70},\"showactive\":false,\"type\":\"buttons\",\"x\":0.1,\"xanchor\":\"right\",\"y\":0,\"yanchor\":\"top\"}],\"sliders\":[{\"active\":0,\"currentvalue\":{\"prefix\":\"Model Year=\"},\"len\":0.9,\"pad\":{\"b\":10,\"t\":60},\"steps\":[{\"args\":[[\"1997\"],{\"frame\":{\"duration\":0,\"redraw\":true},\"mode\":\"immediate\",\"fromcurrent\":true,\"transition\":{\"duration\":0,\"easing\":\"linear\"}}],\"label\":\"1997\",\"method\":\"animate\"},{\"args\":[[\"1998\"],{\"frame\":{\"duration\":0,\"redraw\":true},\"mode\":\"immediate\",\"fromcurrent\":true,\"transition\":{\"duration\":0,\"easing\":\"linear\"}}],\"label\":\"1998\",\"method\":\"animate\"},{\"args\":[[\"1999\"],{\"frame\":{\"duration\":0,\"redraw\":true},\"mode\":\"immediate\",\"fromcurrent\":true,\"transition\":{\"duration\":0,\"easing\":\"linear\"}}],\"label\":\"1999\",\"method\":\"animate\"},{\"args\":[[\"2000\"],{\"frame\":{\"duration\":0,\"redraw\":true},\"mode\":\"immediate\",\"fromcurrent\":true,\"transition\":{\"duration\":0,\"easing\":\"linear\"}}],\"label\":\"2000\",\"method\":\"animate\"},{\"args\":[[\"2002\"],{\"frame\":{\"duration\":0,\"redraw\":true},\"mode\":\"immediate\",\"fromcurrent\":true,\"transition\":{\"duration\":0,\"easing\":\"linear\"}}],\"label\":\"2002\",\"method\":\"animate\"},{\"args\":[[\"2008\"],{\"frame\":{\"duration\":0,\"redraw\":true},\"mode\":\"immediate\",\"fromcurrent\":true,\"transition\":{\"duration\":0,\"easing\":\"linear\"}}],\"label\":\"2008\",\"method\":\"animate\"},{\"args\":[[\"2010\"],{\"frame\":{\"duration\":0,\"redraw\":true},\"mode\":\"immediate\",\"fromcurrent\":true,\"transition\":{\"duration\":0,\"easing\":\"linear\"}}],\"label\":\"2010\",\"method\":\"animate\"},{\"args\":[[\"2011\"],{\"frame\":{\"duration\":0,\"redraw\":true},\"mode\":\"immediate\",\"fromcurrent\":true,\"transition\":{\"duration\":0,\"easing\":\"linear\"}}],\"label\":\"2011\",\"method\":\"animate\"},{\"args\":[[\"2012\"],{\"frame\":{\"duration\":0,\"redraw\":true},\"mode\":\"immediate\",\"fromcurrent\":true,\"transition\":{\"duration\":0,\"easing\":\"linear\"}}],\"label\":\"2012\",\"method\":\"animate\"},{\"args\":[[\"2013\"],{\"frame\":{\"duration\":0,\"redraw\":true},\"mode\":\"immediate\",\"fromcurrent\":true,\"transition\":{\"duration\":0,\"easing\":\"linear\"}}],\"label\":\"2013\",\"method\":\"animate\"},{\"args\":[[\"2014\"],{\"frame\":{\"duration\":0,\"redraw\":true},\"mode\":\"immediate\",\"fromcurrent\":true,\"transition\":{\"duration\":0,\"easing\":\"linear\"}}],\"label\":\"2014\",\"method\":\"animate\"},{\"args\":[[\"2015\"],{\"frame\":{\"duration\":0,\"redraw\":true},\"mode\":\"immediate\",\"fromcurrent\":true,\"transition\":{\"duration\":0,\"easing\":\"linear\"}}],\"label\":\"2015\",\"method\":\"animate\"},{\"args\":[[\"2016\"],{\"frame\":{\"duration\":0,\"redraw\":true},\"mode\":\"immediate\",\"fromcurrent\":true,\"transition\":{\"duration\":0,\"easing\":\"linear\"}}],\"label\":\"2016\",\"method\":\"animate\"},{\"args\":[[\"2017\"],{\"frame\":{\"duration\":0,\"redraw\":true},\"mode\":\"immediate\",\"fromcurrent\":true,\"transition\":{\"duration\":0,\"easing\":\"linear\"}}],\"label\":\"2017\",\"method\":\"animate\"},{\"args\":[[\"2018\"],{\"frame\":{\"duration\":0,\"redraw\":true},\"mode\":\"immediate\",\"fromcurrent\":true,\"transition\":{\"duration\":0,\"easing\":\"linear\"}}],\"label\":\"2018\",\"method\":\"animate\"},{\"args\":[[\"2019\"],{\"frame\":{\"duration\":0,\"redraw\":true},\"mode\":\"immediate\",\"fromcurrent\":true,\"transition\":{\"duration\":0,\"easing\":\"linear\"}}],\"label\":\"2019\",\"method\":\"animate\"},{\"args\":[[\"2020\"],{\"frame\":{\"duration\":0,\"redraw\":true},\"mode\":\"immediate\",\"fromcurrent\":true,\"transition\":{\"duration\":0,\"easing\":\"linear\"}}],\"label\":\"2020\",\"method\":\"animate\"},{\"args\":[[\"2021\"],{\"frame\":{\"duration\":0,\"redraw\":true},\"mode\":\"immediate\",\"fromcurrent\":true,\"transition\":{\"duration\":0,\"easing\":\"linear\"}}],\"label\":\"2021\",\"method\":\"animate\"},{\"args\":[[\"2022\"],{\"frame\":{\"duration\":0,\"redraw\":true},\"mode\":\"immediate\",\"fromcurrent\":true,\"transition\":{\"duration\":0,\"easing\":\"linear\"}}],\"label\":\"2022\",\"method\":\"animate\"},{\"args\":[[\"2023\"],{\"frame\":{\"duration\":0,\"redraw\":true},\"mode\":\"immediate\",\"fromcurrent\":true,\"transition\":{\"duration\":0,\"easing\":\"linear\"}}],\"label\":\"2023\",\"method\":\"animate\"}],\"x\":0.1,\"xanchor\":\"left\",\"y\":0,\"yanchor\":\"top\"}]},                        {\"responsive\": true}                    ).then(function(){\n",
       "                            Plotly.addFrames('951e04f7-b10d-48b7-945d-a84af963e54e', [{\"data\":[{\"alignmentgroup\":\"True\",\"hovertemplate\":\"Car Make=%{y}<br>Model Year=1997<br>Number of EVs=%{x}<extra></extra>\",\"legendgroup\":\"TOYOTA\",\"marker\":{\"color\":\"#636efa\",\"pattern\":{\"shape\":\"\"}},\"name\":\"TOYOTA\",\"offsetgroup\":\"TOYOTA\",\"orientation\":\"h\",\"showlegend\":true,\"textposition\":\"auto\",\"x\":[0],\"xaxis\":\"x\",\"y\":[\"TOYOTA\"],\"yaxis\":\"y\",\"type\":\"bar\"},{\"alignmentgroup\":\"True\",\"hovertemplate\":\"Car Make=%{y}<br>Model Year=1997<br>Number of EVs=%{x}<extra></extra>\",\"legendgroup\":\"CHEVROLET\",\"marker\":{\"color\":\"#EF553B\",\"pattern\":{\"shape\":\"\"}},\"name\":\"CHEVROLET\",\"offsetgroup\":\"CHEVROLET\",\"orientation\":\"h\",\"showlegend\":true,\"textposition\":\"auto\",\"x\":[1],\"xaxis\":\"x\",\"y\":[\"CHEVROLET\"],\"yaxis\":\"y\",\"type\":\"bar\"},{\"alignmentgroup\":\"True\",\"hovertemplate\":\"Car Make=%{y}<br>Model Year=1997<br>Number of EVs=%{x}<extra></extra>\",\"legendgroup\":\"NISSAN\",\"marker\":{\"color\":\"#00cc96\",\"pattern\":{\"shape\":\"\"}},\"name\":\"NISSAN\",\"offsetgroup\":\"NISSAN\",\"orientation\":\"h\",\"showlegend\":true,\"textposition\":\"auto\",\"x\":[0],\"xaxis\":\"x\",\"y\":[\"NISSAN\"],\"yaxis\":\"y\",\"type\":\"bar\"},{\"alignmentgroup\":\"True\",\"hovertemplate\":\"Car Make=%{y}<br>Model Year=1997<br>Number of EVs=%{x}<extra></extra>\",\"legendgroup\":\"FORD\",\"marker\":{\"color\":\"#ab63fa\",\"pattern\":{\"shape\":\"\"}},\"name\":\"FORD\",\"offsetgroup\":\"FORD\",\"orientation\":\"h\",\"showlegend\":true,\"textposition\":\"auto\",\"x\":[0],\"xaxis\":\"x\",\"y\":[\"FORD\"],\"yaxis\":\"y\",\"type\":\"bar\"},{\"alignmentgroup\":\"True\",\"hovertemplate\":\"Car Make=%{y}<br>Model Year=1997<br>Number of EVs=%{x}<extra></extra>\",\"legendgroup\":\"TESLA\",\"marker\":{\"color\":\"#FFA15A\",\"pattern\":{\"shape\":\"\"}},\"name\":\"TESLA\",\"offsetgroup\":\"TESLA\",\"orientation\":\"h\",\"showlegend\":true,\"textposition\":\"auto\",\"x\":[0],\"xaxis\":\"x\",\"y\":[\"TESLA\"],\"yaxis\":\"y\",\"type\":\"bar\"},{\"alignmentgroup\":\"True\",\"hovertemplate\":\"Car Make=%{y}<br>Model Year=1997<br>Number of EVs=%{x}<extra></extra>\",\"legendgroup\":\"KIA\",\"marker\":{\"color\":\"#19d3f3\",\"pattern\":{\"shape\":\"\"}},\"name\":\"KIA\",\"offsetgroup\":\"KIA\",\"orientation\":\"h\",\"showlegend\":true,\"textposition\":\"auto\",\"x\":[0],\"xaxis\":\"x\",\"y\":[\"KIA\"],\"yaxis\":\"y\",\"type\":\"bar\"},{\"alignmentgroup\":\"True\",\"hovertemplate\":\"Car Make=%{y}<br>Model Year=1997<br>Number of EVs=%{x}<extra></extra>\",\"legendgroup\":\"AUDI\",\"marker\":{\"color\":\"#FF6692\",\"pattern\":{\"shape\":\"\"}},\"name\":\"AUDI\",\"offsetgroup\":\"AUDI\",\"orientation\":\"h\",\"showlegend\":true,\"textposition\":\"auto\",\"x\":[0],\"xaxis\":\"x\",\"y\":[\"AUDI\"],\"yaxis\":\"y\",\"type\":\"bar\"},{\"alignmentgroup\":\"True\",\"hovertemplate\":\"Car Make=%{y}<br>Model Year=1997<br>Number of EVs=%{x}<extra></extra>\",\"legendgroup\":\"BMW\",\"marker\":{\"color\":\"#B6E880\",\"pattern\":{\"shape\":\"\"}},\"name\":\"BMW\",\"offsetgroup\":\"BMW\",\"orientation\":\"h\",\"showlegend\":true,\"textposition\":\"auto\",\"x\":[0],\"xaxis\":\"x\",\"y\":[\"BMW\"],\"yaxis\":\"y\",\"type\":\"bar\"},{\"alignmentgroup\":\"True\",\"hovertemplate\":\"Car Make=%{y}<br>Model Year=1997<br>Number of EVs=%{x}<extra></extra>\",\"legendgroup\":\"VOLVO\",\"marker\":{\"color\":\"#FF97FF\",\"pattern\":{\"shape\":\"\"}},\"name\":\"VOLVO\",\"offsetgroup\":\"VOLVO\",\"orientation\":\"h\",\"showlegend\":true,\"textposition\":\"auto\",\"x\":[0],\"xaxis\":\"x\",\"y\":[\"VOLVO\"],\"yaxis\":\"y\",\"type\":\"bar\"},{\"alignmentgroup\":\"True\",\"hovertemplate\":\"Car Make=%{y}<br>Model Year=1997<br>Number of EVs=%{x}<extra></extra>\",\"legendgroup\":\"VOLKSWAGEN\",\"marker\":{\"color\":\"#FECB52\",\"pattern\":{\"shape\":\"\"}},\"name\":\"VOLKSWAGEN\",\"offsetgroup\":\"VOLKSWAGEN\",\"orientation\":\"h\",\"showlegend\":true,\"textposition\":\"auto\",\"x\":[0],\"xaxis\":\"x\",\"y\":[\"VOLKSWAGEN\"],\"yaxis\":\"y\",\"type\":\"bar\"}],\"name\":\"1997\"},{\"data\":[{\"alignmentgroup\":\"True\",\"hovertemplate\":\"Car Make=%{y}<br>Model Year=1998<br>Number of EVs=%{x}<extra></extra>\",\"legendgroup\":\"TOYOTA\",\"marker\":{\"color\":\"#636efa\",\"pattern\":{\"shape\":\"\"}},\"name\":\"TOYOTA\",\"offsetgroup\":\"TOYOTA\",\"orientation\":\"h\",\"showlegend\":true,\"textposition\":\"auto\",\"x\":[0],\"xaxis\":\"x\",\"y\":[\"TOYOTA\"],\"yaxis\":\"y\",\"type\":\"bar\"},{\"alignmentgroup\":\"True\",\"hovertemplate\":\"Car Make=%{y}<br>Model Year=1998<br>Number of EVs=%{x}<extra></extra>\",\"legendgroup\":\"CHEVROLET\",\"marker\":{\"color\":\"#EF553B\",\"pattern\":{\"shape\":\"\"}},\"name\":\"CHEVROLET\",\"offsetgroup\":\"CHEVROLET\",\"orientation\":\"h\",\"showlegend\":true,\"textposition\":\"auto\",\"x\":[0],\"xaxis\":\"x\",\"y\":[\"CHEVROLET\"],\"yaxis\":\"y\",\"type\":\"bar\"},{\"alignmentgroup\":\"True\",\"hovertemplate\":\"Car Make=%{y}<br>Model Year=1998<br>Number of EVs=%{x}<extra></extra>\",\"legendgroup\":\"NISSAN\",\"marker\":{\"color\":\"#00cc96\",\"pattern\":{\"shape\":\"\"}},\"name\":\"NISSAN\",\"offsetgroup\":\"NISSAN\",\"orientation\":\"h\",\"showlegend\":true,\"textposition\":\"auto\",\"x\":[0],\"xaxis\":\"x\",\"y\":[\"NISSAN\"],\"yaxis\":\"y\",\"type\":\"bar\"},{\"alignmentgroup\":\"True\",\"hovertemplate\":\"Car Make=%{y}<br>Model Year=1998<br>Number of EVs=%{x}<extra></extra>\",\"legendgroup\":\"FORD\",\"marker\":{\"color\":\"#ab63fa\",\"pattern\":{\"shape\":\"\"}},\"name\":\"FORD\",\"offsetgroup\":\"FORD\",\"orientation\":\"h\",\"showlegend\":true,\"textposition\":\"auto\",\"x\":[1],\"xaxis\":\"x\",\"y\":[\"FORD\"],\"yaxis\":\"y\",\"type\":\"bar\"},{\"alignmentgroup\":\"True\",\"hovertemplate\":\"Car Make=%{y}<br>Model Year=1998<br>Number of EVs=%{x}<extra></extra>\",\"legendgroup\":\"TESLA\",\"marker\":{\"color\":\"#FFA15A\",\"pattern\":{\"shape\":\"\"}},\"name\":\"TESLA\",\"offsetgroup\":\"TESLA\",\"orientation\":\"h\",\"showlegend\":true,\"textposition\":\"auto\",\"x\":[0],\"xaxis\":\"x\",\"y\":[\"TESLA\"],\"yaxis\":\"y\",\"type\":\"bar\"},{\"alignmentgroup\":\"True\",\"hovertemplate\":\"Car Make=%{y}<br>Model Year=1998<br>Number of EVs=%{x}<extra></extra>\",\"legendgroup\":\"KIA\",\"marker\":{\"color\":\"#19d3f3\",\"pattern\":{\"shape\":\"\"}},\"name\":\"KIA\",\"offsetgroup\":\"KIA\",\"orientation\":\"h\",\"showlegend\":true,\"textposition\":\"auto\",\"x\":[0],\"xaxis\":\"x\",\"y\":[\"KIA\"],\"yaxis\":\"y\",\"type\":\"bar\"},{\"alignmentgroup\":\"True\",\"hovertemplate\":\"Car Make=%{y}<br>Model Year=1998<br>Number of EVs=%{x}<extra></extra>\",\"legendgroup\":\"AUDI\",\"marker\":{\"color\":\"#FF6692\",\"pattern\":{\"shape\":\"\"}},\"name\":\"AUDI\",\"offsetgroup\":\"AUDI\",\"orientation\":\"h\",\"showlegend\":true,\"textposition\":\"auto\",\"x\":[0],\"xaxis\":\"x\",\"y\":[\"AUDI\"],\"yaxis\":\"y\",\"type\":\"bar\"},{\"alignmentgroup\":\"True\",\"hovertemplate\":\"Car Make=%{y}<br>Model Year=1998<br>Number of EVs=%{x}<extra></extra>\",\"legendgroup\":\"BMW\",\"marker\":{\"color\":\"#B6E880\",\"pattern\":{\"shape\":\"\"}},\"name\":\"BMW\",\"offsetgroup\":\"BMW\",\"orientation\":\"h\",\"showlegend\":true,\"textposition\":\"auto\",\"x\":[0],\"xaxis\":\"x\",\"y\":[\"BMW\"],\"yaxis\":\"y\",\"type\":\"bar\"},{\"alignmentgroup\":\"True\",\"hovertemplate\":\"Car Make=%{y}<br>Model Year=1998<br>Number of EVs=%{x}<extra></extra>\",\"legendgroup\":\"VOLVO\",\"marker\":{\"color\":\"#FF97FF\",\"pattern\":{\"shape\":\"\"}},\"name\":\"VOLVO\",\"offsetgroup\":\"VOLVO\",\"orientation\":\"h\",\"showlegend\":true,\"textposition\":\"auto\",\"x\":[0],\"xaxis\":\"x\",\"y\":[\"VOLVO\"],\"yaxis\":\"y\",\"type\":\"bar\"},{\"alignmentgroup\":\"True\",\"hovertemplate\":\"Car Make=%{y}<br>Model Year=1998<br>Number of EVs=%{x}<extra></extra>\",\"legendgroup\":\"VOLKSWAGEN\",\"marker\":{\"color\":\"#FECB52\",\"pattern\":{\"shape\":\"\"}},\"name\":\"VOLKSWAGEN\",\"offsetgroup\":\"VOLKSWAGEN\",\"orientation\":\"h\",\"showlegend\":true,\"textposition\":\"auto\",\"x\":[0],\"xaxis\":\"x\",\"y\":[\"VOLKSWAGEN\"],\"yaxis\":\"y\",\"type\":\"bar\"}],\"name\":\"1998\"},{\"data\":[{\"alignmentgroup\":\"True\",\"hovertemplate\":\"Car Make=%{y}<br>Model Year=1999<br>Number of EVs=%{x}<extra></extra>\",\"legendgroup\":\"TOYOTA\",\"marker\":{\"color\":\"#636efa\",\"pattern\":{\"shape\":\"\"}},\"name\":\"TOYOTA\",\"offsetgroup\":\"TOYOTA\",\"orientation\":\"h\",\"showlegend\":true,\"textposition\":\"auto\",\"x\":[0],\"xaxis\":\"x\",\"y\":[\"TOYOTA\"],\"yaxis\":\"y\",\"type\":\"bar\"},{\"alignmentgroup\":\"True\",\"hovertemplate\":\"Car Make=%{y}<br>Model Year=1999<br>Number of EVs=%{x}<extra></extra>\",\"legendgroup\":\"CHEVROLET\",\"marker\":{\"color\":\"#EF553B\",\"pattern\":{\"shape\":\"\"}},\"name\":\"CHEVROLET\",\"offsetgroup\":\"CHEVROLET\",\"orientation\":\"h\",\"showlegend\":true,\"textposition\":\"auto\",\"x\":[0],\"xaxis\":\"x\",\"y\":[\"CHEVROLET\"],\"yaxis\":\"y\",\"type\":\"bar\"},{\"alignmentgroup\":\"True\",\"hovertemplate\":\"Car Make=%{y}<br>Model Year=1999<br>Number of EVs=%{x}<extra></extra>\",\"legendgroup\":\"NISSAN\",\"marker\":{\"color\":\"#00cc96\",\"pattern\":{\"shape\":\"\"}},\"name\":\"NISSAN\",\"offsetgroup\":\"NISSAN\",\"orientation\":\"h\",\"showlegend\":true,\"textposition\":\"auto\",\"x\":[0],\"xaxis\":\"x\",\"y\":[\"NISSAN\"],\"yaxis\":\"y\",\"type\":\"bar\"},{\"alignmentgroup\":\"True\",\"hovertemplate\":\"Car Make=%{y}<br>Model Year=1999<br>Number of EVs=%{x}<extra></extra>\",\"legendgroup\":\"FORD\",\"marker\":{\"color\":\"#ab63fa\",\"pattern\":{\"shape\":\"\"}},\"name\":\"FORD\",\"offsetgroup\":\"FORD\",\"orientation\":\"h\",\"showlegend\":true,\"textposition\":\"auto\",\"x\":[3],\"xaxis\":\"x\",\"y\":[\"FORD\"],\"yaxis\":\"y\",\"type\":\"bar\"},{\"alignmentgroup\":\"True\",\"hovertemplate\":\"Car Make=%{y}<br>Model Year=1999<br>Number of EVs=%{x}<extra></extra>\",\"legendgroup\":\"TESLA\",\"marker\":{\"color\":\"#FFA15A\",\"pattern\":{\"shape\":\"\"}},\"name\":\"TESLA\",\"offsetgroup\":\"TESLA\",\"orientation\":\"h\",\"showlegend\":true,\"textposition\":\"auto\",\"x\":[0],\"xaxis\":\"x\",\"y\":[\"TESLA\"],\"yaxis\":\"y\",\"type\":\"bar\"},{\"alignmentgroup\":\"True\",\"hovertemplate\":\"Car Make=%{y}<br>Model Year=1999<br>Number of EVs=%{x}<extra></extra>\",\"legendgroup\":\"KIA\",\"marker\":{\"color\":\"#19d3f3\",\"pattern\":{\"shape\":\"\"}},\"name\":\"KIA\",\"offsetgroup\":\"KIA\",\"orientation\":\"h\",\"showlegend\":true,\"textposition\":\"auto\",\"x\":[0],\"xaxis\":\"x\",\"y\":[\"KIA\"],\"yaxis\":\"y\",\"type\":\"bar\"},{\"alignmentgroup\":\"True\",\"hovertemplate\":\"Car Make=%{y}<br>Model Year=1999<br>Number of EVs=%{x}<extra></extra>\",\"legendgroup\":\"AUDI\",\"marker\":{\"color\":\"#FF6692\",\"pattern\":{\"shape\":\"\"}},\"name\":\"AUDI\",\"offsetgroup\":\"AUDI\",\"orientation\":\"h\",\"showlegend\":true,\"textposition\":\"auto\",\"x\":[0],\"xaxis\":\"x\",\"y\":[\"AUDI\"],\"yaxis\":\"y\",\"type\":\"bar\"},{\"alignmentgroup\":\"True\",\"hovertemplate\":\"Car Make=%{y}<br>Model Year=1999<br>Number of EVs=%{x}<extra></extra>\",\"legendgroup\":\"BMW\",\"marker\":{\"color\":\"#B6E880\",\"pattern\":{\"shape\":\"\"}},\"name\":\"BMW\",\"offsetgroup\":\"BMW\",\"orientation\":\"h\",\"showlegend\":true,\"textposition\":\"auto\",\"x\":[0],\"xaxis\":\"x\",\"y\":[\"BMW\"],\"yaxis\":\"y\",\"type\":\"bar\"},{\"alignmentgroup\":\"True\",\"hovertemplate\":\"Car Make=%{y}<br>Model Year=1999<br>Number of EVs=%{x}<extra></extra>\",\"legendgroup\":\"VOLVO\",\"marker\":{\"color\":\"#FF97FF\",\"pattern\":{\"shape\":\"\"}},\"name\":\"VOLVO\",\"offsetgroup\":\"VOLVO\",\"orientation\":\"h\",\"showlegend\":true,\"textposition\":\"auto\",\"x\":[0],\"xaxis\":\"x\",\"y\":[\"VOLVO\"],\"yaxis\":\"y\",\"type\":\"bar\"},{\"alignmentgroup\":\"True\",\"hovertemplate\":\"Car Make=%{y}<br>Model Year=1999<br>Number of EVs=%{x}<extra></extra>\",\"legendgroup\":\"VOLKSWAGEN\",\"marker\":{\"color\":\"#FECB52\",\"pattern\":{\"shape\":\"\"}},\"name\":\"VOLKSWAGEN\",\"offsetgroup\":\"VOLKSWAGEN\",\"orientation\":\"h\",\"showlegend\":true,\"textposition\":\"auto\",\"x\":[0],\"xaxis\":\"x\",\"y\":[\"VOLKSWAGEN\"],\"yaxis\":\"y\",\"type\":\"bar\"}],\"name\":\"1999\"},{\"data\":[{\"alignmentgroup\":\"True\",\"hovertemplate\":\"Car Make=%{y}<br>Model Year=2000<br>Number of EVs=%{x}<extra></extra>\",\"legendgroup\":\"TOYOTA\",\"marker\":{\"color\":\"#636efa\",\"pattern\":{\"shape\":\"\"}},\"name\":\"TOYOTA\",\"offsetgroup\":\"TOYOTA\",\"orientation\":\"h\",\"showlegend\":true,\"textposition\":\"auto\",\"x\":[0],\"xaxis\":\"x\",\"y\":[\"TOYOTA\"],\"yaxis\":\"y\",\"type\":\"bar\"},{\"alignmentgroup\":\"True\",\"hovertemplate\":\"Car Make=%{y}<br>Model Year=2000<br>Number of EVs=%{x}<extra></extra>\",\"legendgroup\":\"CHEVROLET\",\"marker\":{\"color\":\"#EF553B\",\"pattern\":{\"shape\":\"\"}},\"name\":\"CHEVROLET\",\"offsetgroup\":\"CHEVROLET\",\"orientation\":\"h\",\"showlegend\":true,\"textposition\":\"auto\",\"x\":[0],\"xaxis\":\"x\",\"y\":[\"CHEVROLET\"],\"yaxis\":\"y\",\"type\":\"bar\"},{\"alignmentgroup\":\"True\",\"hovertemplate\":\"Car Make=%{y}<br>Model Year=2000<br>Number of EVs=%{x}<extra></extra>\",\"legendgroup\":\"NISSAN\",\"marker\":{\"color\":\"#00cc96\",\"pattern\":{\"shape\":\"\"}},\"name\":\"NISSAN\",\"offsetgroup\":\"NISSAN\",\"orientation\":\"h\",\"showlegend\":true,\"textposition\":\"auto\",\"x\":[0],\"xaxis\":\"x\",\"y\":[\"NISSAN\"],\"yaxis\":\"y\",\"type\":\"bar\"},{\"alignmentgroup\":\"True\",\"hovertemplate\":\"Car Make=%{y}<br>Model Year=2000<br>Number of EVs=%{x}<extra></extra>\",\"legendgroup\":\"FORD\",\"marker\":{\"color\":\"#ab63fa\",\"pattern\":{\"shape\":\"\"}},\"name\":\"FORD\",\"offsetgroup\":\"FORD\",\"orientation\":\"h\",\"showlegend\":true,\"textposition\":\"auto\",\"x\":[10],\"xaxis\":\"x\",\"y\":[\"FORD\"],\"yaxis\":\"y\",\"type\":\"bar\"},{\"alignmentgroup\":\"True\",\"hovertemplate\":\"Car Make=%{y}<br>Model Year=2000<br>Number of EVs=%{x}<extra></extra>\",\"legendgroup\":\"TESLA\",\"marker\":{\"color\":\"#FFA15A\",\"pattern\":{\"shape\":\"\"}},\"name\":\"TESLA\",\"offsetgroup\":\"TESLA\",\"orientation\":\"h\",\"showlegend\":true,\"textposition\":\"auto\",\"x\":[0],\"xaxis\":\"x\",\"y\":[\"TESLA\"],\"yaxis\":\"y\",\"type\":\"bar\"},{\"alignmentgroup\":\"True\",\"hovertemplate\":\"Car Make=%{y}<br>Model Year=2000<br>Number of EVs=%{x}<extra></extra>\",\"legendgroup\":\"KIA\",\"marker\":{\"color\":\"#19d3f3\",\"pattern\":{\"shape\":\"\"}},\"name\":\"KIA\",\"offsetgroup\":\"KIA\",\"orientation\":\"h\",\"showlegend\":true,\"textposition\":\"auto\",\"x\":[0],\"xaxis\":\"x\",\"y\":[\"KIA\"],\"yaxis\":\"y\",\"type\":\"bar\"},{\"alignmentgroup\":\"True\",\"hovertemplate\":\"Car Make=%{y}<br>Model Year=2000<br>Number of EVs=%{x}<extra></extra>\",\"legendgroup\":\"AUDI\",\"marker\":{\"color\":\"#FF6692\",\"pattern\":{\"shape\":\"\"}},\"name\":\"AUDI\",\"offsetgroup\":\"AUDI\",\"orientation\":\"h\",\"showlegend\":true,\"textposition\":\"auto\",\"x\":[0],\"xaxis\":\"x\",\"y\":[\"AUDI\"],\"yaxis\":\"y\",\"type\":\"bar\"},{\"alignmentgroup\":\"True\",\"hovertemplate\":\"Car Make=%{y}<br>Model Year=2000<br>Number of EVs=%{x}<extra></extra>\",\"legendgroup\":\"BMW\",\"marker\":{\"color\":\"#B6E880\",\"pattern\":{\"shape\":\"\"}},\"name\":\"BMW\",\"offsetgroup\":\"BMW\",\"orientation\":\"h\",\"showlegend\":true,\"textposition\":\"auto\",\"x\":[0],\"xaxis\":\"x\",\"y\":[\"BMW\"],\"yaxis\":\"y\",\"type\":\"bar\"},{\"alignmentgroup\":\"True\",\"hovertemplate\":\"Car Make=%{y}<br>Model Year=2000<br>Number of EVs=%{x}<extra></extra>\",\"legendgroup\":\"VOLVO\",\"marker\":{\"color\":\"#FF97FF\",\"pattern\":{\"shape\":\"\"}},\"name\":\"VOLVO\",\"offsetgroup\":\"VOLVO\",\"orientation\":\"h\",\"showlegend\":true,\"textposition\":\"auto\",\"x\":[0],\"xaxis\":\"x\",\"y\":[\"VOLVO\"],\"yaxis\":\"y\",\"type\":\"bar\"},{\"alignmentgroup\":\"True\",\"hovertemplate\":\"Car Make=%{y}<br>Model Year=2000<br>Number of EVs=%{x}<extra></extra>\",\"legendgroup\":\"VOLKSWAGEN\",\"marker\":{\"color\":\"#FECB52\",\"pattern\":{\"shape\":\"\"}},\"name\":\"VOLKSWAGEN\",\"offsetgroup\":\"VOLKSWAGEN\",\"orientation\":\"h\",\"showlegend\":true,\"textposition\":\"auto\",\"x\":[0],\"xaxis\":\"x\",\"y\":[\"VOLKSWAGEN\"],\"yaxis\":\"y\",\"type\":\"bar\"}],\"name\":\"2000\"},{\"data\":[{\"alignmentgroup\":\"True\",\"hovertemplate\":\"Car Make=%{y}<br>Model Year=2002<br>Number of EVs=%{x}<extra></extra>\",\"legendgroup\":\"TOYOTA\",\"marker\":{\"color\":\"#636efa\",\"pattern\":{\"shape\":\"\"}},\"name\":\"TOYOTA\",\"offsetgroup\":\"TOYOTA\",\"orientation\":\"h\",\"showlegend\":true,\"textposition\":\"auto\",\"x\":[2],\"xaxis\":\"x\",\"y\":[\"TOYOTA\"],\"yaxis\":\"y\",\"type\":\"bar\"},{\"alignmentgroup\":\"True\",\"hovertemplate\":\"Car Make=%{y}<br>Model Year=2002<br>Number of EVs=%{x}<extra></extra>\",\"legendgroup\":\"CHEVROLET\",\"marker\":{\"color\":\"#EF553B\",\"pattern\":{\"shape\":\"\"}},\"name\":\"CHEVROLET\",\"offsetgroup\":\"CHEVROLET\",\"orientation\":\"h\",\"showlegend\":true,\"textposition\":\"auto\",\"x\":[0],\"xaxis\":\"x\",\"y\":[\"CHEVROLET\"],\"yaxis\":\"y\",\"type\":\"bar\"},{\"alignmentgroup\":\"True\",\"hovertemplate\":\"Car Make=%{y}<br>Model Year=2002<br>Number of EVs=%{x}<extra></extra>\",\"legendgroup\":\"NISSAN\",\"marker\":{\"color\":\"#00cc96\",\"pattern\":{\"shape\":\"\"}},\"name\":\"NISSAN\",\"offsetgroup\":\"NISSAN\",\"orientation\":\"h\",\"showlegend\":true,\"textposition\":\"auto\",\"x\":[0],\"xaxis\":\"x\",\"y\":[\"NISSAN\"],\"yaxis\":\"y\",\"type\":\"bar\"},{\"alignmentgroup\":\"True\",\"hovertemplate\":\"Car Make=%{y}<br>Model Year=2002<br>Number of EVs=%{x}<extra></extra>\",\"legendgroup\":\"FORD\",\"marker\":{\"color\":\"#ab63fa\",\"pattern\":{\"shape\":\"\"}},\"name\":\"FORD\",\"offsetgroup\":\"FORD\",\"orientation\":\"h\",\"showlegend\":true,\"textposition\":\"auto\",\"x\":[0],\"xaxis\":\"x\",\"y\":[\"FORD\"],\"yaxis\":\"y\",\"type\":\"bar\"},{\"alignmentgroup\":\"True\",\"hovertemplate\":\"Car Make=%{y}<br>Model Year=2002<br>Number of EVs=%{x}<extra></extra>\",\"legendgroup\":\"TESLA\",\"marker\":{\"color\":\"#FFA15A\",\"pattern\":{\"shape\":\"\"}},\"name\":\"TESLA\",\"offsetgroup\":\"TESLA\",\"orientation\":\"h\",\"showlegend\":true,\"textposition\":\"auto\",\"x\":[0],\"xaxis\":\"x\",\"y\":[\"TESLA\"],\"yaxis\":\"y\",\"type\":\"bar\"},{\"alignmentgroup\":\"True\",\"hovertemplate\":\"Car Make=%{y}<br>Model Year=2002<br>Number of EVs=%{x}<extra></extra>\",\"legendgroup\":\"KIA\",\"marker\":{\"color\":\"#19d3f3\",\"pattern\":{\"shape\":\"\"}},\"name\":\"KIA\",\"offsetgroup\":\"KIA\",\"orientation\":\"h\",\"showlegend\":true,\"textposition\":\"auto\",\"x\":[0],\"xaxis\":\"x\",\"y\":[\"KIA\"],\"yaxis\":\"y\",\"type\":\"bar\"},{\"alignmentgroup\":\"True\",\"hovertemplate\":\"Car Make=%{y}<br>Model Year=2002<br>Number of EVs=%{x}<extra></extra>\",\"legendgroup\":\"AUDI\",\"marker\":{\"color\":\"#FF6692\",\"pattern\":{\"shape\":\"\"}},\"name\":\"AUDI\",\"offsetgroup\":\"AUDI\",\"orientation\":\"h\",\"showlegend\":true,\"textposition\":\"auto\",\"x\":[0],\"xaxis\":\"x\",\"y\":[\"AUDI\"],\"yaxis\":\"y\",\"type\":\"bar\"},{\"alignmentgroup\":\"True\",\"hovertemplate\":\"Car Make=%{y}<br>Model Year=2002<br>Number of EVs=%{x}<extra></extra>\",\"legendgroup\":\"BMW\",\"marker\":{\"color\":\"#B6E880\",\"pattern\":{\"shape\":\"\"}},\"name\":\"BMW\",\"offsetgroup\":\"BMW\",\"orientation\":\"h\",\"showlegend\":true,\"textposition\":\"auto\",\"x\":[0],\"xaxis\":\"x\",\"y\":[\"BMW\"],\"yaxis\":\"y\",\"type\":\"bar\"},{\"alignmentgroup\":\"True\",\"hovertemplate\":\"Car Make=%{y}<br>Model Year=2002<br>Number of EVs=%{x}<extra></extra>\",\"legendgroup\":\"VOLVO\",\"marker\":{\"color\":\"#FF97FF\",\"pattern\":{\"shape\":\"\"}},\"name\":\"VOLVO\",\"offsetgroup\":\"VOLVO\",\"orientation\":\"h\",\"showlegend\":true,\"textposition\":\"auto\",\"x\":[0],\"xaxis\":\"x\",\"y\":[\"VOLVO\"],\"yaxis\":\"y\",\"type\":\"bar\"},{\"alignmentgroup\":\"True\",\"hovertemplate\":\"Car Make=%{y}<br>Model Year=2002<br>Number of EVs=%{x}<extra></extra>\",\"legendgroup\":\"VOLKSWAGEN\",\"marker\":{\"color\":\"#FECB52\",\"pattern\":{\"shape\":\"\"}},\"name\":\"VOLKSWAGEN\",\"offsetgroup\":\"VOLKSWAGEN\",\"orientation\":\"h\",\"showlegend\":true,\"textposition\":\"auto\",\"x\":[0],\"xaxis\":\"x\",\"y\":[\"VOLKSWAGEN\"],\"yaxis\":\"y\",\"type\":\"bar\"}],\"name\":\"2002\"},{\"data\":[{\"alignmentgroup\":\"True\",\"hovertemplate\":\"Car Make=%{y}<br>Model Year=2008<br>Number of EVs=%{x}<extra></extra>\",\"legendgroup\":\"TOYOTA\",\"marker\":{\"color\":\"#636efa\",\"pattern\":{\"shape\":\"\"}},\"name\":\"TOYOTA\",\"offsetgroup\":\"TOYOTA\",\"orientation\":\"h\",\"showlegend\":true,\"textposition\":\"auto\",\"x\":[0],\"xaxis\":\"x\",\"y\":[\"TOYOTA\"],\"yaxis\":\"y\",\"type\":\"bar\"},{\"alignmentgroup\":\"True\",\"hovertemplate\":\"Car Make=%{y}<br>Model Year=2008<br>Number of EVs=%{x}<extra></extra>\",\"legendgroup\":\"CHEVROLET\",\"marker\":{\"color\":\"#EF553B\",\"pattern\":{\"shape\":\"\"}},\"name\":\"CHEVROLET\",\"offsetgroup\":\"CHEVROLET\",\"orientation\":\"h\",\"showlegend\":true,\"textposition\":\"auto\",\"x\":[0],\"xaxis\":\"x\",\"y\":[\"CHEVROLET\"],\"yaxis\":\"y\",\"type\":\"bar\"},{\"alignmentgroup\":\"True\",\"hovertemplate\":\"Car Make=%{y}<br>Model Year=2008<br>Number of EVs=%{x}<extra></extra>\",\"legendgroup\":\"NISSAN\",\"marker\":{\"color\":\"#00cc96\",\"pattern\":{\"shape\":\"\"}},\"name\":\"NISSAN\",\"offsetgroup\":\"NISSAN\",\"orientation\":\"h\",\"showlegend\":true,\"textposition\":\"auto\",\"x\":[0],\"xaxis\":\"x\",\"y\":[\"NISSAN\"],\"yaxis\":\"y\",\"type\":\"bar\"},{\"alignmentgroup\":\"True\",\"hovertemplate\":\"Car Make=%{y}<br>Model Year=2008<br>Number of EVs=%{x}<extra></extra>\",\"legendgroup\":\"FORD\",\"marker\":{\"color\":\"#ab63fa\",\"pattern\":{\"shape\":\"\"}},\"name\":\"FORD\",\"offsetgroup\":\"FORD\",\"orientation\":\"h\",\"showlegend\":true,\"textposition\":\"auto\",\"x\":[0],\"xaxis\":\"x\",\"y\":[\"FORD\"],\"yaxis\":\"y\",\"type\":\"bar\"},{\"alignmentgroup\":\"True\",\"hovertemplate\":\"Car Make=%{y}<br>Model Year=2008<br>Number of EVs=%{x}<extra></extra>\",\"legendgroup\":\"TESLA\",\"marker\":{\"color\":\"#FFA15A\",\"pattern\":{\"shape\":\"\"}},\"name\":\"TESLA\",\"offsetgroup\":\"TESLA\",\"orientation\":\"h\",\"showlegend\":true,\"textposition\":\"auto\",\"x\":[23],\"xaxis\":\"x\",\"y\":[\"TESLA\"],\"yaxis\":\"y\",\"type\":\"bar\"},{\"alignmentgroup\":\"True\",\"hovertemplate\":\"Car Make=%{y}<br>Model Year=2008<br>Number of EVs=%{x}<extra></extra>\",\"legendgroup\":\"KIA\",\"marker\":{\"color\":\"#19d3f3\",\"pattern\":{\"shape\":\"\"}},\"name\":\"KIA\",\"offsetgroup\":\"KIA\",\"orientation\":\"h\",\"showlegend\":true,\"textposition\":\"auto\",\"x\":[0],\"xaxis\":\"x\",\"y\":[\"KIA\"],\"yaxis\":\"y\",\"type\":\"bar\"},{\"alignmentgroup\":\"True\",\"hovertemplate\":\"Car Make=%{y}<br>Model Year=2008<br>Number of EVs=%{x}<extra></extra>\",\"legendgroup\":\"AUDI\",\"marker\":{\"color\":\"#FF6692\",\"pattern\":{\"shape\":\"\"}},\"name\":\"AUDI\",\"offsetgroup\":\"AUDI\",\"orientation\":\"h\",\"showlegend\":true,\"textposition\":\"auto\",\"x\":[0],\"xaxis\":\"x\",\"y\":[\"AUDI\"],\"yaxis\":\"y\",\"type\":\"bar\"},{\"alignmentgroup\":\"True\",\"hovertemplate\":\"Car Make=%{y}<br>Model Year=2008<br>Number of EVs=%{x}<extra></extra>\",\"legendgroup\":\"BMW\",\"marker\":{\"color\":\"#B6E880\",\"pattern\":{\"shape\":\"\"}},\"name\":\"BMW\",\"offsetgroup\":\"BMW\",\"orientation\":\"h\",\"showlegend\":true,\"textposition\":\"auto\",\"x\":[0],\"xaxis\":\"x\",\"y\":[\"BMW\"],\"yaxis\":\"y\",\"type\":\"bar\"},{\"alignmentgroup\":\"True\",\"hovertemplate\":\"Car Make=%{y}<br>Model Year=2008<br>Number of EVs=%{x}<extra></extra>\",\"legendgroup\":\"VOLVO\",\"marker\":{\"color\":\"#FF97FF\",\"pattern\":{\"shape\":\"\"}},\"name\":\"VOLVO\",\"offsetgroup\":\"VOLVO\",\"orientation\":\"h\",\"showlegend\":true,\"textposition\":\"auto\",\"x\":[0],\"xaxis\":\"x\",\"y\":[\"VOLVO\"],\"yaxis\":\"y\",\"type\":\"bar\"},{\"alignmentgroup\":\"True\",\"hovertemplate\":\"Car Make=%{y}<br>Model Year=2008<br>Number of EVs=%{x}<extra></extra>\",\"legendgroup\":\"VOLKSWAGEN\",\"marker\":{\"color\":\"#FECB52\",\"pattern\":{\"shape\":\"\"}},\"name\":\"VOLKSWAGEN\",\"offsetgroup\":\"VOLKSWAGEN\",\"orientation\":\"h\",\"showlegend\":true,\"textposition\":\"auto\",\"x\":[0],\"xaxis\":\"x\",\"y\":[\"VOLKSWAGEN\"],\"yaxis\":\"y\",\"type\":\"bar\"}],\"name\":\"2008\"},{\"data\":[{\"alignmentgroup\":\"True\",\"hovertemplate\":\"Car Make=%{y}<br>Model Year=2010<br>Number of EVs=%{x}<extra></extra>\",\"legendgroup\":\"TOYOTA\",\"marker\":{\"color\":\"#636efa\",\"pattern\":{\"shape\":\"\"}},\"name\":\"TOYOTA\",\"offsetgroup\":\"TOYOTA\",\"orientation\":\"h\",\"showlegend\":true,\"textposition\":\"auto\",\"x\":[0],\"xaxis\":\"x\",\"y\":[\"TOYOTA\"],\"yaxis\":\"y\",\"type\":\"bar\"},{\"alignmentgroup\":\"True\",\"hovertemplate\":\"Car Make=%{y}<br>Model Year=2010<br>Number of EVs=%{x}<extra></extra>\",\"legendgroup\":\"CHEVROLET\",\"marker\":{\"color\":\"#EF553B\",\"pattern\":{\"shape\":\"\"}},\"name\":\"CHEVROLET\",\"offsetgroup\":\"CHEVROLET\",\"orientation\":\"h\",\"showlegend\":true,\"textposition\":\"auto\",\"x\":[0],\"xaxis\":\"x\",\"y\":[\"CHEVROLET\"],\"yaxis\":\"y\",\"type\":\"bar\"},{\"alignmentgroup\":\"True\",\"hovertemplate\":\"Car Make=%{y}<br>Model Year=2010<br>Number of EVs=%{x}<extra></extra>\",\"legendgroup\":\"NISSAN\",\"marker\":{\"color\":\"#00cc96\",\"pattern\":{\"shape\":\"\"}},\"name\":\"NISSAN\",\"offsetgroup\":\"NISSAN\",\"orientation\":\"h\",\"showlegend\":true,\"textposition\":\"auto\",\"x\":[0],\"xaxis\":\"x\",\"y\":[\"NISSAN\"],\"yaxis\":\"y\",\"type\":\"bar\"},{\"alignmentgroup\":\"True\",\"hovertemplate\":\"Car Make=%{y}<br>Model Year=2010<br>Number of EVs=%{x}<extra></extra>\",\"legendgroup\":\"FORD\",\"marker\":{\"color\":\"#ab63fa\",\"pattern\":{\"shape\":\"\"}},\"name\":\"FORD\",\"offsetgroup\":\"FORD\",\"orientation\":\"h\",\"showlegend\":true,\"textposition\":\"auto\",\"x\":[0],\"xaxis\":\"x\",\"y\":[\"FORD\"],\"yaxis\":\"y\",\"type\":\"bar\"},{\"alignmentgroup\":\"True\",\"hovertemplate\":\"Car Make=%{y}<br>Model Year=2010<br>Number of EVs=%{x}<extra></extra>\",\"legendgroup\":\"TESLA\",\"marker\":{\"color\":\"#FFA15A\",\"pattern\":{\"shape\":\"\"}},\"name\":\"TESLA\",\"offsetgroup\":\"TESLA\",\"orientation\":\"h\",\"showlegend\":true,\"textposition\":\"auto\",\"x\":[24],\"xaxis\":\"x\",\"y\":[\"TESLA\"],\"yaxis\":\"y\",\"type\":\"bar\"},{\"alignmentgroup\":\"True\",\"hovertemplate\":\"Car Make=%{y}<br>Model Year=2010<br>Number of EVs=%{x}<extra></extra>\",\"legendgroup\":\"KIA\",\"marker\":{\"color\":\"#19d3f3\",\"pattern\":{\"shape\":\"\"}},\"name\":\"KIA\",\"offsetgroup\":\"KIA\",\"orientation\":\"h\",\"showlegend\":true,\"textposition\":\"auto\",\"x\":[0],\"xaxis\":\"x\",\"y\":[\"KIA\"],\"yaxis\":\"y\",\"type\":\"bar\"},{\"alignmentgroup\":\"True\",\"hovertemplate\":\"Car Make=%{y}<br>Model Year=2010<br>Number of EVs=%{x}<extra></extra>\",\"legendgroup\":\"AUDI\",\"marker\":{\"color\":\"#FF6692\",\"pattern\":{\"shape\":\"\"}},\"name\":\"AUDI\",\"offsetgroup\":\"AUDI\",\"orientation\":\"h\",\"showlegend\":true,\"textposition\":\"auto\",\"x\":[0],\"xaxis\":\"x\",\"y\":[\"AUDI\"],\"yaxis\":\"y\",\"type\":\"bar\"},{\"alignmentgroup\":\"True\",\"hovertemplate\":\"Car Make=%{y}<br>Model Year=2010<br>Number of EVs=%{x}<extra></extra>\",\"legendgroup\":\"BMW\",\"marker\":{\"color\":\"#B6E880\",\"pattern\":{\"shape\":\"\"}},\"name\":\"BMW\",\"offsetgroup\":\"BMW\",\"orientation\":\"h\",\"showlegend\":true,\"textposition\":\"auto\",\"x\":[0],\"xaxis\":\"x\",\"y\":[\"BMW\"],\"yaxis\":\"y\",\"type\":\"bar\"},{\"alignmentgroup\":\"True\",\"hovertemplate\":\"Car Make=%{y}<br>Model Year=2010<br>Number of EVs=%{x}<extra></extra>\",\"legendgroup\":\"VOLVO\",\"marker\":{\"color\":\"#FF97FF\",\"pattern\":{\"shape\":\"\"}},\"name\":\"VOLVO\",\"offsetgroup\":\"VOLVO\",\"orientation\":\"h\",\"showlegend\":true,\"textposition\":\"auto\",\"x\":[0],\"xaxis\":\"x\",\"y\":[\"VOLVO\"],\"yaxis\":\"y\",\"type\":\"bar\"},{\"alignmentgroup\":\"True\",\"hovertemplate\":\"Car Make=%{y}<br>Model Year=2010<br>Number of EVs=%{x}<extra></extra>\",\"legendgroup\":\"VOLKSWAGEN\",\"marker\":{\"color\":\"#FECB52\",\"pattern\":{\"shape\":\"\"}},\"name\":\"VOLKSWAGEN\",\"offsetgroup\":\"VOLKSWAGEN\",\"orientation\":\"h\",\"showlegend\":true,\"textposition\":\"auto\",\"x\":[0],\"xaxis\":\"x\",\"y\":[\"VOLKSWAGEN\"],\"yaxis\":\"y\",\"type\":\"bar\"}],\"name\":\"2010\"},{\"data\":[{\"alignmentgroup\":\"True\",\"hovertemplate\":\"Car Make=%{y}<br>Model Year=2011<br>Number of EVs=%{x}<extra></extra>\",\"legendgroup\":\"TOYOTA\",\"marker\":{\"color\":\"#636efa\",\"pattern\":{\"shape\":\"\"}},\"name\":\"TOYOTA\",\"offsetgroup\":\"TOYOTA\",\"orientation\":\"h\",\"showlegend\":true,\"textposition\":\"auto\",\"x\":[0],\"xaxis\":\"x\",\"y\":[\"TOYOTA\"],\"yaxis\":\"y\",\"type\":\"bar\"},{\"alignmentgroup\":\"True\",\"hovertemplate\":\"Car Make=%{y}<br>Model Year=2011<br>Number of EVs=%{x}<extra></extra>\",\"legendgroup\":\"CHEVROLET\",\"marker\":{\"color\":\"#EF553B\",\"pattern\":{\"shape\":\"\"}},\"name\":\"CHEVROLET\",\"offsetgroup\":\"CHEVROLET\",\"orientation\":\"h\",\"showlegend\":true,\"textposition\":\"auto\",\"x\":[71],\"xaxis\":\"x\",\"y\":[\"CHEVROLET\"],\"yaxis\":\"y\",\"type\":\"bar\"},{\"alignmentgroup\":\"True\",\"hovertemplate\":\"Car Make=%{y}<br>Model Year=2011<br>Number of EVs=%{x}<extra></extra>\",\"legendgroup\":\"NISSAN\",\"marker\":{\"color\":\"#00cc96\",\"pattern\":{\"shape\":\"\"}},\"name\":\"NISSAN\",\"offsetgroup\":\"NISSAN\",\"orientation\":\"h\",\"showlegend\":true,\"textposition\":\"auto\",\"x\":[755],\"xaxis\":\"x\",\"y\":[\"NISSAN\"],\"yaxis\":\"y\",\"type\":\"bar\"},{\"alignmentgroup\":\"True\",\"hovertemplate\":\"Car Make=%{y}<br>Model Year=2011<br>Number of EVs=%{x}<extra></extra>\",\"legendgroup\":\"FORD\",\"marker\":{\"color\":\"#ab63fa\",\"pattern\":{\"shape\":\"\"}},\"name\":\"FORD\",\"offsetgroup\":\"FORD\",\"orientation\":\"h\",\"showlegend\":true,\"textposition\":\"auto\",\"x\":[0],\"xaxis\":\"x\",\"y\":[\"FORD\"],\"yaxis\":\"y\",\"type\":\"bar\"},{\"alignmentgroup\":\"True\",\"hovertemplate\":\"Car Make=%{y}<br>Model Year=2011<br>Number of EVs=%{x}<extra></extra>\",\"legendgroup\":\"TESLA\",\"marker\":{\"color\":\"#FFA15A\",\"pattern\":{\"shape\":\"\"}},\"name\":\"TESLA\",\"offsetgroup\":\"TESLA\",\"orientation\":\"h\",\"showlegend\":true,\"textposition\":\"auto\",\"x\":[7],\"xaxis\":\"x\",\"y\":[\"TESLA\"],\"yaxis\":\"y\",\"type\":\"bar\"},{\"alignmentgroup\":\"True\",\"hovertemplate\":\"Car Make=%{y}<br>Model Year=2011<br>Number of EVs=%{x}<extra></extra>\",\"legendgroup\":\"KIA\",\"marker\":{\"color\":\"#19d3f3\",\"pattern\":{\"shape\":\"\"}},\"name\":\"KIA\",\"offsetgroup\":\"KIA\",\"orientation\":\"h\",\"showlegend\":true,\"textposition\":\"auto\",\"x\":[0],\"xaxis\":\"x\",\"y\":[\"KIA\"],\"yaxis\":\"y\",\"type\":\"bar\"},{\"alignmentgroup\":\"True\",\"hovertemplate\":\"Car Make=%{y}<br>Model Year=2011<br>Number of EVs=%{x}<extra></extra>\",\"legendgroup\":\"AUDI\",\"marker\":{\"color\":\"#FF6692\",\"pattern\":{\"shape\":\"\"}},\"name\":\"AUDI\",\"offsetgroup\":\"AUDI\",\"orientation\":\"h\",\"showlegend\":true,\"textposition\":\"auto\",\"x\":[0],\"xaxis\":\"x\",\"y\":[\"AUDI\"],\"yaxis\":\"y\",\"type\":\"bar\"},{\"alignmentgroup\":\"True\",\"hovertemplate\":\"Car Make=%{y}<br>Model Year=2011<br>Number of EVs=%{x}<extra></extra>\",\"legendgroup\":\"BMW\",\"marker\":{\"color\":\"#B6E880\",\"pattern\":{\"shape\":\"\"}},\"name\":\"BMW\",\"offsetgroup\":\"BMW\",\"orientation\":\"h\",\"showlegend\":true,\"textposition\":\"auto\",\"x\":[0],\"xaxis\":\"x\",\"y\":[\"BMW\"],\"yaxis\":\"y\",\"type\":\"bar\"},{\"alignmentgroup\":\"True\",\"hovertemplate\":\"Car Make=%{y}<br>Model Year=2011<br>Number of EVs=%{x}<extra></extra>\",\"legendgroup\":\"VOLVO\",\"marker\":{\"color\":\"#FF97FF\",\"pattern\":{\"shape\":\"\"}},\"name\":\"VOLVO\",\"offsetgroup\":\"VOLVO\",\"orientation\":\"h\",\"showlegend\":true,\"textposition\":\"auto\",\"x\":[0],\"xaxis\":\"x\",\"y\":[\"VOLVO\"],\"yaxis\":\"y\",\"type\":\"bar\"},{\"alignmentgroup\":\"True\",\"hovertemplate\":\"Car Make=%{y}<br>Model Year=2011<br>Number of EVs=%{x}<extra></extra>\",\"legendgroup\":\"VOLKSWAGEN\",\"marker\":{\"color\":\"#FECB52\",\"pattern\":{\"shape\":\"\"}},\"name\":\"VOLKSWAGEN\",\"offsetgroup\":\"VOLKSWAGEN\",\"orientation\":\"h\",\"showlegend\":true,\"textposition\":\"auto\",\"x\":[0],\"xaxis\":\"x\",\"y\":[\"VOLKSWAGEN\"],\"yaxis\":\"y\",\"type\":\"bar\"}],\"name\":\"2011\"},{\"data\":[{\"alignmentgroup\":\"True\",\"hovertemplate\":\"Car Make=%{y}<br>Model Year=2012<br>Number of EVs=%{x}<extra></extra>\",\"legendgroup\":\"TOYOTA\",\"marker\":{\"color\":\"#636efa\",\"pattern\":{\"shape\":\"\"}},\"name\":\"TOYOTA\",\"offsetgroup\":\"TOYOTA\",\"orientation\":\"h\",\"showlegend\":true,\"textposition\":\"auto\",\"x\":[385],\"xaxis\":\"x\",\"y\":[\"TOYOTA\"],\"yaxis\":\"y\",\"type\":\"bar\"},{\"alignmentgroup\":\"True\",\"hovertemplate\":\"Car Make=%{y}<br>Model Year=2012<br>Number of EVs=%{x}<extra></extra>\",\"legendgroup\":\"CHEVROLET\",\"marker\":{\"color\":\"#EF553B\",\"pattern\":{\"shape\":\"\"}},\"name\":\"CHEVROLET\",\"offsetgroup\":\"CHEVROLET\",\"orientation\":\"h\",\"showlegend\":true,\"textposition\":\"auto\",\"x\":[496],\"xaxis\":\"x\",\"y\":[\"CHEVROLET\"],\"yaxis\":\"y\",\"type\":\"bar\"},{\"alignmentgroup\":\"True\",\"hovertemplate\":\"Car Make=%{y}<br>Model Year=2012<br>Number of EVs=%{x}<extra></extra>\",\"legendgroup\":\"NISSAN\",\"marker\":{\"color\":\"#00cc96\",\"pattern\":{\"shape\":\"\"}},\"name\":\"NISSAN\",\"offsetgroup\":\"NISSAN\",\"orientation\":\"h\",\"showlegend\":true,\"textposition\":\"auto\",\"x\":[610],\"xaxis\":\"x\",\"y\":[\"NISSAN\"],\"yaxis\":\"y\",\"type\":\"bar\"},{\"alignmentgroup\":\"True\",\"hovertemplate\":\"Car Make=%{y}<br>Model Year=2012<br>Number of EVs=%{x}<extra></extra>\",\"legendgroup\":\"FORD\",\"marker\":{\"color\":\"#ab63fa\",\"pattern\":{\"shape\":\"\"}},\"name\":\"FORD\",\"offsetgroup\":\"FORD\",\"orientation\":\"h\",\"showlegend\":true,\"textposition\":\"auto\",\"x\":[15],\"xaxis\":\"x\",\"y\":[\"FORD\"],\"yaxis\":\"y\",\"type\":\"bar\"},{\"alignmentgroup\":\"True\",\"hovertemplate\":\"Car Make=%{y}<br>Model Year=2012<br>Number of EVs=%{x}<extra></extra>\",\"legendgroup\":\"TESLA\",\"marker\":{\"color\":\"#FFA15A\",\"pattern\":{\"shape\":\"\"}},\"name\":\"TESLA\",\"offsetgroup\":\"TESLA\",\"orientation\":\"h\",\"showlegend\":true,\"textposition\":\"auto\",\"x\":[134],\"xaxis\":\"x\",\"y\":[\"TESLA\"],\"yaxis\":\"y\",\"type\":\"bar\"},{\"alignmentgroup\":\"True\",\"hovertemplate\":\"Car Make=%{y}<br>Model Year=2012<br>Number of EVs=%{x}<extra></extra>\",\"legendgroup\":\"KIA\",\"marker\":{\"color\":\"#19d3f3\",\"pattern\":{\"shape\":\"\"}},\"name\":\"KIA\",\"offsetgroup\":\"KIA\",\"orientation\":\"h\",\"showlegend\":true,\"textposition\":\"auto\",\"x\":[0],\"xaxis\":\"x\",\"y\":[\"KIA\"],\"yaxis\":\"y\",\"type\":\"bar\"},{\"alignmentgroup\":\"True\",\"hovertemplate\":\"Car Make=%{y}<br>Model Year=2012<br>Number of EVs=%{x}<extra></extra>\",\"legendgroup\":\"AUDI\",\"marker\":{\"color\":\"#FF6692\",\"pattern\":{\"shape\":\"\"}},\"name\":\"AUDI\",\"offsetgroup\":\"AUDI\",\"orientation\":\"h\",\"showlegend\":true,\"textposition\":\"auto\",\"x\":[0],\"xaxis\":\"x\",\"y\":[\"AUDI\"],\"yaxis\":\"y\",\"type\":\"bar\"},{\"alignmentgroup\":\"True\",\"hovertemplate\":\"Car Make=%{y}<br>Model Year=2012<br>Number of EVs=%{x}<extra></extra>\",\"legendgroup\":\"BMW\",\"marker\":{\"color\":\"#B6E880\",\"pattern\":{\"shape\":\"\"}},\"name\":\"BMW\",\"offsetgroup\":\"BMW\",\"orientation\":\"h\",\"showlegend\":true,\"textposition\":\"auto\",\"x\":[0],\"xaxis\":\"x\",\"y\":[\"BMW\"],\"yaxis\":\"y\",\"type\":\"bar\"},{\"alignmentgroup\":\"True\",\"hovertemplate\":\"Car Make=%{y}<br>Model Year=2012<br>Number of EVs=%{x}<extra></extra>\",\"legendgroup\":\"VOLVO\",\"marker\":{\"color\":\"#FF97FF\",\"pattern\":{\"shape\":\"\"}},\"name\":\"VOLVO\",\"offsetgroup\":\"VOLVO\",\"orientation\":\"h\",\"showlegend\":true,\"textposition\":\"auto\",\"x\":[0],\"xaxis\":\"x\",\"y\":[\"VOLVO\"],\"yaxis\":\"y\",\"type\":\"bar\"},{\"alignmentgroup\":\"True\",\"hovertemplate\":\"Car Make=%{y}<br>Model Year=2012<br>Number of EVs=%{x}<extra></extra>\",\"legendgroup\":\"VOLKSWAGEN\",\"marker\":{\"color\":\"#FECB52\",\"pattern\":{\"shape\":\"\"}},\"name\":\"VOLKSWAGEN\",\"offsetgroup\":\"VOLKSWAGEN\",\"orientation\":\"h\",\"showlegend\":true,\"textposition\":\"auto\",\"x\":[0],\"xaxis\":\"x\",\"y\":[\"VOLKSWAGEN\"],\"yaxis\":\"y\",\"type\":\"bar\"}],\"name\":\"2012\"},{\"data\":[{\"alignmentgroup\":\"True\",\"hovertemplate\":\"Car Make=%{y}<br>Model Year=2013<br>Number of EVs=%{x}<extra></extra>\",\"legendgroup\":\"TOYOTA\",\"marker\":{\"color\":\"#636efa\",\"pattern\":{\"shape\":\"\"}},\"name\":\"TOYOTA\",\"offsetgroup\":\"TOYOTA\",\"orientation\":\"h\",\"showlegend\":true,\"textposition\":\"auto\",\"x\":[296],\"xaxis\":\"x\",\"y\":[\"TOYOTA\"],\"yaxis\":\"y\",\"type\":\"bar\"},{\"alignmentgroup\":\"True\",\"hovertemplate\":\"Car Make=%{y}<br>Model Year=2013<br>Number of EVs=%{x}<extra></extra>\",\"legendgroup\":\"CHEVROLET\",\"marker\":{\"color\":\"#EF553B\",\"pattern\":{\"shape\":\"\"}},\"name\":\"CHEVROLET\",\"offsetgroup\":\"CHEVROLET\",\"orientation\":\"h\",\"showlegend\":true,\"textposition\":\"auto\",\"x\":[818],\"xaxis\":\"x\",\"y\":[\"CHEVROLET\"],\"yaxis\":\"y\",\"type\":\"bar\"},{\"alignmentgroup\":\"True\",\"hovertemplate\":\"Car Make=%{y}<br>Model Year=2013<br>Number of EVs=%{x}<extra></extra>\",\"legendgroup\":\"NISSAN\",\"marker\":{\"color\":\"#00cc96\",\"pattern\":{\"shape\":\"\"}},\"name\":\"NISSAN\",\"offsetgroup\":\"NISSAN\",\"orientation\":\"h\",\"showlegend\":true,\"textposition\":\"auto\",\"x\":[1966],\"xaxis\":\"x\",\"y\":[\"NISSAN\"],\"yaxis\":\"y\",\"type\":\"bar\"},{\"alignmentgroup\":\"True\",\"hovertemplate\":\"Car Make=%{y}<br>Model Year=2013<br>Number of EVs=%{x}<extra></extra>\",\"legendgroup\":\"FORD\",\"marker\":{\"color\":\"#ab63fa\",\"pattern\":{\"shape\":\"\"}},\"name\":\"FORD\",\"offsetgroup\":\"FORD\",\"orientation\":\"h\",\"showlegend\":true,\"textposition\":\"auto\",\"x\":[662],\"xaxis\":\"x\",\"y\":[\"FORD\"],\"yaxis\":\"y\",\"type\":\"bar\"},{\"alignmentgroup\":\"True\",\"hovertemplate\":\"Car Make=%{y}<br>Model Year=2013<br>Number of EVs=%{x}<extra></extra>\",\"legendgroup\":\"TESLA\",\"marker\":{\"color\":\"#FFA15A\",\"pattern\":{\"shape\":\"\"}},\"name\":\"TESLA\",\"offsetgroup\":\"TESLA\",\"orientation\":\"h\",\"showlegend\":true,\"textposition\":\"auto\",\"x\":[814],\"xaxis\":\"x\",\"y\":[\"TESLA\"],\"yaxis\":\"y\",\"type\":\"bar\"},{\"alignmentgroup\":\"True\",\"hovertemplate\":\"Car Make=%{y}<br>Model Year=2013<br>Number of EVs=%{x}<extra></extra>\",\"legendgroup\":\"KIA\",\"marker\":{\"color\":\"#19d3f3\",\"pattern\":{\"shape\":\"\"}},\"name\":\"KIA\",\"offsetgroup\":\"KIA\",\"orientation\":\"h\",\"showlegend\":true,\"textposition\":\"auto\",\"x\":[0],\"xaxis\":\"x\",\"y\":[\"KIA\"],\"yaxis\":\"y\",\"type\":\"bar\"},{\"alignmentgroup\":\"True\",\"hovertemplate\":\"Car Make=%{y}<br>Model Year=2013<br>Number of EVs=%{x}<extra></extra>\",\"legendgroup\":\"AUDI\",\"marker\":{\"color\":\"#FF6692\",\"pattern\":{\"shape\":\"\"}},\"name\":\"AUDI\",\"offsetgroup\":\"AUDI\",\"orientation\":\"h\",\"showlegend\":true,\"textposition\":\"auto\",\"x\":[0],\"xaxis\":\"x\",\"y\":[\"AUDI\"],\"yaxis\":\"y\",\"type\":\"bar\"},{\"alignmentgroup\":\"True\",\"hovertemplate\":\"Car Make=%{y}<br>Model Year=2013<br>Number of EVs=%{x}<extra></extra>\",\"legendgroup\":\"BMW\",\"marker\":{\"color\":\"#B6E880\",\"pattern\":{\"shape\":\"\"}},\"name\":\"BMW\",\"offsetgroup\":\"BMW\",\"orientation\":\"h\",\"showlegend\":true,\"textposition\":\"auto\",\"x\":[0],\"xaxis\":\"x\",\"y\":[\"BMW\"],\"yaxis\":\"y\",\"type\":\"bar\"},{\"alignmentgroup\":\"True\",\"hovertemplate\":\"Car Make=%{y}<br>Model Year=2013<br>Number of EVs=%{x}<extra></extra>\",\"legendgroup\":\"VOLVO\",\"marker\":{\"color\":\"#FF97FF\",\"pattern\":{\"shape\":\"\"}},\"name\":\"VOLVO\",\"offsetgroup\":\"VOLVO\",\"orientation\":\"h\",\"showlegend\":true,\"textposition\":\"auto\",\"x\":[0],\"xaxis\":\"x\",\"y\":[\"VOLVO\"],\"yaxis\":\"y\",\"type\":\"bar\"},{\"alignmentgroup\":\"True\",\"hovertemplate\":\"Car Make=%{y}<br>Model Year=2013<br>Number of EVs=%{x}<extra></extra>\",\"legendgroup\":\"VOLKSWAGEN\",\"marker\":{\"color\":\"#FECB52\",\"pattern\":{\"shape\":\"\"}},\"name\":\"VOLKSWAGEN\",\"offsetgroup\":\"VOLKSWAGEN\",\"orientation\":\"h\",\"showlegend\":true,\"textposition\":\"auto\",\"x\":[0],\"xaxis\":\"x\",\"y\":[\"VOLKSWAGEN\"],\"yaxis\":\"y\",\"type\":\"bar\"}],\"name\":\"2013\"},{\"data\":[{\"alignmentgroup\":\"True\",\"hovertemplate\":\"Car Make=%{y}<br>Model Year=2014<br>Number of EVs=%{x}<extra></extra>\",\"legendgroup\":\"TOYOTA\",\"marker\":{\"color\":\"#636efa\",\"pattern\":{\"shape\":\"\"}},\"name\":\"TOYOTA\",\"offsetgroup\":\"TOYOTA\",\"orientation\":\"h\",\"showlegend\":true,\"textposition\":\"auto\",\"x\":[215],\"xaxis\":\"x\",\"y\":[\"TOYOTA\"],\"yaxis\":\"y\",\"type\":\"bar\"},{\"alignmentgroup\":\"True\",\"hovertemplate\":\"Car Make=%{y}<br>Model Year=2014<br>Number of EVs=%{x}<extra></extra>\",\"legendgroup\":\"CHEVROLET\",\"marker\":{\"color\":\"#EF553B\",\"pattern\":{\"shape\":\"\"}},\"name\":\"CHEVROLET\",\"offsetgroup\":\"CHEVROLET\",\"orientation\":\"h\",\"showlegend\":true,\"textposition\":\"auto\",\"x\":[724],\"xaxis\":\"x\",\"y\":[\"CHEVROLET\"],\"yaxis\":\"y\",\"type\":\"bar\"},{\"alignmentgroup\":\"True\",\"hovertemplate\":\"Car Make=%{y}<br>Model Year=2014<br>Number of EVs=%{x}<extra></extra>\",\"legendgroup\":\"NISSAN\",\"marker\":{\"color\":\"#00cc96\",\"pattern\":{\"shape\":\"\"}},\"name\":\"NISSAN\",\"offsetgroup\":\"NISSAN\",\"orientation\":\"h\",\"showlegend\":true,\"textposition\":\"auto\",\"x\":[694],\"xaxis\":\"x\",\"y\":[\"NISSAN\"],\"yaxis\":\"y\",\"type\":\"bar\"},{\"alignmentgroup\":\"True\",\"hovertemplate\":\"Car Make=%{y}<br>Model Year=2014<br>Number of EVs=%{x}<extra></extra>\",\"legendgroup\":\"FORD\",\"marker\":{\"color\":\"#ab63fa\",\"pattern\":{\"shape\":\"\"}},\"name\":\"FORD\",\"offsetgroup\":\"FORD\",\"orientation\":\"h\",\"showlegend\":true,\"textposition\":\"auto\",\"x\":[628],\"xaxis\":\"x\",\"y\":[\"FORD\"],\"yaxis\":\"y\",\"type\":\"bar\"},{\"alignmentgroup\":\"True\",\"hovertemplate\":\"Car Make=%{y}<br>Model Year=2014<br>Number of EVs=%{x}<extra></extra>\",\"legendgroup\":\"TESLA\",\"marker\":{\"color\":\"#FFA15A\",\"pattern\":{\"shape\":\"\"}},\"name\":\"TESLA\",\"offsetgroup\":\"TESLA\",\"orientation\":\"h\",\"showlegend\":true,\"textposition\":\"auto\",\"x\":[683],\"xaxis\":\"x\",\"y\":[\"TESLA\"],\"yaxis\":\"y\",\"type\":\"bar\"},{\"alignmentgroup\":\"True\",\"hovertemplate\":\"Car Make=%{y}<br>Model Year=2014<br>Number of EVs=%{x}<extra></extra>\",\"legendgroup\":\"KIA\",\"marker\":{\"color\":\"#19d3f3\",\"pattern\":{\"shape\":\"\"}},\"name\":\"KIA\",\"offsetgroup\":\"KIA\",\"orientation\":\"h\",\"showlegend\":true,\"textposition\":\"auto\",\"x\":[0],\"xaxis\":\"x\",\"y\":[\"KIA\"],\"yaxis\":\"y\",\"type\":\"bar\"},{\"alignmentgroup\":\"True\",\"hovertemplate\":\"Car Make=%{y}<br>Model Year=2014<br>Number of EVs=%{x}<extra></extra>\",\"legendgroup\":\"AUDI\",\"marker\":{\"color\":\"#FF6692\",\"pattern\":{\"shape\":\"\"}},\"name\":\"AUDI\",\"offsetgroup\":\"AUDI\",\"orientation\":\"h\",\"showlegend\":true,\"textposition\":\"auto\",\"x\":[0],\"xaxis\":\"x\",\"y\":[\"AUDI\"],\"yaxis\":\"y\",\"type\":\"bar\"},{\"alignmentgroup\":\"True\",\"hovertemplate\":\"Car Make=%{y}<br>Model Year=2014<br>Number of EVs=%{x}<extra></extra>\",\"legendgroup\":\"BMW\",\"marker\":{\"color\":\"#B6E880\",\"pattern\":{\"shape\":\"\"}},\"name\":\"BMW\",\"offsetgroup\":\"BMW\",\"orientation\":\"h\",\"showlegend\":true,\"textposition\":\"auto\",\"x\":[457],\"xaxis\":\"x\",\"y\":[\"BMW\"],\"yaxis\":\"y\",\"type\":\"bar\"},{\"alignmentgroup\":\"True\",\"hovertemplate\":\"Car Make=%{y}<br>Model Year=2014<br>Number of EVs=%{x}<extra></extra>\",\"legendgroup\":\"VOLVO\",\"marker\":{\"color\":\"#FF97FF\",\"pattern\":{\"shape\":\"\"}},\"name\":\"VOLVO\",\"offsetgroup\":\"VOLVO\",\"orientation\":\"h\",\"showlegend\":true,\"textposition\":\"auto\",\"x\":[0],\"xaxis\":\"x\",\"y\":[\"VOLVO\"],\"yaxis\":\"y\",\"type\":\"bar\"},{\"alignmentgroup\":\"True\",\"hovertemplate\":\"Car Make=%{y}<br>Model Year=2014<br>Number of EVs=%{x}<extra></extra>\",\"legendgroup\":\"VOLKSWAGEN\",\"marker\":{\"color\":\"#FECB52\",\"pattern\":{\"shape\":\"\"}},\"name\":\"VOLKSWAGEN\",\"offsetgroup\":\"VOLKSWAGEN\",\"orientation\":\"h\",\"showlegend\":true,\"textposition\":\"auto\",\"x\":[0],\"xaxis\":\"x\",\"y\":[\"VOLKSWAGEN\"],\"yaxis\":\"y\",\"type\":\"bar\"}],\"name\":\"2014\"},{\"data\":[{\"alignmentgroup\":\"True\",\"hovertemplate\":\"Car Make=%{y}<br>Model Year=2015<br>Number of EVs=%{x}<extra></extra>\",\"legendgroup\":\"TOYOTA\",\"marker\":{\"color\":\"#636efa\",\"pattern\":{\"shape\":\"\"}},\"name\":\"TOYOTA\",\"offsetgroup\":\"TOYOTA\",\"orientation\":\"h\",\"showlegend\":true,\"textposition\":\"auto\",\"x\":[89],\"xaxis\":\"x\",\"y\":[\"TOYOTA\"],\"yaxis\":\"y\",\"type\":\"bar\"},{\"alignmentgroup\":\"True\",\"hovertemplate\":\"Car Make=%{y}<br>Model Year=2015<br>Number of EVs=%{x}<extra></extra>\",\"legendgroup\":\"CHEVROLET\",\"marker\":{\"color\":\"#EF553B\",\"pattern\":{\"shape\":\"\"}},\"name\":\"CHEVROLET\",\"offsetgroup\":\"CHEVROLET\",\"orientation\":\"h\",\"showlegend\":true,\"textposition\":\"auto\",\"x\":[467],\"xaxis\":\"x\",\"y\":[\"CHEVROLET\"],\"yaxis\":\"y\",\"type\":\"bar\"},{\"alignmentgroup\":\"True\",\"hovertemplate\":\"Car Make=%{y}<br>Model Year=2015<br>Number of EVs=%{x}<extra></extra>\",\"legendgroup\":\"NISSAN\",\"marker\":{\"color\":\"#00cc96\",\"pattern\":{\"shape\":\"\"}},\"name\":\"NISSAN\",\"offsetgroup\":\"NISSAN\",\"orientation\":\"h\",\"showlegend\":true,\"textposition\":\"auto\",\"x\":[1839],\"xaxis\":\"x\",\"y\":[\"NISSAN\"],\"yaxis\":\"y\",\"type\":\"bar\"},{\"alignmentgroup\":\"True\",\"hovertemplate\":\"Car Make=%{y}<br>Model Year=2015<br>Number of EVs=%{x}<extra></extra>\",\"legendgroup\":\"FORD\",\"marker\":{\"color\":\"#ab63fa\",\"pattern\":{\"shape\":\"\"}},\"name\":\"FORD\",\"offsetgroup\":\"FORD\",\"orientation\":\"h\",\"showlegend\":true,\"textposition\":\"auto\",\"x\":[556],\"xaxis\":\"x\",\"y\":[\"FORD\"],\"yaxis\":\"y\",\"type\":\"bar\"},{\"alignmentgroup\":\"True\",\"hovertemplate\":\"Car Make=%{y}<br>Model Year=2015<br>Number of EVs=%{x}<extra></extra>\",\"legendgroup\":\"TESLA\",\"marker\":{\"color\":\"#FFA15A\",\"pattern\":{\"shape\":\"\"}},\"name\":\"TESLA\",\"offsetgroup\":\"TESLA\",\"orientation\":\"h\",\"showlegend\":true,\"textposition\":\"auto\",\"x\":[1089],\"xaxis\":\"x\",\"y\":[\"TESLA\"],\"yaxis\":\"y\",\"type\":\"bar\"},{\"alignmentgroup\":\"True\",\"hovertemplate\":\"Car Make=%{y}<br>Model Year=2015<br>Number of EVs=%{x}<extra></extra>\",\"legendgroup\":\"KIA\",\"marker\":{\"color\":\"#19d3f3\",\"pattern\":{\"shape\":\"\"}},\"name\":\"KIA\",\"offsetgroup\":\"KIA\",\"orientation\":\"h\",\"showlegend\":true,\"textposition\":\"auto\",\"x\":[22],\"xaxis\":\"x\",\"y\":[\"KIA\"],\"yaxis\":\"y\",\"type\":\"bar\"},{\"alignmentgroup\":\"True\",\"hovertemplate\":\"Car Make=%{y}<br>Model Year=2015<br>Number of EVs=%{x}<extra></extra>\",\"legendgroup\":\"AUDI\",\"marker\":{\"color\":\"#FF6692\",\"pattern\":{\"shape\":\"\"}},\"name\":\"AUDI\",\"offsetgroup\":\"AUDI\",\"orientation\":\"h\",\"showlegend\":true,\"textposition\":\"auto\",\"x\":[0],\"xaxis\":\"x\",\"y\":[\"AUDI\"],\"yaxis\":\"y\",\"type\":\"bar\"},{\"alignmentgroup\":\"True\",\"hovertemplate\":\"Car Make=%{y}<br>Model Year=2015<br>Number of EVs=%{x}<extra></extra>\",\"legendgroup\":\"BMW\",\"marker\":{\"color\":\"#B6E880\",\"pattern\":{\"shape\":\"\"}},\"name\":\"BMW\",\"offsetgroup\":\"BMW\",\"orientation\":\"h\",\"showlegend\":true,\"textposition\":\"auto\",\"x\":[403],\"xaxis\":\"x\",\"y\":[\"BMW\"],\"yaxis\":\"y\",\"type\":\"bar\"},{\"alignmentgroup\":\"True\",\"hovertemplate\":\"Car Make=%{y}<br>Model Year=2015<br>Number of EVs=%{x}<extra></extra>\",\"legendgroup\":\"VOLVO\",\"marker\":{\"color\":\"#FF97FF\",\"pattern\":{\"shape\":\"\"}},\"name\":\"VOLVO\",\"offsetgroup\":\"VOLVO\",\"orientation\":\"h\",\"showlegend\":true,\"textposition\":\"auto\",\"x\":[0],\"xaxis\":\"x\",\"y\":[\"VOLVO\"],\"yaxis\":\"y\",\"type\":\"bar\"},{\"alignmentgroup\":\"True\",\"hovertemplate\":\"Car Make=%{y}<br>Model Year=2015<br>Number of EVs=%{x}<extra></extra>\",\"legendgroup\":\"VOLKSWAGEN\",\"marker\":{\"color\":\"#FECB52\",\"pattern\":{\"shape\":\"\"}},\"name\":\"VOLKSWAGEN\",\"offsetgroup\":\"VOLKSWAGEN\",\"orientation\":\"h\",\"showlegend\":true,\"textposition\":\"auto\",\"x\":[124],\"xaxis\":\"x\",\"y\":[\"VOLKSWAGEN\"],\"yaxis\":\"y\",\"type\":\"bar\"}],\"name\":\"2015\"},{\"data\":[{\"alignmentgroup\":\"True\",\"hovertemplate\":\"Car Make=%{y}<br>Model Year=2016<br>Number of EVs=%{x}<extra></extra>\",\"legendgroup\":\"TOYOTA\",\"marker\":{\"color\":\"#636efa\",\"pattern\":{\"shape\":\"\"}},\"name\":\"TOYOTA\",\"offsetgroup\":\"TOYOTA\",\"orientation\":\"h\",\"showlegend\":true,\"textposition\":\"auto\",\"x\":[0],\"xaxis\":\"x\",\"y\":[\"TOYOTA\"],\"yaxis\":\"y\",\"type\":\"bar\"},{\"alignmentgroup\":\"True\",\"hovertemplate\":\"Car Make=%{y}<br>Model Year=2016<br>Number of EVs=%{x}<extra></extra>\",\"legendgroup\":\"CHEVROLET\",\"marker\":{\"color\":\"#EF553B\",\"pattern\":{\"shape\":\"\"}},\"name\":\"CHEVROLET\",\"offsetgroup\":\"CHEVROLET\",\"orientation\":\"h\",\"showlegend\":true,\"textposition\":\"auto\",\"x\":[309],\"xaxis\":\"x\",\"y\":[\"CHEVROLET\"],\"yaxis\":\"y\",\"type\":\"bar\"},{\"alignmentgroup\":\"True\",\"hovertemplate\":\"Car Make=%{y}<br>Model Year=2016<br>Number of EVs=%{x}<extra></extra>\",\"legendgroup\":\"NISSAN\",\"marker\":{\"color\":\"#00cc96\",\"pattern\":{\"shape\":\"\"}},\"name\":\"NISSAN\",\"offsetgroup\":\"NISSAN\",\"orientation\":\"h\",\"showlegend\":true,\"textposition\":\"auto\",\"x\":[1208],\"xaxis\":\"x\",\"y\":[\"NISSAN\"],\"yaxis\":\"y\",\"type\":\"bar\"},{\"alignmentgroup\":\"True\",\"hovertemplate\":\"Car Make=%{y}<br>Model Year=2016<br>Number of EVs=%{x}<extra></extra>\",\"legendgroup\":\"FORD\",\"marker\":{\"color\":\"#ab63fa\",\"pattern\":{\"shape\":\"\"}},\"name\":\"FORD\",\"offsetgroup\":\"FORD\",\"orientation\":\"h\",\"showlegend\":true,\"textposition\":\"auto\",\"x\":[778],\"xaxis\":\"x\",\"y\":[\"FORD\"],\"yaxis\":\"y\",\"type\":\"bar\"},{\"alignmentgroup\":\"True\",\"hovertemplate\":\"Car Make=%{y}<br>Model Year=2016<br>Number of EVs=%{x}<extra></extra>\",\"legendgroup\":\"TESLA\",\"marker\":{\"color\":\"#FFA15A\",\"pattern\":{\"shape\":\"\"}},\"name\":\"TESLA\",\"offsetgroup\":\"TESLA\",\"orientation\":\"h\",\"showlegend\":true,\"textposition\":\"auto\",\"x\":[1639],\"xaxis\":\"x\",\"y\":[\"TESLA\"],\"yaxis\":\"y\",\"type\":\"bar\"},{\"alignmentgroup\":\"True\",\"hovertemplate\":\"Car Make=%{y}<br>Model Year=2016<br>Number of EVs=%{x}<extra></extra>\",\"legendgroup\":\"KIA\",\"marker\":{\"color\":\"#19d3f3\",\"pattern\":{\"shape\":\"\"}},\"name\":\"KIA\",\"offsetgroup\":\"KIA\",\"orientation\":\"h\",\"showlegend\":true,\"textposition\":\"auto\",\"x\":[407],\"xaxis\":\"x\",\"y\":[\"KIA\"],\"yaxis\":\"y\",\"type\":\"bar\"},{\"alignmentgroup\":\"True\",\"hovertemplate\":\"Car Make=%{y}<br>Model Year=2016<br>Number of EVs=%{x}<extra></extra>\",\"legendgroup\":\"AUDI\",\"marker\":{\"color\":\"#FF6692\",\"pattern\":{\"shape\":\"\"}},\"name\":\"AUDI\",\"offsetgroup\":\"AUDI\",\"orientation\":\"h\",\"showlegend\":true,\"textposition\":\"auto\",\"x\":[214],\"xaxis\":\"x\",\"y\":[\"AUDI\"],\"yaxis\":\"y\",\"type\":\"bar\"},{\"alignmentgroup\":\"True\",\"hovertemplate\":\"Car Make=%{y}<br>Model Year=2016<br>Number of EVs=%{x}<extra></extra>\",\"legendgroup\":\"BMW\",\"marker\":{\"color\":\"#B6E880\",\"pattern\":{\"shape\":\"\"}},\"name\":\"BMW\",\"offsetgroup\":\"BMW\",\"orientation\":\"h\",\"showlegend\":true,\"textposition\":\"auto\",\"x\":[383],\"xaxis\":\"x\",\"y\":[\"BMW\"],\"yaxis\":\"y\",\"type\":\"bar\"},{\"alignmentgroup\":\"True\",\"hovertemplate\":\"Car Make=%{y}<br>Model Year=2016<br>Number of EVs=%{x}<extra></extra>\",\"legendgroup\":\"VOLVO\",\"marker\":{\"color\":\"#FF97FF\",\"pattern\":{\"shape\":\"\"}},\"name\":\"VOLVO\",\"offsetgroup\":\"VOLVO\",\"orientation\":\"h\",\"showlegend\":true,\"textposition\":\"auto\",\"x\":[112],\"xaxis\":\"x\",\"y\":[\"VOLVO\"],\"yaxis\":\"y\",\"type\":\"bar\"},{\"alignmentgroup\":\"True\",\"hovertemplate\":\"Car Make=%{y}<br>Model Year=2016<br>Number of EVs=%{x}<extra></extra>\",\"legendgroup\":\"VOLKSWAGEN\",\"marker\":{\"color\":\"#FECB52\",\"pattern\":{\"shape\":\"\"}},\"name\":\"VOLKSWAGEN\",\"offsetgroup\":\"VOLKSWAGEN\",\"orientation\":\"h\",\"showlegend\":true,\"textposition\":\"auto\",\"x\":[319],\"xaxis\":\"x\",\"y\":[\"VOLKSWAGEN\"],\"yaxis\":\"y\",\"type\":\"bar\"}],\"name\":\"2016\"},{\"data\":[{\"alignmentgroup\":\"True\",\"hovertemplate\":\"Car Make=%{y}<br>Model Year=2017<br>Number of EVs=%{x}<extra></extra>\",\"legendgroup\":\"TOYOTA\",\"marker\":{\"color\":\"#636efa\",\"pattern\":{\"shape\":\"\"}},\"name\":\"TOYOTA\",\"offsetgroup\":\"TOYOTA\",\"orientation\":\"h\",\"showlegend\":true,\"textposition\":\"auto\",\"x\":[899],\"xaxis\":\"x\",\"y\":[\"TOYOTA\"],\"yaxis\":\"y\",\"type\":\"bar\"},{\"alignmentgroup\":\"True\",\"hovertemplate\":\"Car Make=%{y}<br>Model Year=2017<br>Number of EVs=%{x}<extra></extra>\",\"legendgroup\":\"CHEVROLET\",\"marker\":{\"color\":\"#EF553B\",\"pattern\":{\"shape\":\"\"}},\"name\":\"CHEVROLET\",\"offsetgroup\":\"CHEVROLET\",\"orientation\":\"h\",\"showlegend\":true,\"textposition\":\"auto\",\"x\":[2744],\"xaxis\":\"x\",\"y\":[\"CHEVROLET\"],\"yaxis\":\"y\",\"type\":\"bar\"},{\"alignmentgroup\":\"True\",\"hovertemplate\":\"Car Make=%{y}<br>Model Year=2017<br>Number of EVs=%{x}<extra></extra>\",\"legendgroup\":\"NISSAN\",\"marker\":{\"color\":\"#00cc96\",\"pattern\":{\"shape\":\"\"}},\"name\":\"NISSAN\",\"offsetgroup\":\"NISSAN\",\"orientation\":\"h\",\"showlegend\":true,\"textposition\":\"auto\",\"x\":[934],\"xaxis\":\"x\",\"y\":[\"NISSAN\"],\"yaxis\":\"y\",\"type\":\"bar\"},{\"alignmentgroup\":\"True\",\"hovertemplate\":\"Car Make=%{y}<br>Model Year=2017<br>Number of EVs=%{x}<extra></extra>\",\"legendgroup\":\"FORD\",\"marker\":{\"color\":\"#ab63fa\",\"pattern\":{\"shape\":\"\"}},\"name\":\"FORD\",\"offsetgroup\":\"FORD\",\"orientation\":\"h\",\"showlegend\":true,\"textposition\":\"auto\",\"x\":[659],\"xaxis\":\"x\",\"y\":[\"FORD\"],\"yaxis\":\"y\",\"type\":\"bar\"},{\"alignmentgroup\":\"True\",\"hovertemplate\":\"Car Make=%{y}<br>Model Year=2017<br>Number of EVs=%{x}<extra></extra>\",\"legendgroup\":\"TESLA\",\"marker\":{\"color\":\"#FFA15A\",\"pattern\":{\"shape\":\"\"}},\"name\":\"TESLA\",\"offsetgroup\":\"TESLA\",\"orientation\":\"h\",\"showlegend\":true,\"textposition\":\"auto\",\"x\":[1679],\"xaxis\":\"x\",\"y\":[\"TESLA\"],\"yaxis\":\"y\",\"type\":\"bar\"},{\"alignmentgroup\":\"True\",\"hovertemplate\":\"Car Make=%{y}<br>Model Year=2017<br>Number of EVs=%{x}<extra></extra>\",\"legendgroup\":\"KIA\",\"marker\":{\"color\":\"#19d3f3\",\"pattern\":{\"shape\":\"\"}},\"name\":\"KIA\",\"offsetgroup\":\"KIA\",\"orientation\":\"h\",\"showlegend\":true,\"textposition\":\"auto\",\"x\":[210],\"xaxis\":\"x\",\"y\":[\"KIA\"],\"yaxis\":\"y\",\"type\":\"bar\"},{\"alignmentgroup\":\"True\",\"hovertemplate\":\"Car Make=%{y}<br>Model Year=2017<br>Number of EVs=%{x}<extra></extra>\",\"legendgroup\":\"AUDI\",\"marker\":{\"color\":\"#FF6692\",\"pattern\":{\"shape\":\"\"}},\"name\":\"AUDI\",\"offsetgroup\":\"AUDI\",\"orientation\":\"h\",\"showlegend\":true,\"textposition\":\"auto\",\"x\":[187],\"xaxis\":\"x\",\"y\":[\"AUDI\"],\"yaxis\":\"y\",\"type\":\"bar\"},{\"alignmentgroup\":\"True\",\"hovertemplate\":\"Car Make=%{y}<br>Model Year=2017<br>Number of EVs=%{x}<extra></extra>\",\"legendgroup\":\"BMW\",\"marker\":{\"color\":\"#B6E880\",\"pattern\":{\"shape\":\"\"}},\"name\":\"BMW\",\"offsetgroup\":\"BMW\",\"orientation\":\"h\",\"showlegend\":true,\"textposition\":\"auto\",\"x\":[692],\"xaxis\":\"x\",\"y\":[\"BMW\"],\"yaxis\":\"y\",\"type\":\"bar\"},{\"alignmentgroup\":\"True\",\"hovertemplate\":\"Car Make=%{y}<br>Model Year=2017<br>Number of EVs=%{x}<extra></extra>\",\"legendgroup\":\"VOLVO\",\"marker\":{\"color\":\"#FF97FF\",\"pattern\":{\"shape\":\"\"}},\"name\":\"VOLVO\",\"offsetgroup\":\"VOLVO\",\"orientation\":\"h\",\"showlegend\":true,\"textposition\":\"auto\",\"x\":[115],\"xaxis\":\"x\",\"y\":[\"VOLVO\"],\"yaxis\":\"y\",\"type\":\"bar\"},{\"alignmentgroup\":\"True\",\"hovertemplate\":\"Car Make=%{y}<br>Model Year=2017<br>Number of EVs=%{x}<extra></extra>\",\"legendgroup\":\"VOLKSWAGEN\",\"marker\":{\"color\":\"#FECB52\",\"pattern\":{\"shape\":\"\"}},\"name\":\"VOLKSWAGEN\",\"offsetgroup\":\"VOLKSWAGEN\",\"orientation\":\"h\",\"showlegend\":true,\"textposition\":\"auto\",\"x\":[52],\"xaxis\":\"x\",\"y\":[\"VOLKSWAGEN\"],\"yaxis\":\"y\",\"type\":\"bar\"}],\"name\":\"2017\"},{\"data\":[{\"alignmentgroup\":\"True\",\"hovertemplate\":\"Car Make=%{y}<br>Model Year=2018<br>Number of EVs=%{x}<extra></extra>\",\"legendgroup\":\"TOYOTA\",\"marker\":{\"color\":\"#636efa\",\"pattern\":{\"shape\":\"\"}},\"name\":\"TOYOTA\",\"offsetgroup\":\"TOYOTA\",\"orientation\":\"h\",\"showlegend\":true,\"textposition\":\"auto\",\"x\":[659],\"xaxis\":\"x\",\"y\":[\"TOYOTA\"],\"yaxis\":\"y\",\"type\":\"bar\"},{\"alignmentgroup\":\"True\",\"hovertemplate\":\"Car Make=%{y}<br>Model Year=2018<br>Number of EVs=%{x}<extra></extra>\",\"legendgroup\":\"CHEVROLET\",\"marker\":{\"color\":\"#EF553B\",\"pattern\":{\"shape\":\"\"}},\"name\":\"CHEVROLET\",\"offsetgroup\":\"CHEVROLET\",\"orientation\":\"h\",\"showlegend\":true,\"textposition\":\"auto\",\"x\":[1126],\"xaxis\":\"x\",\"y\":[\"CHEVROLET\"],\"yaxis\":\"y\",\"type\":\"bar\"},{\"alignmentgroup\":\"True\",\"hovertemplate\":\"Car Make=%{y}<br>Model Year=2018<br>Number of EVs=%{x}<extra></extra>\",\"legendgroup\":\"NISSAN\",\"marker\":{\"color\":\"#00cc96\",\"pattern\":{\"shape\":\"\"}},\"name\":\"NISSAN\",\"offsetgroup\":\"NISSAN\",\"orientation\":\"h\",\"showlegend\":true,\"textposition\":\"auto\",\"x\":[1232],\"xaxis\":\"x\",\"y\":[\"NISSAN\"],\"yaxis\":\"y\",\"type\":\"bar\"},{\"alignmentgroup\":\"True\",\"hovertemplate\":\"Car Make=%{y}<br>Model Year=2018<br>Number of EVs=%{x}<extra></extra>\",\"legendgroup\":\"FORD\",\"marker\":{\"color\":\"#ab63fa\",\"pattern\":{\"shape\":\"\"}},\"name\":\"FORD\",\"offsetgroup\":\"FORD\",\"orientation\":\"h\",\"showlegend\":true,\"textposition\":\"auto\",\"x\":[170],\"xaxis\":\"x\",\"y\":[\"FORD\"],\"yaxis\":\"y\",\"type\":\"bar\"},{\"alignmentgroup\":\"True\",\"hovertemplate\":\"Car Make=%{y}<br>Model Year=2018<br>Number of EVs=%{x}<extra></extra>\",\"legendgroup\":\"TESLA\",\"marker\":{\"color\":\"#FFA15A\",\"pattern\":{\"shape\":\"\"}},\"name\":\"TESLA\",\"offsetgroup\":\"TESLA\",\"orientation\":\"h\",\"showlegend\":true,\"textposition\":\"auto\",\"x\":[7919],\"xaxis\":\"x\",\"y\":[\"TESLA\"],\"yaxis\":\"y\",\"type\":\"bar\"},{\"alignmentgroup\":\"True\",\"hovertemplate\":\"Car Make=%{y}<br>Model Year=2018<br>Number of EVs=%{x}<extra></extra>\",\"legendgroup\":\"KIA\",\"marker\":{\"color\":\"#19d3f3\",\"pattern\":{\"shape\":\"\"}},\"name\":\"KIA\",\"offsetgroup\":\"KIA\",\"orientation\":\"h\",\"showlegend\":true,\"textposition\":\"auto\",\"x\":[322],\"xaxis\":\"x\",\"y\":[\"KIA\"],\"yaxis\":\"y\",\"type\":\"bar\"},{\"alignmentgroup\":\"True\",\"hovertemplate\":\"Car Make=%{y}<br>Model Year=2018<br>Number of EVs=%{x}<extra></extra>\",\"legendgroup\":\"AUDI\",\"marker\":{\"color\":\"#FF6692\",\"pattern\":{\"shape\":\"\"}},\"name\":\"AUDI\",\"offsetgroup\":\"AUDI\",\"orientation\":\"h\",\"showlegend\":true,\"textposition\":\"auto\",\"x\":[174],\"xaxis\":\"x\",\"y\":[\"AUDI\"],\"yaxis\":\"y\",\"type\":\"bar\"},{\"alignmentgroup\":\"True\",\"hovertemplate\":\"Car Make=%{y}<br>Model Year=2018<br>Number of EVs=%{x}<extra></extra>\",\"legendgroup\":\"BMW\",\"marker\":{\"color\":\"#B6E880\",\"pattern\":{\"shape\":\"\"}},\"name\":\"BMW\",\"offsetgroup\":\"BMW\",\"orientation\":\"h\",\"showlegend\":true,\"textposition\":\"auto\",\"x\":[710],\"xaxis\":\"x\",\"y\":[\"BMW\"],\"yaxis\":\"y\",\"type\":\"bar\"},{\"alignmentgroup\":\"True\",\"hovertemplate\":\"Car Make=%{y}<br>Model Year=2018<br>Number of EVs=%{x}<extra></extra>\",\"legendgroup\":\"VOLVO\",\"marker\":{\"color\":\"#FF97FF\",\"pattern\":{\"shape\":\"\"}},\"name\":\"VOLVO\",\"offsetgroup\":\"VOLVO\",\"orientation\":\"h\",\"showlegend\":true,\"textposition\":\"auto\",\"x\":[226],\"xaxis\":\"x\",\"y\":[\"VOLVO\"],\"yaxis\":\"y\",\"type\":\"bar\"},{\"alignmentgroup\":\"True\",\"hovertemplate\":\"Car Make=%{y}<br>Model Year=2018<br>Number of EVs=%{x}<extra></extra>\",\"legendgroup\":\"VOLKSWAGEN\",\"marker\":{\"color\":\"#FECB52\",\"pattern\":{\"shape\":\"\"}},\"name\":\"VOLKSWAGEN\",\"offsetgroup\":\"VOLKSWAGEN\",\"orientation\":\"h\",\"showlegend\":true,\"textposition\":\"auto\",\"x\":[39],\"xaxis\":\"x\",\"y\":[\"VOLKSWAGEN\"],\"yaxis\":\"y\",\"type\":\"bar\"}],\"name\":\"2018\"},{\"data\":[{\"alignmentgroup\":\"True\",\"hovertemplate\":\"Car Make=%{y}<br>Model Year=2019<br>Number of EVs=%{x}<extra></extra>\",\"legendgroup\":\"TOYOTA\",\"marker\":{\"color\":\"#636efa\",\"pattern\":{\"shape\":\"\"}},\"name\":\"TOYOTA\",\"offsetgroup\":\"TOYOTA\",\"orientation\":\"h\",\"showlegend\":true,\"textposition\":\"auto\",\"x\":[190],\"xaxis\":\"x\",\"y\":[\"TOYOTA\"],\"yaxis\":\"y\",\"type\":\"bar\"},{\"alignmentgroup\":\"True\",\"hovertemplate\":\"Car Make=%{y}<br>Model Year=2019<br>Number of EVs=%{x}<extra></extra>\",\"legendgroup\":\"CHEVROLET\",\"marker\":{\"color\":\"#EF553B\",\"pattern\":{\"shape\":\"\"}},\"name\":\"CHEVROLET\",\"offsetgroup\":\"CHEVROLET\",\"orientation\":\"h\",\"showlegend\":true,\"textposition\":\"auto\",\"x\":[966],\"xaxis\":\"x\",\"y\":[\"CHEVROLET\"],\"yaxis\":\"y\",\"type\":\"bar\"},{\"alignmentgroup\":\"True\",\"hovertemplate\":\"Car Make=%{y}<br>Model Year=2019<br>Number of EVs=%{x}<extra></extra>\",\"legendgroup\":\"NISSAN\",\"marker\":{\"color\":\"#00cc96\",\"pattern\":{\"shape\":\"\"}},\"name\":\"NISSAN\",\"offsetgroup\":\"NISSAN\",\"orientation\":\"h\",\"showlegend\":true,\"textposition\":\"auto\",\"x\":[1409],\"xaxis\":\"x\",\"y\":[\"NISSAN\"],\"yaxis\":\"y\",\"type\":\"bar\"},{\"alignmentgroup\":\"True\",\"hovertemplate\":\"Car Make=%{y}<br>Model Year=2019<br>Number of EVs=%{x}<extra></extra>\",\"legendgroup\":\"FORD\",\"marker\":{\"color\":\"#ab63fa\",\"pattern\":{\"shape\":\"\"}},\"name\":\"FORD\",\"offsetgroup\":\"FORD\",\"orientation\":\"h\",\"showlegend\":true,\"textposition\":\"auto\",\"x\":[136],\"xaxis\":\"x\",\"y\":[\"FORD\"],\"yaxis\":\"y\",\"type\":\"bar\"},{\"alignmentgroup\":\"True\",\"hovertemplate\":\"Car Make=%{y}<br>Model Year=2019<br>Number of EVs=%{x}<extra></extra>\",\"legendgroup\":\"TESLA\",\"marker\":{\"color\":\"#FFA15A\",\"pattern\":{\"shape\":\"\"}},\"name\":\"TESLA\",\"offsetgroup\":\"TESLA\",\"orientation\":\"h\",\"showlegend\":true,\"textposition\":\"auto\",\"x\":[4583],\"xaxis\":\"x\",\"y\":[\"TESLA\"],\"yaxis\":\"y\",\"type\":\"bar\"},{\"alignmentgroup\":\"True\",\"hovertemplate\":\"Car Make=%{y}<br>Model Year=2019<br>Number of EVs=%{x}<extra></extra>\",\"legendgroup\":\"KIA\",\"marker\":{\"color\":\"#19d3f3\",\"pattern\":{\"shape\":\"\"}},\"name\":\"KIA\",\"offsetgroup\":\"KIA\",\"orientation\":\"h\",\"showlegend\":true,\"textposition\":\"auto\",\"x\":[681],\"xaxis\":\"x\",\"y\":[\"KIA\"],\"yaxis\":\"y\",\"type\":\"bar\"},{\"alignmentgroup\":\"True\",\"hovertemplate\":\"Car Make=%{y}<br>Model Year=2019<br>Number of EVs=%{x}<extra></extra>\",\"legendgroup\":\"AUDI\",\"marker\":{\"color\":\"#FF6692\",\"pattern\":{\"shape\":\"\"}},\"name\":\"AUDI\",\"offsetgroup\":\"AUDI\",\"orientation\":\"h\",\"showlegend\":true,\"textposition\":\"auto\",\"x\":[392],\"xaxis\":\"x\",\"y\":[\"AUDI\"],\"yaxis\":\"y\",\"type\":\"bar\"},{\"alignmentgroup\":\"True\",\"hovertemplate\":\"Car Make=%{y}<br>Model Year=2019<br>Number of EVs=%{x}<extra></extra>\",\"legendgroup\":\"BMW\",\"marker\":{\"color\":\"#B6E880\",\"pattern\":{\"shape\":\"\"}},\"name\":\"BMW\",\"offsetgroup\":\"BMW\",\"orientation\":\"h\",\"showlegend\":true,\"textposition\":\"auto\",\"x\":[279],\"xaxis\":\"x\",\"y\":[\"BMW\"],\"yaxis\":\"y\",\"type\":\"bar\"},{\"alignmentgroup\":\"True\",\"hovertemplate\":\"Car Make=%{y}<br>Model Year=2019<br>Number of EVs=%{x}<extra></extra>\",\"legendgroup\":\"VOLVO\",\"marker\":{\"color\":\"#FF97FF\",\"pattern\":{\"shape\":\"\"}},\"name\":\"VOLVO\",\"offsetgroup\":\"VOLVO\",\"orientation\":\"h\",\"showlegend\":true,\"textposition\":\"auto\",\"x\":[190],\"xaxis\":\"x\",\"y\":[\"VOLVO\"],\"yaxis\":\"y\",\"type\":\"bar\"},{\"alignmentgroup\":\"True\",\"hovertemplate\":\"Car Make=%{y}<br>Model Year=2019<br>Number of EVs=%{x}<extra></extra>\",\"legendgroup\":\"VOLKSWAGEN\",\"marker\":{\"color\":\"#FECB52\",\"pattern\":{\"shape\":\"\"}},\"name\":\"VOLKSWAGEN\",\"offsetgroup\":\"VOLKSWAGEN\",\"orientation\":\"h\",\"showlegend\":true,\"textposition\":\"auto\",\"x\":[495],\"xaxis\":\"x\",\"y\":[\"VOLKSWAGEN\"],\"yaxis\":\"y\",\"type\":\"bar\"}],\"name\":\"2019\"},{\"data\":[{\"alignmentgroup\":\"True\",\"hovertemplate\":\"Car Make=%{y}<br>Model Year=2020<br>Number of EVs=%{x}<extra></extra>\",\"legendgroup\":\"TOYOTA\",\"marker\":{\"color\":\"#636efa\",\"pattern\":{\"shape\":\"\"}},\"name\":\"TOYOTA\",\"offsetgroup\":\"TOYOTA\",\"orientation\":\"h\",\"showlegend\":true,\"textposition\":\"auto\",\"x\":[311],\"xaxis\":\"x\",\"y\":[\"TOYOTA\"],\"yaxis\":\"y\",\"type\":\"bar\"},{\"alignmentgroup\":\"True\",\"hovertemplate\":\"Car Make=%{y}<br>Model Year=2020<br>Number of EVs=%{x}<extra></extra>\",\"legendgroup\":\"CHEVROLET\",\"marker\":{\"color\":\"#EF553B\",\"pattern\":{\"shape\":\"\"}},\"name\":\"CHEVROLET\",\"offsetgroup\":\"CHEVROLET\",\"orientation\":\"h\",\"showlegend\":true,\"textposition\":\"auto\",\"x\":[1014],\"xaxis\":\"x\",\"y\":[\"CHEVROLET\"],\"yaxis\":\"y\",\"type\":\"bar\"},{\"alignmentgroup\":\"True\",\"hovertemplate\":\"Car Make=%{y}<br>Model Year=2020<br>Number of EVs=%{x}<extra></extra>\",\"legendgroup\":\"NISSAN\",\"marker\":{\"color\":\"#00cc96\",\"pattern\":{\"shape\":\"\"}},\"name\":\"NISSAN\",\"offsetgroup\":\"NISSAN\",\"orientation\":\"h\",\"showlegend\":true,\"textposition\":\"auto\",\"x\":[580],\"xaxis\":\"x\",\"y\":[\"NISSAN\"],\"yaxis\":\"y\",\"type\":\"bar\"},{\"alignmentgroup\":\"True\",\"hovertemplate\":\"Car Make=%{y}<br>Model Year=2020<br>Number of EVs=%{x}<extra></extra>\",\"legendgroup\":\"FORD\",\"marker\":{\"color\":\"#ab63fa\",\"pattern\":{\"shape\":\"\"}},\"name\":\"FORD\",\"offsetgroup\":\"FORD\",\"orientation\":\"h\",\"showlegend\":true,\"textposition\":\"auto\",\"x\":[65],\"xaxis\":\"x\",\"y\":[\"FORD\"],\"yaxis\":\"y\",\"type\":\"bar\"},{\"alignmentgroup\":\"True\",\"hovertemplate\":\"Car Make=%{y}<br>Model Year=2020<br>Number of EVs=%{x}<extra></extra>\",\"legendgroup\":\"TESLA\",\"marker\":{\"color\":\"#FFA15A\",\"pattern\":{\"shape\":\"\"}},\"name\":\"TESLA\",\"offsetgroup\":\"TESLA\",\"orientation\":\"h\",\"showlegend\":true,\"textposition\":\"auto\",\"x\":[7018],\"xaxis\":\"x\",\"y\":[\"TESLA\"],\"yaxis\":\"y\",\"type\":\"bar\"},{\"alignmentgroup\":\"True\",\"hovertemplate\":\"Car Make=%{y}<br>Model Year=2020<br>Number of EVs=%{x}<extra></extra>\",\"legendgroup\":\"KIA\",\"marker\":{\"color\":\"#19d3f3\",\"pattern\":{\"shape\":\"\"}},\"name\":\"KIA\",\"offsetgroup\":\"KIA\",\"orientation\":\"h\",\"showlegend\":true,\"textposition\":\"auto\",\"x\":[535],\"xaxis\":\"x\",\"y\":[\"KIA\"],\"yaxis\":\"y\",\"type\":\"bar\"},{\"alignmentgroup\":\"True\",\"hovertemplate\":\"Car Make=%{y}<br>Model Year=2020<br>Number of EVs=%{x}<extra></extra>\",\"legendgroup\":\"AUDI\",\"marker\":{\"color\":\"#FF6692\",\"pattern\":{\"shape\":\"\"}},\"name\":\"AUDI\",\"offsetgroup\":\"AUDI\",\"orientation\":\"h\",\"showlegend\":true,\"textposition\":\"auto\",\"x\":[224],\"xaxis\":\"x\",\"y\":[\"AUDI\"],\"yaxis\":\"y\",\"type\":\"bar\"},{\"alignmentgroup\":\"True\",\"hovertemplate\":\"Car Make=%{y}<br>Model Year=2020<br>Number of EVs=%{x}<extra></extra>\",\"legendgroup\":\"BMW\",\"marker\":{\"color\":\"#B6E880\",\"pattern\":{\"shape\":\"\"}},\"name\":\"BMW\",\"offsetgroup\":\"BMW\",\"orientation\":\"h\",\"showlegend\":true,\"textposition\":\"auto\",\"x\":[143],\"xaxis\":\"x\",\"y\":[\"BMW\"],\"yaxis\":\"y\",\"type\":\"bar\"},{\"alignmentgroup\":\"True\",\"hovertemplate\":\"Car Make=%{y}<br>Model Year=2020<br>Number of EVs=%{x}<extra></extra>\",\"legendgroup\":\"VOLVO\",\"marker\":{\"color\":\"#FF97FF\",\"pattern\":{\"shape\":\"\"}},\"name\":\"VOLVO\",\"offsetgroup\":\"VOLVO\",\"orientation\":\"h\",\"showlegend\":true,\"textposition\":\"auto\",\"x\":[162],\"xaxis\":\"x\",\"y\":[\"VOLVO\"],\"yaxis\":\"y\",\"type\":\"bar\"},{\"alignmentgroup\":\"True\",\"hovertemplate\":\"Car Make=%{y}<br>Model Year=2020<br>Number of EVs=%{x}<extra></extra>\",\"legendgroup\":\"VOLKSWAGEN\",\"marker\":{\"color\":\"#FECB52\",\"pattern\":{\"shape\":\"\"}},\"name\":\"VOLKSWAGEN\",\"offsetgroup\":\"VOLKSWAGEN\",\"orientation\":\"h\",\"showlegend\":true,\"textposition\":\"auto\",\"x\":[0],\"xaxis\":\"x\",\"y\":[\"VOLKSWAGEN\"],\"yaxis\":\"y\",\"type\":\"bar\"}],\"name\":\"2020\"},{\"data\":[{\"alignmentgroup\":\"True\",\"hovertemplate\":\"Car Make=%{y}<br>Model Year=2021<br>Number of EVs=%{x}<extra></extra>\",\"legendgroup\":\"TOYOTA\",\"marker\":{\"color\":\"#636efa\",\"pattern\":{\"shape\":\"\"}},\"name\":\"TOYOTA\",\"offsetgroup\":\"TOYOTA\",\"orientation\":\"h\",\"showlegend\":true,\"textposition\":\"auto\",\"x\":[935],\"xaxis\":\"x\",\"y\":[\"TOYOTA\"],\"yaxis\":\"y\",\"type\":\"bar\"},{\"alignmentgroup\":\"True\",\"hovertemplate\":\"Car Make=%{y}<br>Model Year=2021<br>Number of EVs=%{x}<extra></extra>\",\"legendgroup\":\"CHEVROLET\",\"marker\":{\"color\":\"#EF553B\",\"pattern\":{\"shape\":\"\"}},\"name\":\"CHEVROLET\",\"offsetgroup\":\"CHEVROLET\",\"orientation\":\"h\",\"showlegend\":true,\"textposition\":\"auto\",\"x\":[377],\"xaxis\":\"x\",\"y\":[\"CHEVROLET\"],\"yaxis\":\"y\",\"type\":\"bar\"},{\"alignmentgroup\":\"True\",\"hovertemplate\":\"Car Make=%{y}<br>Model Year=2021<br>Number of EVs=%{x}<extra></extra>\",\"legendgroup\":\"NISSAN\",\"marker\":{\"color\":\"#00cc96\",\"pattern\":{\"shape\":\"\"}},\"name\":\"NISSAN\",\"offsetgroup\":\"NISSAN\",\"orientation\":\"h\",\"showlegend\":true,\"textposition\":\"auto\",\"x\":[534],\"xaxis\":\"x\",\"y\":[\"NISSAN\"],\"yaxis\":\"y\",\"type\":\"bar\"},{\"alignmentgroup\":\"True\",\"hovertemplate\":\"Car Make=%{y}<br>Model Year=2021<br>Number of EVs=%{x}<extra></extra>\",\"legendgroup\":\"FORD\",\"marker\":{\"color\":\"#ab63fa\",\"pattern\":{\"shape\":\"\"}},\"name\":\"FORD\",\"offsetgroup\":\"FORD\",\"orientation\":\"h\",\"showlegend\":true,\"textposition\":\"auto\",\"x\":[882],\"xaxis\":\"x\",\"y\":[\"FORD\"],\"yaxis\":\"y\",\"type\":\"bar\"},{\"alignmentgroup\":\"True\",\"hovertemplate\":\"Car Make=%{y}<br>Model Year=2021<br>Number of EVs=%{x}<extra></extra>\",\"legendgroup\":\"TESLA\",\"marker\":{\"color\":\"#FFA15A\",\"pattern\":{\"shape\":\"\"}},\"name\":\"TESLA\",\"offsetgroup\":\"TESLA\",\"orientation\":\"h\",\"showlegend\":true,\"textposition\":\"auto\",\"x\":[11028],\"xaxis\":\"x\",\"y\":[\"TESLA\"],\"yaxis\":\"y\",\"type\":\"bar\"},{\"alignmentgroup\":\"True\",\"hovertemplate\":\"Car Make=%{y}<br>Model Year=2021<br>Number of EVs=%{x}<extra></extra>\",\"legendgroup\":\"KIA\",\"marker\":{\"color\":\"#19d3f3\",\"pattern\":{\"shape\":\"\"}},\"name\":\"KIA\",\"offsetgroup\":\"KIA\",\"orientation\":\"h\",\"showlegend\":true,\"textposition\":\"auto\",\"x\":[74],\"xaxis\":\"x\",\"y\":[\"KIA\"],\"yaxis\":\"y\",\"type\":\"bar\"},{\"alignmentgroup\":\"True\",\"hovertemplate\":\"Car Make=%{y}<br>Model Year=2021<br>Number of EVs=%{x}<extra></extra>\",\"legendgroup\":\"AUDI\",\"marker\":{\"color\":\"#FF6692\",\"pattern\":{\"shape\":\"\"}},\"name\":\"AUDI\",\"offsetgroup\":\"AUDI\",\"orientation\":\"h\",\"showlegend\":true,\"textposition\":\"auto\",\"x\":[544],\"xaxis\":\"x\",\"y\":[\"AUDI\"],\"yaxis\":\"y\",\"type\":\"bar\"},{\"alignmentgroup\":\"True\",\"hovertemplate\":\"Car Make=%{y}<br>Model Year=2021<br>Number of EVs=%{x}<extra></extra>\",\"legendgroup\":\"BMW\",\"marker\":{\"color\":\"#B6E880\",\"pattern\":{\"shape\":\"\"}},\"name\":\"BMW\",\"offsetgroup\":\"BMW\",\"orientation\":\"h\",\"showlegend\":true,\"textposition\":\"auto\",\"x\":[635],\"xaxis\":\"x\",\"y\":[\"BMW\"],\"yaxis\":\"y\",\"type\":\"bar\"},{\"alignmentgroup\":\"True\",\"hovertemplate\":\"Car Make=%{y}<br>Model Year=2021<br>Number of EVs=%{x}<extra></extra>\",\"legendgroup\":\"VOLVO\",\"marker\":{\"color\":\"#FF97FF\",\"pattern\":{\"shape\":\"\"}},\"name\":\"VOLVO\",\"offsetgroup\":\"VOLVO\",\"orientation\":\"h\",\"showlegend\":true,\"textposition\":\"auto\",\"x\":[580],\"xaxis\":\"x\",\"y\":[\"VOLVO\"],\"yaxis\":\"y\",\"type\":\"bar\"},{\"alignmentgroup\":\"True\",\"hovertemplate\":\"Car Make=%{y}<br>Model Year=2021<br>Number of EVs=%{x}<extra></extra>\",\"legendgroup\":\"VOLKSWAGEN\",\"marker\":{\"color\":\"#FECB52\",\"pattern\":{\"shape\":\"\"}},\"name\":\"VOLKSWAGEN\",\"offsetgroup\":\"VOLKSWAGEN\",\"orientation\":\"h\",\"showlegend\":true,\"textposition\":\"auto\",\"x\":[988],\"xaxis\":\"x\",\"y\":[\"VOLKSWAGEN\"],\"yaxis\":\"y\",\"type\":\"bar\"}],\"name\":\"2021\"},{\"data\":[{\"alignmentgroup\":\"True\",\"hovertemplate\":\"Car Make=%{y}<br>Model Year=2022<br>Number of EVs=%{x}<extra></extra>\",\"legendgroup\":\"TOYOTA\",\"marker\":{\"color\":\"#636efa\",\"pattern\":{\"shape\":\"\"}},\"name\":\"TOYOTA\",\"offsetgroup\":\"TOYOTA\",\"orientation\":\"h\",\"showlegend\":true,\"textposition\":\"auto\",\"x\":[424],\"xaxis\":\"x\",\"y\":[\"TOYOTA\"],\"yaxis\":\"y\",\"type\":\"bar\"},{\"alignmentgroup\":\"True\",\"hovertemplate\":\"Car Make=%{y}<br>Model Year=2022<br>Number of EVs=%{x}<extra></extra>\",\"legendgroup\":\"CHEVROLET\",\"marker\":{\"color\":\"#EF553B\",\"pattern\":{\"shape\":\"\"}},\"name\":\"CHEVROLET\",\"offsetgroup\":\"CHEVROLET\",\"orientation\":\"h\",\"showlegend\":true,\"textposition\":\"auto\",\"x\":[892],\"xaxis\":\"x\",\"y\":[\"CHEVROLET\"],\"yaxis\":\"y\",\"type\":\"bar\"},{\"alignmentgroup\":\"True\",\"hovertemplate\":\"Car Make=%{y}<br>Model Year=2022<br>Number of EVs=%{x}<extra></extra>\",\"legendgroup\":\"NISSAN\",\"marker\":{\"color\":\"#00cc96\",\"pattern\":{\"shape\":\"\"}},\"name\":\"NISSAN\",\"offsetgroup\":\"NISSAN\",\"orientation\":\"h\",\"showlegend\":true,\"textposition\":\"auto\",\"x\":[970],\"xaxis\":\"x\",\"y\":[\"NISSAN\"],\"yaxis\":\"y\",\"type\":\"bar\"},{\"alignmentgroup\":\"True\",\"hovertemplate\":\"Car Make=%{y}<br>Model Year=2022<br>Number of EVs=%{x}<extra></extra>\",\"legendgroup\":\"FORD\",\"marker\":{\"color\":\"#ab63fa\",\"pattern\":{\"shape\":\"\"}},\"name\":\"FORD\",\"offsetgroup\":\"FORD\",\"orientation\":\"h\",\"showlegend\":true,\"textposition\":\"auto\",\"x\":[1250],\"xaxis\":\"x\",\"y\":[\"FORD\"],\"yaxis\":\"y\",\"type\":\"bar\"},{\"alignmentgroup\":\"True\",\"hovertemplate\":\"Car Make=%{y}<br>Model Year=2022<br>Number of EVs=%{x}<extra></extra>\",\"legendgroup\":\"TESLA\",\"marker\":{\"color\":\"#FFA15A\",\"pattern\":{\"shape\":\"\"}},\"name\":\"TESLA\",\"offsetgroup\":\"TESLA\",\"orientation\":\"h\",\"showlegend\":true,\"textposition\":\"auto\",\"x\":[14548],\"xaxis\":\"x\",\"y\":[\"TESLA\"],\"yaxis\":\"y\",\"type\":\"bar\"},{\"alignmentgroup\":\"True\",\"hovertemplate\":\"Car Make=%{y}<br>Model Year=2022<br>Number of EVs=%{x}<extra></extra>\",\"legendgroup\":\"KIA\",\"marker\":{\"color\":\"#19d3f3\",\"pattern\":{\"shape\":\"\"}},\"name\":\"KIA\",\"offsetgroup\":\"KIA\",\"orientation\":\"h\",\"showlegend\":true,\"textposition\":\"auto\",\"x\":[2153],\"xaxis\":\"x\",\"y\":[\"KIA\"],\"yaxis\":\"y\",\"type\":\"bar\"},{\"alignmentgroup\":\"True\",\"hovertemplate\":\"Car Make=%{y}<br>Model Year=2022<br>Number of EVs=%{x}<extra></extra>\",\"legendgroup\":\"AUDI\",\"marker\":{\"color\":\"#FF6692\",\"pattern\":{\"shape\":\"\"}},\"name\":\"AUDI\",\"offsetgroup\":\"AUDI\",\"orientation\":\"h\",\"showlegend\":true,\"textposition\":\"auto\",\"x\":[585],\"xaxis\":\"x\",\"y\":[\"AUDI\"],\"yaxis\":\"y\",\"type\":\"bar\"},{\"alignmentgroup\":\"True\",\"hovertemplate\":\"Car Make=%{y}<br>Model Year=2022<br>Number of EVs=%{x}<extra></extra>\",\"legendgroup\":\"BMW\",\"marker\":{\"color\":\"#B6E880\",\"pattern\":{\"shape\":\"\"}},\"name\":\"BMW\",\"offsetgroup\":\"BMW\",\"orientation\":\"h\",\"showlegend\":true,\"textposition\":\"auto\",\"x\":[905],\"xaxis\":\"x\",\"y\":[\"BMW\"],\"yaxis\":\"y\",\"type\":\"bar\"},{\"alignmentgroup\":\"True\",\"hovertemplate\":\"Car Make=%{y}<br>Model Year=2022<br>Number of EVs=%{x}<extra></extra>\",\"legendgroup\":\"VOLVO\",\"marker\":{\"color\":\"#FF97FF\",\"pattern\":{\"shape\":\"\"}},\"name\":\"VOLVO\",\"offsetgroup\":\"VOLVO\",\"orientation\":\"h\",\"showlegend\":true,\"textposition\":\"auto\",\"x\":[882],\"xaxis\":\"x\",\"y\":[\"VOLVO\"],\"yaxis\":\"y\",\"type\":\"bar\"},{\"alignmentgroup\":\"True\",\"hovertemplate\":\"Car Make=%{y}<br>Model Year=2022<br>Number of EVs=%{x}<extra></extra>\",\"legendgroup\":\"VOLKSWAGEN\",\"marker\":{\"color\":\"#FECB52\",\"pattern\":{\"shape\":\"\"}},\"name\":\"VOLKSWAGEN\",\"offsetgroup\":\"VOLKSWAGEN\",\"orientation\":\"h\",\"showlegend\":true,\"textposition\":\"auto\",\"x\":[428],\"xaxis\":\"x\",\"y\":[\"VOLKSWAGEN\"],\"yaxis\":\"y\",\"type\":\"bar\"}],\"name\":\"2022\"},{\"data\":[{\"alignmentgroup\":\"True\",\"hovertemplate\":\"Car Make=%{y}<br>Model Year=2023<br>Number of EVs=%{x}<extra></extra>\",\"legendgroup\":\"TOYOTA\",\"marker\":{\"color\":\"#636efa\",\"pattern\":{\"shape\":\"\"}},\"name\":\"TOYOTA\",\"offsetgroup\":\"TOYOTA\",\"orientation\":\"h\",\"showlegend\":true,\"textposition\":\"auto\",\"x\":[0],\"xaxis\":\"x\",\"y\":[\"TOYOTA\"],\"yaxis\":\"y\",\"type\":\"bar\"},{\"alignmentgroup\":\"True\",\"hovertemplate\":\"Car Make=%{y}<br>Model Year=2023<br>Number of EVs=%{x}<extra></extra>\",\"legendgroup\":\"CHEVROLET\",\"marker\":{\"color\":\"#EF553B\",\"pattern\":{\"shape\":\"\"}},\"name\":\"CHEVROLET\",\"offsetgroup\":\"CHEVROLET\",\"orientation\":\"h\",\"showlegend\":true,\"textposition\":\"auto\",\"x\":[177],\"xaxis\":\"x\",\"y\":[\"CHEVROLET\"],\"yaxis\":\"y\",\"type\":\"bar\"},{\"alignmentgroup\":\"True\",\"hovertemplate\":\"Car Make=%{y}<br>Model Year=2023<br>Number of EVs=%{x}<extra></extra>\",\"legendgroup\":\"NISSAN\",\"marker\":{\"color\":\"#00cc96\",\"pattern\":{\"shape\":\"\"}},\"name\":\"NISSAN\",\"offsetgroup\":\"NISSAN\",\"orientation\":\"h\",\"showlegend\":true,\"textposition\":\"auto\",\"x\":[149],\"xaxis\":\"x\",\"y\":[\"NISSAN\"],\"yaxis\":\"y\",\"type\":\"bar\"},{\"alignmentgroup\":\"True\",\"hovertemplate\":\"Car Make=%{y}<br>Model Year=2023<br>Number of EVs=%{x}<extra></extra>\",\"legendgroup\":\"FORD\",\"marker\":{\"color\":\"#ab63fa\",\"pattern\":{\"shape\":\"\"}},\"name\":\"FORD\",\"offsetgroup\":\"FORD\",\"orientation\":\"h\",\"showlegend\":true,\"textposition\":\"auto\",\"x\":[4],\"xaxis\":\"x\",\"y\":[\"FORD\"],\"yaxis\":\"y\",\"type\":\"bar\"},{\"alignmentgroup\":\"True\",\"hovertemplate\":\"Car Make=%{y}<br>Model Year=2023<br>Number of EVs=%{x}<extra></extra>\",\"legendgroup\":\"TESLA\",\"marker\":{\"color\":\"#FFA15A\",\"pattern\":{\"shape\":\"\"}},\"name\":\"TESLA\",\"offsetgroup\":\"TESLA\",\"orientation\":\"h\",\"showlegend\":true,\"textposition\":\"auto\",\"x\":[890],\"xaxis\":\"x\",\"y\":[\"TESLA\"],\"yaxis\":\"y\",\"type\":\"bar\"},{\"alignmentgroup\":\"True\",\"hovertemplate\":\"Car Make=%{y}<br>Model Year=2023<br>Number of EVs=%{x}<extra></extra>\",\"legendgroup\":\"KIA\",\"marker\":{\"color\":\"#19d3f3\",\"pattern\":{\"shape\":\"\"}},\"name\":\"KIA\",\"offsetgroup\":\"KIA\",\"orientation\":\"h\",\"showlegend\":true,\"textposition\":\"auto\",\"x\":[79],\"xaxis\":\"x\",\"y\":[\"KIA\"],\"yaxis\":\"y\",\"type\":\"bar\"},{\"alignmentgroup\":\"True\",\"hovertemplate\":\"Car Make=%{y}<br>Model Year=2023<br>Number of EVs=%{x}<extra></extra>\",\"legendgroup\":\"AUDI\",\"marker\":{\"color\":\"#FF6692\",\"pattern\":{\"shape\":\"\"}},\"name\":\"AUDI\",\"offsetgroup\":\"AUDI\",\"orientation\":\"h\",\"showlegend\":true,\"textposition\":\"auto\",\"x\":[12],\"xaxis\":\"x\",\"y\":[\"AUDI\"],\"yaxis\":\"y\",\"type\":\"bar\"},{\"alignmentgroup\":\"True\",\"hovertemplate\":\"Car Make=%{y}<br>Model Year=2023<br>Number of EVs=%{x}<extra></extra>\",\"legendgroup\":\"BMW\",\"marker\":{\"color\":\"#B6E880\",\"pattern\":{\"shape\":\"\"}},\"name\":\"BMW\",\"offsetgroup\":\"BMW\",\"orientation\":\"h\",\"showlegend\":true,\"textposition\":\"auto\",\"x\":[73],\"xaxis\":\"x\",\"y\":[\"BMW\"],\"yaxis\":\"y\",\"type\":\"bar\"},{\"alignmentgroup\":\"True\",\"hovertemplate\":\"Car Make=%{y}<br>Model Year=2023<br>Number of EVs=%{x}<extra></extra>\",\"legendgroup\":\"VOLVO\",\"marker\":{\"color\":\"#FF97FF\",\"pattern\":{\"shape\":\"\"}},\"name\":\"VOLVO\",\"offsetgroup\":\"VOLVO\",\"orientation\":\"h\",\"showlegend\":true,\"textposition\":\"auto\",\"x\":[21],\"xaxis\":\"x\",\"y\":[\"VOLVO\"],\"yaxis\":\"y\",\"type\":\"bar\"},{\"alignmentgroup\":\"True\",\"hovertemplate\":\"Car Make=%{y}<br>Model Year=2023<br>Number of EVs=%{x}<extra></extra>\",\"legendgroup\":\"VOLKSWAGEN\",\"marker\":{\"color\":\"#FECB52\",\"pattern\":{\"shape\":\"\"}},\"name\":\"VOLKSWAGEN\",\"offsetgroup\":\"VOLKSWAGEN\",\"orientation\":\"h\",\"showlegend\":true,\"textposition\":\"auto\",\"x\":[69],\"xaxis\":\"x\",\"y\":[\"VOLKSWAGEN\"],\"yaxis\":\"y\",\"type\":\"bar\"}],\"name\":\"2023\"}]);\n",
       "                        }).then(function(){\n",
       "                            \n",
       "var gd = document.getElementById('951e04f7-b10d-48b7-945d-a84af963e54e');\n",
       "var x = new MutationObserver(function (mutations, observer) {{\n",
       "        var display = window.getComputedStyle(gd).display;\n",
       "        if (!display || display === 'none') {{\n",
       "            console.log([gd, 'removed!']);\n",
       "            Plotly.purge(gd);\n",
       "            observer.disconnect();\n",
       "        }}\n",
       "}});\n",
       "\n",
       "// Listen for the removal of the full notebook cells\n",
       "var notebookContainer = gd.closest('#notebook-container');\n",
       "if (notebookContainer) {{\n",
       "    x.observe(notebookContainer, {childList: true});\n",
       "}}\n",
       "\n",
       "// Listen for the clearing of the current output cell\n",
       "var outputEl = gd.closest('.output');\n",
       "if (outputEl) {{\n",
       "    x.observe(outputEl, {childList: true});\n",
       "}}\n",
       "\n",
       "                        })                };                });            </script>        </div>"
      ]
     },
     "metadata": {},
     "output_type": "display_data"
    }
   ],
   "source": [
    "\n",
    "\n",
    "# Step 1: Group the data by 'Make' to calculate the total EV count for each make\n",
    "total_ev_by_make = df.groupby('Make')['Make'].count().sort_values(ascending=False).head(10).index\n",
    "\n",
    "# Step 2: Filter the DataFrame to include only the top 10 car makes\n",
    "filtered_df = df[df['Make'].isin(total_ev_by_make)]\n",
    "\n",
    "# Step 3: Group the filtered data by 'Model Year' and 'Make', and count the number of EVs\n",
    "ev_make_by_year = filtered_df.groupby(['Model Year', 'Make']).size().reset_index(name='EV Count')\n",
    "\n",
    "# Step 4: Create a list of the top 10 unique makes\n",
    "unique_makes = filtered_df['Make'].unique()\n",
    "\n",
    "# Step 5: Create a DataFrame of all years\n",
    "all_years = pd.DataFrame({'Model Year': sorted(filtered_df['Model Year'].unique())})\n",
    "\n",
    "# Step 6: Generate all combinations of 'Model Year' and the top 10 'Make'\n",
    "all_combinations = all_years.assign(key=1).merge(pd.DataFrame({'Make': unique_makes, 'key':1}), on='key').drop('key', axis=1)\n",
    "\n",
    "# Step 7: Merge the combinations with the grouped data, filling in missing values with 0\n",
    "ev_make_by_year_full = all_combinations.merge(ev_make_by_year, on=['Model Year', 'Make'], how='left').fillna(0)\n",
    "\n",
    "# Step 8: Convert 'EV Count' to integer\n",
    "ev_make_by_year_full['EV Count'] = ev_make_by_year_full['EV Count'].astype(int)\n",
    "\n",
    "# Step 9: Create the animated racing bar plot with increased height\n",
    "fig = px.bar(\n",
    "    ev_make_by_year_full,  # Data\n",
    "    x='EV Count',  # X-axis: count of EVs\n",
    "    y='Make',  # Y-axis: car Make\n",
    "    color='Make',  # Color by car Make\n",
    "    animation_frame='Model Year',  # Animation by year\n",
    "    orientation='h',  # Horizontal bar chart\n",
    "    title='Top 10 Electric Vehicle Makes Over the Years',  # Chart title\n",
    "    labels={'EV Count':'Number of EVs', 'Make':'Car Make'},  # Axis labels\n",
    "    range_x=[0, ev_make_by_year_full['EV Count'].max() * 1.1],  # Dynamically set x-axis range\n",
    "    height=800  # Set height for better visibility\n",
    ")\n",
    "\n",
    "# Step 10: Show the plot\n",
    "fig.show()\n"
   ]
  },
  {
   "cell_type": "code",
   "execution_count": 90,
   "id": "9c5e074f",
   "metadata": {},
   "outputs": [
    {
     "data": {
      "text/html": [
       "<div>\n",
       "<style scoped>\n",
       "    .dataframe tbody tr th:only-of-type {\n",
       "        vertical-align: middle;\n",
       "    }\n",
       "\n",
       "    .dataframe tbody tr th {\n",
       "        vertical-align: top;\n",
       "    }\n",
       "\n",
       "    .dataframe thead th {\n",
       "        text-align: right;\n",
       "    }\n",
       "</style>\n",
       "<table border=\"1\" class=\"dataframe\">\n",
       "  <thead>\n",
       "    <tr style=\"text-align: right;\">\n",
       "      <th></th>\n",
       "      <th>Model Year</th>\n",
       "      <th>Make</th>\n",
       "      <th>EV Count</th>\n",
       "    </tr>\n",
       "  </thead>\n",
       "  <tbody>\n",
       "    <tr>\n",
       "      <th>0</th>\n",
       "      <td>1997</td>\n",
       "      <td>TOYOTA</td>\n",
       "      <td>0</td>\n",
       "    </tr>\n",
       "    <tr>\n",
       "      <th>1</th>\n",
       "      <td>1997</td>\n",
       "      <td>CHEVROLET</td>\n",
       "      <td>1</td>\n",
       "    </tr>\n",
       "    <tr>\n",
       "      <th>2</th>\n",
       "      <td>1997</td>\n",
       "      <td>NISSAN</td>\n",
       "      <td>0</td>\n",
       "    </tr>\n",
       "    <tr>\n",
       "      <th>3</th>\n",
       "      <td>1997</td>\n",
       "      <td>FORD</td>\n",
       "      <td>0</td>\n",
       "    </tr>\n",
       "    <tr>\n",
       "      <th>4</th>\n",
       "      <td>1997</td>\n",
       "      <td>TESLA</td>\n",
       "      <td>0</td>\n",
       "    </tr>\n",
       "    <tr>\n",
       "      <th>...</th>\n",
       "      <td>...</td>\n",
       "      <td>...</td>\n",
       "      <td>...</td>\n",
       "    </tr>\n",
       "    <tr>\n",
       "      <th>195</th>\n",
       "      <td>2023</td>\n",
       "      <td>KIA</td>\n",
       "      <td>79</td>\n",
       "    </tr>\n",
       "    <tr>\n",
       "      <th>196</th>\n",
       "      <td>2023</td>\n",
       "      <td>AUDI</td>\n",
       "      <td>12</td>\n",
       "    </tr>\n",
       "    <tr>\n",
       "      <th>197</th>\n",
       "      <td>2023</td>\n",
       "      <td>BMW</td>\n",
       "      <td>73</td>\n",
       "    </tr>\n",
       "    <tr>\n",
       "      <th>198</th>\n",
       "      <td>2023</td>\n",
       "      <td>VOLVO</td>\n",
       "      <td>21</td>\n",
       "    </tr>\n",
       "    <tr>\n",
       "      <th>199</th>\n",
       "      <td>2023</td>\n",
       "      <td>VOLKSWAGEN</td>\n",
       "      <td>69</td>\n",
       "    </tr>\n",
       "  </tbody>\n",
       "</table>\n",
       "<p>200 rows × 3 columns</p>\n",
       "</div>"
      ],
      "text/plain": [
       "     Model Year        Make  EV Count\n",
       "0          1997      TOYOTA         0\n",
       "1          1997   CHEVROLET         1\n",
       "2          1997      NISSAN         0\n",
       "3          1997        FORD         0\n",
       "4          1997       TESLA         0\n",
       "..          ...         ...       ...\n",
       "195        2023         KIA        79\n",
       "196        2023        AUDI        12\n",
       "197        2023         BMW        73\n",
       "198        2023       VOLVO        21\n",
       "199        2023  VOLKSWAGEN        69\n",
       "\n",
       "[200 rows x 3 columns]"
      ]
     },
     "execution_count": 90,
     "metadata": {},
     "output_type": "execute_result"
    }
   ],
   "source": [
    "ev_make_by_year_full"
   ]
  },
  {
   "cell_type": "code",
   "execution_count": 92,
   "id": "c0e5ed0c",
   "metadata": {},
   "outputs": [
    {
     "data": {
      "image/png": "[encoded data removed]",
      "text/plain": [
       "<Figure size 1000x600 with 1 Axes>"
      ]
     },
     "metadata": {},
     "output_type": "display_data"
    }
   ],
   "source": [
    "plt.figure(figsize=(10, 6))\n",
    "sns.barplot(x='Make', y='EV Count', data=ev_make_by_year_full, estimator=sum)\n",
    "plt.xticks(rotation=45)\n",
    "plt.title('Total EV Count by Make')\n",
    "plt.show()\n"
   ]
  },
  {
   "cell_type": "code",
   "execution_count": 97,
   "id": "1b83f632",
   "metadata": {},
   "outputs": [
    {
     "data": {
      "image/png": "[encoded data removed]",
      "text/plain": [
       "<Figure size 800x600 with 1 Axes>"
      ]
     },
     "metadata": {},
     "output_type": "display_data"
    }
   ],
   "source": [
    "import seaborn as sns\n",
    "import matplotlib.pyplot as plt\n",
    "\n",
    "# Assuming df contains columns 'Year' and 'EV_count'\n",
    "plt.figure(figsize=(8, 6))\n",
    "sns.scatterplot(x='Model Year', y='EV Count',hue='Make' ,data=ev_make_by_year_full)\n",
    "plt.title('EV Count Over the Years')\n",
    "plt.show()\n"
   ]
  },
  {
   "cell_type": "code",
   "execution_count": null,
   "id": "d69f715c",
   "metadata": {},
   "outputs": [],
   "source": []
  }
 ],
 "metadata": {
  "kernelspec": {
   "display_name": "Python 3 (ipykernel)",
   "language": "python",
   "name": "python3"
  },
  "language_info": {
   "codemirror_mode": {
    "name": "ipython",
    "version": 3
   },
   "file_extension": ".py",
   "mimetype": "text/x-python",
   "name": "python",
   "nbconvert_exporter": "python",
   "pygments_lexer": "ipython3",
   "version": "3.11.7"
  }
 },
 "nbformat": 4,
 "nbformat_minor": 5
}
